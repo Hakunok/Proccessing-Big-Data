{
  "nbformat": 4,
  "nbformat_minor": 0,
  "metadata": {
    "colab": {
      "provenance": []
    },
    "kernelspec": {
      "name": "python3",
      "display_name": "Python 3"
    },
    "language_info": {
      "name": "python"
    }
  },
  "cells": [
    {
      "cell_type": "code",
      "execution_count": 123,
      "metadata": {
        "id": "nSZdbLhuEMQX"
      },
      "outputs": [],
      "source": [
        "# Sklearn\n",
        "from sklearn.model_selection import train_test_split, KFold\n",
        "from sklearn.metrics import accuracy_score, f1_score\n",
        "\n",
        "# Plotting tools\n",
        "import matplotlib.pyplot as plt\n",
        "\n",
        "# Other modules\n",
        "import pandas as pd\n",
        "import numpy as np"
      ]
    },
    {
      "cell_type": "code",
      "source": [
        "# Load training and testing data\n",
        "train_data = pd.read_csv('train_midterm.csv')\n",
        "test_data = pd.read_csv('test_midterm.csv')\n",
        "\n",
        "X = train_data.drop(labels=\"label\", axis=1).values\n",
        "y = train_data[\"label\"].values\n",
        "\n",
        "X_test = test_data.drop(labels=\"label\", axis=1).values\n",
        "y_test = test_data[\"label\"].values\n",
        "\n",
        "print(f\"Shape of X: {X.shape}\")\n",
        "print(f\"Shape of y: {y.shape}\")"
      ],
      "metadata": {
        "colab": {
          "base_uri": "https://localhost:8080/"
        },
        "id": "6pKrFigRESuz",
        "outputId": "3f500764-d6c8-4b85-9753-f614b1e8be0c"
      },
      "execution_count": 124,
      "outputs": [
        {
          "output_type": "stream",
          "name": "stdout",
          "text": [
            "Shape of X: (4459, 1364)\n",
            "Shape of y: (4459,)\n"
          ]
        }
      ]
    },
    {
      "cell_type": "code",
      "source": [
        "class LogisticRegression:\n",
        "\n",
        "  def __init__(self, learning_rate=0.01, epochs=100):\n",
        "        self.learning_rate = learning_rate\n",
        "        self.epochs = epochs\n",
        "        self.weights = None\n",
        "        self.train_losses = []  # Store training losses for each epoch\n",
        "        self.val_losses = []  # Store validation losses for each epoch\n",
        "\n",
        "  # Initialize the weights\n",
        "  def initialize_W(self, features):\n",
        "    self.weights = np.zeros(features)\n",
        "    return self.weights\n",
        "\n",
        "  # Sigmoid function\n",
        "  def sigmoid(self, z):\n",
        "    return 1 / (1 + np.exp(-z))\n",
        "\n",
        "  # log = logistics\n",
        "  def log_loss(self, y_true, y_pred):\n",
        "    y_pred = np.clip(y_pred, 1e-15, 1 - 1e-15)\n",
        "    return -np.mean(y_true * np.log(y_pred) + (1 - y_true) * np.log(1 - y_pred))\n",
        "\n",
        "  def fit(self, X, y, X_val, y_val):\n",
        "        n_samples = X.shape[0]\n",
        "        self.initialize_W(X.shape[1])\n",
        "\n",
        "        for epoch in range(self.epochs):\n",
        "            for i in range(n_samples):\n",
        "\n",
        "                # Compute the linear combination of weights and features\n",
        "                linear_model = np.dot(X[i], self.weights)\n",
        "                y_pred = self.sigmoid(linear_model)\n",
        "\n",
        "                # Update weights using SGD\n",
        "                gradient = (y_pred - y[i]) * X[i]\n",
        "                self.weights -= self.learning_rate * gradient\n",
        "\n",
        "            # Calculate and store training and validation loss for this epoch\n",
        "            train_loss = self.log_loss(y, self.predict_prob(X))\n",
        "            val_loss = self.log_loss(y_val, self.predict_prob(X_val))\n",
        "            self.train_losses.append(train_loss)\n",
        "            self.val_losses.append(val_loss)\n",
        "        return self.weights\n",
        "\n",
        "  def predict_prob(self, X):\n",
        "    linear_model = np.dot(X, self.weights)\n",
        "    return self.sigmoid(linear_model)\n",
        "\n",
        "  def predict(self, X, threshold=0.5):\n",
        "    probabilities = self.predict_prob(X)\n",
        "    return (probabilities >= threshold).astype(int)\n",
        "\n"
      ],
      "metadata": {
        "id": "BnKpH9aYKK7G"
      },
      "execution_count": 125,
      "outputs": []
    },
    {
      "cell_type": "code",
      "source": [
        " # For storing evaluation outputs\n",
        "results = []\n",
        "#all_train_losses = []\n",
        "#all_val_losses = []\n",
        "\n",
        " # Define the Hyperparameters\n",
        "learning_rates = [0.1, 0.01, 0.001]\n",
        "epochs = [50, 200, 500]\n",
        "\n",
        " # For storing the best parameters\n",
        "best_learning_rate = None\n",
        "best_epoch = None\n",
        "best_loss = float('inf')\n",
        "best_model = None\n"
      ],
      "metadata": {
        "id": "NVC4wFG9Yh2v"
      },
      "execution_count": 126,
      "outputs": []
    },
    {
      "cell_type": "code",
      "source": [
        "# Going through the all possible combinations of the hyperparameters\n",
        "for learn_rate in learning_rates:\n",
        "   for epoch in epochs:\n",
        "      # For storing the train and val loss for one hyperparameter combination\n",
        "      train_losses = []\n",
        "      val_losses = []\n",
        "\n",
        "      # N fold cross validation starts\n",
        "      for train_index, val_index in KFold(n_splits=5, shuffle=True, random_state=777).split(X):\n",
        "            # Splitting data train and data validation\n",
        "            X_train, X_val = X[train_index], X[val_index]\n",
        "            y_train, y_val = y[train_index], y[val_index]\n",
        "\n",
        "            # Define and train the model\n",
        "            model = LogisticRegression(learning_rate=learn_rate, epochs=epoch)\n",
        "            model.fit(X_train, y_train, X_val, y_val)\n",
        "\n",
        "            # Evaluate the model on the training and validation set\n",
        "            train_loss = model.log_loss(y_train, model.predict_prob(X_train))\n",
        "            val_loss = model.log_loss(y_val, model.predict_prob(X_val))\n",
        "            train_losses.append(train_loss)\n",
        "            val_losses.append(val_loss)\n",
        "\n",
        "      avg_train_loss = np.mean(train_losses)\n",
        "      avg_val_loss = np.mean(val_losses)\n",
        "\n",
        "      print(f\"Mean training loss: {avg_train_loss :.4f} -- Mean validation loss: {avg_val_loss:.4f} -- Hyperparameters: (Learning rate: {learn_rate}, Epoch: {epoch})\")\n",
        "\n",
        "      results.append((learn_rate, epoch, avg_train_loss, avg_val_loss))\n",
        "      #all_train_losses.extend(train_losses)\n",
        "      #all_val_losses.extend(val_losses)\n",
        "      # Determining the hyperparameters with the best loss\n",
        "      if avg_val_loss < best_loss:\n",
        "        best_loss = avg_val_loss\n",
        "        best_learning_rate = learn_rate\n",
        "        best_epoch = epoch\n",
        "        best_model = model\n",
        "\n",
        "print(f\"\\n--------------------- Best Spam Detection with Hyperparameters = (Best Learning rate: {best_learning_rate}, Best Epoch: {best_epoch}) ---------------------\")\n",
        "print(f\"\\nTraining Loss: {best_loss : .4f}\")\n"
      ],
      "metadata": {
        "colab": {
          "base_uri": "https://localhost:8080/"
        },
        "id": "_nKrzS8QYfY3",
        "outputId": "21b128fa-b5a9-4fea-c742-bad9a40fc309"
      },
      "execution_count": 127,
      "outputs": [
        {
          "output_type": "stream",
          "name": "stdout",
          "text": [
            "Mean training loss: 0.0326 -- Mean validation loss: 0.1371 -- Hyperparameters: (Learning rate: 0.1, Epoch: 50)\n",
            "Mean training loss: 0.0173 -- Mean validation loss: 0.1695 -- Hyperparameters: (Learning rate: 0.1, Epoch: 200)\n",
            "Mean training loss: 0.0128 -- Mean validation loss: 0.2062 -- Hyperparameters: (Learning rate: 0.1, Epoch: 500)\n",
            "Mean training loss: 0.0997 -- Mean validation loss: 0.1479 -- Hyperparameters: (Learning rate: 0.01, Epoch: 50)\n",
            "Mean training loss: 0.0523 -- Mean validation loss: 0.1320 -- Hyperparameters: (Learning rate: 0.01, Epoch: 200)\n",
            "Mean training loss: 0.0330 -- Mean validation loss: 0.1370 -- Hyperparameters: (Learning rate: 0.01, Epoch: 500)\n",
            "Mean training loss: 0.2274 -- Mean validation loss: 0.2429 -- Hyperparameters: (Learning rate: 0.001, Epoch: 50)\n",
            "Mean training loss: 0.1424 -- Mean validation loss: 0.1737 -- Hyperparameters: (Learning rate: 0.001, Epoch: 200)\n",
            "Mean training loss: 0.0999 -- Mean validation loss: 0.1480 -- Hyperparameters: (Learning rate: 0.001, Epoch: 500)\n",
            "\n",
            "--------------------- Best Spam Detection with Hyperparameters = (Best Learning rate: 0.01, Best Epoch: 200) ---------------------\n",
            "\n",
            "Training Loss:  0.1320\n"
          ]
        }
      ]
    },
    {
      "cell_type": "code",
      "source": [
        " # Using the model for the test data\n",
        "y_test_predict_prob = best_model.predict_prob(X_test)\n",
        "y_test_predict = best_model.predict(X_test)\n",
        "\n",
        "loss = best_model.log_loss(y_test, y_test_predict_prob)\n",
        "accuracy = accuracy_score(y_test, y_test_predict)\n",
        "f1 = f1_score(y_test, y_test_predict)\n",
        "\n",
        "print(f\"Test Loss: {loss : .4f}\")\n",
        "print(f\"Test Accuracy: {accuracy : .4f}\")\n",
        "print(f\"Test F1 Score: {f1 : .4f}\")\n",
        "\n",
        " # Plot training and validation loss curves\n",
        "plt.plot(range(1, best_model.epochs + 1), best_model.train_losses, label='Training Loss')\n",
        "plt.plot(range(1, best_model.epochs + 1), best_model.val_losses, label='Validation Loss')\n",
        "plt.xlabel('Epochs')\n",
        "plt.ylabel('Loss')\n",
        "plt.title('Training and Validation Loss Curves')\n",
        "plt.legend()\n",
        "plt.show()"
      ],
      "metadata": {
        "colab": {
          "base_uri": "https://localhost:8080/",
          "height": 524
        },
        "id": "7E4CwJ79cEmZ",
        "outputId": "127c4c8a-4dc7-4836-8f07-ce1c0ceaaf5a"
      },
      "execution_count": 128,
      "outputs": [
        {
          "output_type": "stream",
          "name": "stdout",
          "text": [
            "Test Loss:  0.1235\n",
            "Test Accuracy:  0.9570\n",
            "Test F1 Score:  0.8596\n"
          ]
        },
        {
          "output_type": "display_data",
          "data": {
            "text/plain": [
              "<Figure size 640x480 with 1 Axes>"
            ],
            "image/png": "[encoded data removed]"
          },
          "metadata": {}
        }
      ]
    }
  ]
}