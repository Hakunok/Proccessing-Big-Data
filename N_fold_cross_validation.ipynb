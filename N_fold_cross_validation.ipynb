{
  "nbformat": 4,
  "nbformat_minor": 0,
  "metadata": {
    "colab": {
      "provenance": []
    },
    "kernelspec": {
      "name": "python3",
      "display_name": "Python 3"
    },
    "language_info": {
      "name": "python"
    }
  },
  "cells": [
    {
      "cell_type": "markdown",
      "source": [
        "Importing the libaries"
      ],
      "metadata": {
        "id": "7hp3nKiOigz-"
      }
    },
    {
      "cell_type": "code",
      "execution_count": null,
      "metadata": {
        "id": "i509p4aMReto"
      },
      "outputs": [],
      "source": [
        "# Sklearn\n",
        "from sklearn.model_selection import train_test_split, KFold\n",
        "\n",
        "# Tensorflow\n",
        "import keras\n",
        "import tensorflow as tf\n",
        "from tensorflow.keras.layers import Dense, Input\n",
        "from tensorflow.keras.models import Sequential, Model\n",
        "\n",
        "# Plotting tools\n",
        "import matplotlib.pyplot as plt\n",
        "\n",
        "# Other modules\n",
        "import pandas as pd\n",
        "import numpy as np"
      ]
    },
    {
      "cell_type": "markdown",
      "source": [
        "Load the data and check for Not a Number (Nan)"
      ],
      "metadata": {
        "id": "0x67aISlimRu"
      }
    },
    {
      "cell_type": "code",
      "source": [
        "# Load training and testing data\n",
        "train_data = pd.read_csv('train-1.csv')\n",
        "test_data = pd.read_csv('test.csv')\n",
        "\n",
        "# Check for nan and dupes data\n",
        "print(train_data.isna().sum())\n",
        "print(\"-\"*30)\n",
        "print(f\"Number of NaN values: {train_data.isna().sum().sum()}\")\n",
        "\n",
        "print(test_data.isna().sum())\n",
        "print(\"-\"*30)\n",
        "print(f\"Number of NaN values: {test_data.isna().sum().sum()}\")"
      ],
      "metadata": {
        "colab": {
          "base_uri": "https://localhost:8080/"
        },
        "id": "Cw7VIBc69RSF",
        "outputId": "32f36bd0-e1ab-4604-ed81-2dcdc9ca23a8"
      },
      "execution_count": null,
      "outputs": [
        {
          "output_type": "stream",
          "name": "stdout",
          "text": [
            "arousal                   0\n",
            "dynamics_rms_mean         0\n",
            "dynamics_rms_std          0\n",
            "pitch_pitch_mean          0\n",
            "rhythm_attacktime_mean    0\n",
            "                         ..\n",
            "tonal_hcdf_std            0\n",
            "tonal_keyclarity_mean     0\n",
            "tonal_keyclarity_std      0\n",
            "tonal_mode_mean           0\n",
            "tonal_mode_std            0\n",
            "Length: 69, dtype: int64\n",
            "------------------------------\n",
            "Number of NaN values: 0\n",
            "arousal                   0\n",
            "dynamics_rms_mean         0\n",
            "dynamics_rms_std          0\n",
            "pitch_pitch_mean          0\n",
            "rhythm_attacktime_mean    0\n",
            "                         ..\n",
            "tonal_hcdf_std            0\n",
            "tonal_keyclarity_mean     0\n",
            "tonal_keyclarity_std      0\n",
            "tonal_mode_mean           0\n",
            "tonal_mode_std            0\n",
            "Length: 69, dtype: int64\n",
            "------------------------------\n",
            "Number of NaN values: 0\n"
          ]
        }
      ]
    },
    {
      "cell_type": "markdown",
      "source": [
        "Assigning the X with everything except the \"arousal\" column, and Y with just the \"arousal\" column"
      ],
      "metadata": {
        "id": "nFDuI8cji3IY"
      }
    },
    {
      "cell_type": "code",
      "source": [
        "X = train_data.drop(labels=\"arousal\", axis=1).values\n",
        "y = train_data[\"arousal\"].values\n",
        "\n",
        "print(f\"Shape of X: {X.shape}\")\n",
        "print(f\"Shape of y: {y.shape}\")"
      ],
      "metadata": {
        "colab": {
          "base_uri": "https://localhost:8080/"
        },
        "id": "o5823ddO9Ria",
        "outputId": "8e3ce98d-214c-4358-d5f0-be42590bc617"
      },
      "execution_count": null,
      "outputs": [
        {
          "output_type": "stream",
          "name": "stdout",
          "text": [
            "Shape of X: (500, 68)\n",
            "Shape of y: (500,)\n"
          ]
        }
      ]
    },
    {
      "cell_type": "markdown",
      "source": [
        "Defining the MLP Model with the learning rate (0.0001)"
      ],
      "metadata": {
        "id": "PdWdT1eKiDA_"
      }
    },
    {
      "cell_type": "code",
      "source": [
        " # For storing evaluation outputs\n",
        " results = []\n",
        "\n",
        " # Define the Hyperparameters\n",
        " widths = [32, 1024]\n",
        " depths = [2, 4]\n",
        "\n",
        " # For storing the best parameters\n",
        " best_width = None\n",
        " best_depth = None\n",
        " best_loss = float('inf')\n",
        " best_model = None\n",
        "\n",
        " # Going through the all possible combinations of the hyperparameters\n",
        " for width in widths:\n",
        "   for depth in depths:\n",
        "      print(f\"Width: {width}, Depth: {depth}\")\n",
        "\n",
        "      # For storing the train and val loss for one hyperparameter combination\n",
        "      train_losses = []\n",
        "      val_losses = []\n",
        "\n",
        "      # N fold cross validation starts\n",
        "      for train_index, val_index in KFold(n_splits=5, shuffle=True, random_state=777).split(X):\n",
        "            # Splitting data train and data validation\n",
        "            X_train, X_val = X[train_index], X[val_index]\n",
        "            y_train, y_val = y[train_index], y[val_index]\n",
        "\n",
        "            # Define the model\n",
        "            model = tf.keras.models.Sequential()\n",
        "              # Input layer\n",
        "            model.add(tf.keras.layers.Input(shape=(X_train.shape[1],)))   # or tf.keras.layers.Dense(128, activation='relu', input_shape=(X_train1.shape[1],))\n",
        "\n",
        "              # Hidden layers\n",
        "            for _ in range(depth):\n",
        "              model.add(tf.keras.layers.Dense(width, activation='relu'))\n",
        "              # Output layer\n",
        "            model.add(tf.keras.layers.Dense(1, activation='linear'))\n",
        "\n",
        "            # Compile the model, mse = Mean Square Error, mae = Mean Absolute Error\n",
        "            model.compile(optimizer = tf.keras.optimizers.Adam(learning_rate=0.001), loss='mse', metrics=['mae'])\n",
        "\n",
        "            model.summary()\n",
        "            # Train the model\n",
        "            history = model.fit(\n",
        "                x=X_train,\n",
        "                y=y_train,\n",
        "                epochs=60,\n",
        "                batch_size=8,\n",
        "                validation_data=(X_val, y_val),\n",
        "                verbose=2,\n",
        "                callbacks=[tf.keras.callbacks.EarlyStopping(monitor='val_loss', patience=7, restore_best_weights=True)]\n",
        "              )\n",
        "            # Evaluate the model on the training and validation set\n",
        "            train_loss = model.evaluate(X_train, y_train, verbose = 0)\n",
        "            val_loss = model.evaluate(X_val, y_val, verbose = 0)\n",
        "            train_losses.append(train_loss)\n",
        "            val_losses.append(val_loss)\n",
        "\n",
        "      avg_train_loss = np.mean(train_losses)\n",
        "      avg_val_loss = np.mean(val_losses)\n",
        "      print(f\"Mean training loss: {avg_train_loss :.4f} -- Mean validation loss: {avg_val_loss:.4f} -- Hyperparameters: (Width: {width}, Depth: {depth})\")\n",
        "\n",
        "      results.append((width, depth, avg_train_loss, avg_val_loss))\n",
        "      # Determining the hyperparameters with the best loss\n",
        "      if avg_val_loss < best_loss:\n",
        "        best_loss = avg_val_loss\n",
        "        best_width = width\n",
        "        best_depth = depth\n",
        "        best_model = model\n",
        " print(f\"\\n--------------------- Best Random Audio Classifier with Hyperparameters = (Best Width: {best_width}, Best Depth: {best_depth}) ---------------------\")\n",
        " print(f\"\\nTraining Loss: {best_loss : .4f}\")\n",
        "\n",
        " # Test data\n",
        " X_test1 = test_data.drop([\"arousal\"], axis=1).values\n",
        " y_test1 = test_data[\"arousal\"].values\n",
        "\n",
        " loss = best_model.evaluate(X_test1, y_test1, verbose=0)\n",
        " print(f\"Test Loss: {loss}\")\n",
        "\n",
        " predictions = best_model.predict(X_test1)\n",
        " predictions\n",
        " for i in range(len(y_test1)):\n",
        "  print(f\"Target: {y_test1[i]} -- Prediction: {predictions[i][0]}\")"
      ],
      "metadata": {
        "colab": {
          "base_uri": "https://localhost:8080/",
          "height": 1000
        },
        "id": "2DtUofYZ9mSx",
        "outputId": "1cc9dcf7-2ebb-41fc-f5e7-9040175a5601"
      },
      "execution_count": null,
      "outputs": [
        {
          "output_type": "stream",
          "name": "stdout",
          "text": [
            "Width: 32, Depth: 2\n"
          ]
        },
        {
          "output_type": "display_data",
          "data": {
            "text/plain": [
              "\u001b[1mModel: \"sequential\"\u001b[0m\n"
            ],
            "text/html": [
              "<pre style=\"white-space:pre;overflow-x:auto;line-height:normal;font-family:Menlo,'DejaVu Sans Mono',consolas,'Courier New',monospace\"><span style=\"font-weight: bold\">Model: \"sequential\"</span>\n",
              "</pre>\n"
            ]
          },
          "metadata": {}
        },
        {
          "output_type": "display_data",
          "data": {
            "text/plain": [
              "┏━━━━━━━━━━━━━━━━━━━━━━━━━━━━━━━━━━━━━━┳━━━━━━━━━━━━━━━━━━━━━━━━━━━━━┳━━━━━━━━━━━━━━━━━┓\n",
              "┃\u001b[1m \u001b[0m\u001b[1mLayer (type)                        \u001b[0m\u001b[1m \u001b[0m┃\u001b[1m \u001b[0m\u001b[1mOutput Shape               \u001b[0m\u001b[1m \u001b[0m┃\u001b[1m \u001b[0m\u001b[1m        Param #\u001b[0m\u001b[1m \u001b[0m┃\n",
              "┡━━━━━━━━━━━━━━━━━━━━━━━━━━━━━━━━━━━━━━╇━━━━━━━━━━━━━━━━━━━━━━━━━━━━━╇━━━━━━━━━━━━━━━━━┩\n",
              "│ dense (\u001b[38;5;33mDense\u001b[0m)                        │ (\u001b[38;5;45mNone\u001b[0m, \u001b[38;5;34m32\u001b[0m)                  │           \u001b[38;5;34m2,208\u001b[0m │\n",
              "├──────────────────────────────────────┼─────────────────────────────┼─────────────────┤\n",
              "│ dense_1 (\u001b[38;5;33mDense\u001b[0m)                      │ (\u001b[38;5;45mNone\u001b[0m, \u001b[38;5;34m32\u001b[0m)                  │           \u001b[38;5;34m1,056\u001b[0m │\n",
              "├──────────────────────────────────────┼─────────────────────────────┼─────────────────┤\n",
              "│ dense_2 (\u001b[38;5;33mDense\u001b[0m)                      │ (\u001b[38;5;45mNone\u001b[0m, \u001b[38;5;34m1\u001b[0m)                   │              \u001b[38;5;34m33\u001b[0m │\n",
              "└──────────────────────────────────────┴─────────────────────────────┴─────────────────┘\n"
            ],
            "text/html": [
              "<pre style=\"white-space:pre;overflow-x:auto;line-height:normal;font-family:Menlo,'DejaVu Sans Mono',consolas,'Courier New',monospace\">┏━━━━━━━━━━━━━━━━━━━━━━━━━━━━━━━━━━━━━━┳━━━━━━━━━━━━━━━━━━━━━━━━━━━━━┳━━━━━━━━━━━━━━━━━┓\n",
              "┃<span style=\"font-weight: bold\"> Layer (type)                         </span>┃<span style=\"font-weight: bold\"> Output Shape                </span>┃<span style=\"font-weight: bold\">         Param # </span>┃\n",
              "┡━━━━━━━━━━━━━━━━━━━━━━━━━━━━━━━━━━━━━━╇━━━━━━━━━━━━━━━━━━━━━━━━━━━━━╇━━━━━━━━━━━━━━━━━┩\n",
              "│ dense (<span style=\"color: #0087ff; text-decoration-color: #0087ff\">Dense</span>)                        │ (<span style=\"color: #00d7ff; text-decoration-color: #00d7ff\">None</span>, <span style=\"color: #00af00; text-decoration-color: #00af00\">32</span>)                  │           <span style=\"color: #00af00; text-decoration-color: #00af00\">2,208</span> │\n",
              "├──────────────────────────────────────┼─────────────────────────────┼─────────────────┤\n",
              "│ dense_1 (<span style=\"color: #0087ff; text-decoration-color: #0087ff\">Dense</span>)                      │ (<span style=\"color: #00d7ff; text-decoration-color: #00d7ff\">None</span>, <span style=\"color: #00af00; text-decoration-color: #00af00\">32</span>)                  │           <span style=\"color: #00af00; text-decoration-color: #00af00\">1,056</span> │\n",
              "├──────────────────────────────────────┼─────────────────────────────┼─────────────────┤\n",
              "│ dense_2 (<span style=\"color: #0087ff; text-decoration-color: #0087ff\">Dense</span>)                      │ (<span style=\"color: #00d7ff; text-decoration-color: #00d7ff\">None</span>, <span style=\"color: #00af00; text-decoration-color: #00af00\">1</span>)                   │              <span style=\"color: #00af00; text-decoration-color: #00af00\">33</span> │\n",
              "└──────────────────────────────────────┴─────────────────────────────┴─────────────────┘\n",
              "</pre>\n"
            ]
          },
          "metadata": {}
        },
        {
          "output_type": "display_data",
          "data": {
            "text/plain": [
              "\u001b[1m Total params: \u001b[0m\u001b[38;5;34m3,297\u001b[0m (12.88 KB)\n"
            ],
            "text/html": [
              "<pre style=\"white-space:pre;overflow-x:auto;line-height:normal;font-family:Menlo,'DejaVu Sans Mono',consolas,'Courier New',monospace\"><span style=\"font-weight: bold\"> Total params: </span><span style=\"color: #00af00; text-decoration-color: #00af00\">3,297</span> (12.88 KB)\n",
              "</pre>\n"
            ]
          },
          "metadata": {}
        },
        {
          "output_type": "display_data",
          "data": {
            "text/plain": [
              "\u001b[1m Trainable params: \u001b[0m\u001b[38;5;34m3,297\u001b[0m (12.88 KB)\n"
            ],
            "text/html": [
              "<pre style=\"white-space:pre;overflow-x:auto;line-height:normal;font-family:Menlo,'DejaVu Sans Mono',consolas,'Courier New',monospace\"><span style=\"font-weight: bold\"> Trainable params: </span><span style=\"color: #00af00; text-decoration-color: #00af00\">3,297</span> (12.88 KB)\n",
              "</pre>\n"
            ]
          },
          "metadata": {}
        },
        {
          "output_type": "display_data",
          "data": {
            "text/plain": [
              "\u001b[1m Non-trainable params: \u001b[0m\u001b[38;5;34m0\u001b[0m (0.00 B)\n"
            ],
            "text/html": [
              "<pre style=\"white-space:pre;overflow-x:auto;line-height:normal;font-family:Menlo,'DejaVu Sans Mono',consolas,'Courier New',monospace\"><span style=\"font-weight: bold\"> Non-trainable params: </span><span style=\"color: #00af00; text-decoration-color: #00af00\">0</span> (0.00 B)\n",
              "</pre>\n"
            ]
          },
          "metadata": {}
        },
        {
          "output_type": "stream",
          "name": "stdout",
          "text": [
            "Epoch 1/60\n",
            "50/50 - 2s - 39ms/step - loss: 731233.3750 - mae: 548.0731 - val_loss: 48330.4414 - val_mae: 174.9479\n",
            "Epoch 2/60\n",
            "50/50 - 1s - 16ms/step - loss: 15248.2617 - mae: 87.1657 - val_loss: 4994.0264 - val_mae: 56.1384\n",
            "Epoch 3/60\n",
            "50/50 - 0s - 6ms/step - loss: 5197.6948 - mae: 52.7256 - val_loss: 2859.7476 - val_mae: 40.7148\n",
            "Epoch 4/60\n",
            "50/50 - 0s - 6ms/step - loss: 3784.9277 - mae: 44.4622 - val_loss: 2903.0227 - val_mae: 41.4704\n",
            "Epoch 5/60\n",
            "50/50 - 0s - 4ms/step - loss: 3016.3843 - mae: 40.0489 - val_loss: 1985.6925 - val_mae: 33.8975\n",
            "Epoch 6/60\n",
            "50/50 - 0s - 4ms/step - loss: 2891.9099 - mae: 37.9361 - val_loss: 2221.2468 - val_mae: 35.2741\n",
            "Epoch 7/60\n",
            "50/50 - 0s - 7ms/step - loss: 2121.8994 - mae: 32.5211 - val_loss: 1592.4519 - val_mae: 29.8288\n",
            "Epoch 8/60\n",
            "50/50 - 0s - 5ms/step - loss: 1719.7091 - mae: 30.0327 - val_loss: 1443.9716 - val_mae: 28.8028\n",
            "Epoch 9/60\n",
            "50/50 - 0s - 6ms/step - loss: 1808.5465 - mae: 28.6098 - val_loss: 1272.1708 - val_mae: 26.5573\n",
            "Epoch 10/60\n",
            "50/50 - 0s - 6ms/step - loss: 1543.8098 - mae: 26.2810 - val_loss: 1598.4781 - val_mae: 30.0107\n",
            "Epoch 11/60\n",
            "50/50 - 0s - 4ms/step - loss: 1552.1045 - mae: 26.5516 - val_loss: 1293.6821 - val_mae: 24.7316\n",
            "Epoch 12/60\n",
            "50/50 - 0s - 3ms/step - loss: 1296.0297 - mae: 23.6645 - val_loss: 999.8962 - val_mae: 22.3660\n",
            "Epoch 13/60\n",
            "50/50 - 0s - 6ms/step - loss: 1018.1716 - mae: 21.3994 - val_loss: 756.5103 - val_mae: 19.8535\n",
            "Epoch 14/60\n",
            "50/50 - 0s - 9ms/step - loss: 1064.8149 - mae: 21.6568 - val_loss: 897.8259 - val_mae: 21.3763\n",
            "Epoch 15/60\n",
            "50/50 - 1s - 11ms/step - loss: 879.5174 - mae: 20.8059 - val_loss: 661.8663 - val_mae: 18.4275\n",
            "Epoch 16/60\n",
            "50/50 - 0s - 6ms/step - loss: 869.5324 - mae: 20.1351 - val_loss: 985.9556 - val_mae: 23.3254\n",
            "Epoch 17/60\n",
            "50/50 - 0s - 7ms/step - loss: 882.9210 - mae: 18.3005 - val_loss: 672.3038 - val_mae: 18.1475\n",
            "Epoch 18/60\n",
            "50/50 - 0s - 6ms/step - loss: 697.3448 - mae: 17.6103 - val_loss: 685.7670 - val_mae: 18.6494\n",
            "Epoch 19/60\n",
            "50/50 - 0s - 6ms/step - loss: 812.0696 - mae: 18.3134 - val_loss: 1095.6759 - val_mae: 20.9873\n",
            "Epoch 20/60\n",
            "50/50 - 0s - 5ms/step - loss: 914.6555 - mae: 19.4616 - val_loss: 664.1476 - val_mae: 19.2250\n",
            "Epoch 21/60\n",
            "50/50 - 0s - 4ms/step - loss: 591.3547 - mae: 16.1448 - val_loss: 417.7389 - val_mae: 14.3736\n",
            "Epoch 22/60\n",
            "50/50 - 0s - 6ms/step - loss: 591.9383 - mae: 16.0808 - val_loss: 710.2184 - val_mae: 16.7763\n",
            "Epoch 23/60\n",
            "50/50 - 0s - 6ms/step - loss: 670.0673 - mae: 16.6791 - val_loss: 1674.6150 - val_mae: 33.9451\n",
            "Epoch 24/60\n",
            "50/50 - 0s - 4ms/step - loss: 975.4155 - mae: 22.2110 - val_loss: 794.1781 - val_mae: 18.5965\n",
            "Epoch 25/60\n",
            "50/50 - 0s - 6ms/step - loss: 621.9492 - mae: 15.1371 - val_loss: 479.8302 - val_mae: 14.0802\n",
            "Epoch 26/60\n",
            "50/50 - 0s - 6ms/step - loss: 461.3687 - mae: 13.5345 - val_loss: 465.3574 - val_mae: 13.8123\n",
            "Epoch 27/60\n",
            "50/50 - 0s - 6ms/step - loss: 485.1349 - mae: 14.9991 - val_loss: 751.5971 - val_mae: 16.4975\n",
            "Epoch 28/60\n",
            "50/50 - 0s - 6ms/step - loss: 529.9577 - mae: 14.3877 - val_loss: 498.3056 - val_mae: 15.4517\n"
          ]
        },
        {
          "output_type": "display_data",
          "data": {
            "text/plain": [
              "\u001b[1mModel: \"sequential_1\"\u001b[0m\n"
            ],
            "text/html": [
              "<pre style=\"white-space:pre;overflow-x:auto;line-height:normal;font-family:Menlo,'DejaVu Sans Mono',consolas,'Courier New',monospace\"><span style=\"font-weight: bold\">Model: \"sequential_1\"</span>\n",
              "</pre>\n"
            ]
          },
          "metadata": {}
        },
        {
          "output_type": "display_data",
          "data": {
            "text/plain": [
              "┏━━━━━━━━━━━━━━━━━━━━━━━━━━━━━━━━━━━━━━┳━━━━━━━━━━━━━━━━━━━━━━━━━━━━━┳━━━━━━━━━━━━━━━━━┓\n",
              "┃\u001b[1m \u001b[0m\u001b[1mLayer (type)                        \u001b[0m\u001b[1m \u001b[0m┃\u001b[1m \u001b[0m\u001b[1mOutput Shape               \u001b[0m\u001b[1m \u001b[0m┃\u001b[1m \u001b[0m\u001b[1m        Param #\u001b[0m\u001b[1m \u001b[0m┃\n",
              "┡━━━━━━━━━━━━━━━━━━━━━━━━━━━━━━━━━━━━━━╇━━━━━━━━━━━━━━━━━━━━━━━━━━━━━╇━━━━━━━━━━━━━━━━━┩\n",
              "│ dense_3 (\u001b[38;5;33mDense\u001b[0m)                      │ (\u001b[38;5;45mNone\u001b[0m, \u001b[38;5;34m32\u001b[0m)                  │           \u001b[38;5;34m2,208\u001b[0m │\n",
              "├──────────────────────────────────────┼─────────────────────────────┼─────────────────┤\n",
              "│ dense_4 (\u001b[38;5;33mDense\u001b[0m)                      │ (\u001b[38;5;45mNone\u001b[0m, \u001b[38;5;34m32\u001b[0m)                  │           \u001b[38;5;34m1,056\u001b[0m │\n",
              "├──────────────────────────────────────┼─────────────────────────────┼─────────────────┤\n",
              "│ dense_5 (\u001b[38;5;33mDense\u001b[0m)                      │ (\u001b[38;5;45mNone\u001b[0m, \u001b[38;5;34m1\u001b[0m)                   │              \u001b[38;5;34m33\u001b[0m │\n",
              "└──────────────────────────────────────┴─────────────────────────────┴─────────────────┘\n"
            ],
            "text/html": [
              "<pre style=\"white-space:pre;overflow-x:auto;line-height:normal;font-family:Menlo,'DejaVu Sans Mono',consolas,'Courier New',monospace\">┏━━━━━━━━━━━━━━━━━━━━━━━━━━━━━━━━━━━━━━┳━━━━━━━━━━━━━━━━━━━━━━━━━━━━━┳━━━━━━━━━━━━━━━━━┓\n",
              "┃<span style=\"font-weight: bold\"> Layer (type)                         </span>┃<span style=\"font-weight: bold\"> Output Shape                </span>┃<span style=\"font-weight: bold\">         Param # </span>┃\n",
              "┡━━━━━━━━━━━━━━━━━━━━━━━━━━━━━━━━━━━━━━╇━━━━━━━━━━━━━━━━━━━━━━━━━━━━━╇━━━━━━━━━━━━━━━━━┩\n",
              "│ dense_3 (<span style=\"color: #0087ff; text-decoration-color: #0087ff\">Dense</span>)                      │ (<span style=\"color: #00d7ff; text-decoration-color: #00d7ff\">None</span>, <span style=\"color: #00af00; text-decoration-color: #00af00\">32</span>)                  │           <span style=\"color: #00af00; text-decoration-color: #00af00\">2,208</span> │\n",
              "├──────────────────────────────────────┼─────────────────────────────┼─────────────────┤\n",
              "│ dense_4 (<span style=\"color: #0087ff; text-decoration-color: #0087ff\">Dense</span>)                      │ (<span style=\"color: #00d7ff; text-decoration-color: #00d7ff\">None</span>, <span style=\"color: #00af00; text-decoration-color: #00af00\">32</span>)                  │           <span style=\"color: #00af00; text-decoration-color: #00af00\">1,056</span> │\n",
              "├──────────────────────────────────────┼─────────────────────────────┼─────────────────┤\n",
              "│ dense_5 (<span style=\"color: #0087ff; text-decoration-color: #0087ff\">Dense</span>)                      │ (<span style=\"color: #00d7ff; text-decoration-color: #00d7ff\">None</span>, <span style=\"color: #00af00; text-decoration-color: #00af00\">1</span>)                   │              <span style=\"color: #00af00; text-decoration-color: #00af00\">33</span> │\n",
              "└──────────────────────────────────────┴─────────────────────────────┴─────────────────┘\n",
              "</pre>\n"
            ]
          },
          "metadata": {}
        },
        {
          "output_type": "display_data",
          "data": {
            "text/plain": [
              "\u001b[1m Total params: \u001b[0m\u001b[38;5;34m3,297\u001b[0m (12.88 KB)\n"
            ],
            "text/html": [
              "<pre style=\"white-space:pre;overflow-x:auto;line-height:normal;font-family:Menlo,'DejaVu Sans Mono',consolas,'Courier New',monospace\"><span style=\"font-weight: bold\"> Total params: </span><span style=\"color: #00af00; text-decoration-color: #00af00\">3,297</span> (12.88 KB)\n",
              "</pre>\n"
            ]
          },
          "metadata": {}
        },
        {
          "output_type": "display_data",
          "data": {
            "text/plain": [
              "\u001b[1m Trainable params: \u001b[0m\u001b[38;5;34m3,297\u001b[0m (12.88 KB)\n"
            ],
            "text/html": [
              "<pre style=\"white-space:pre;overflow-x:auto;line-height:normal;font-family:Menlo,'DejaVu Sans Mono',consolas,'Courier New',monospace\"><span style=\"font-weight: bold\"> Trainable params: </span><span style=\"color: #00af00; text-decoration-color: #00af00\">3,297</span> (12.88 KB)\n",
              "</pre>\n"
            ]
          },
          "metadata": {}
        },
        {
          "output_type": "display_data",
          "data": {
            "text/plain": [
              "\u001b[1m Non-trainable params: \u001b[0m\u001b[38;5;34m0\u001b[0m (0.00 B)\n"
            ],
            "text/html": [
              "<pre style=\"white-space:pre;overflow-x:auto;line-height:normal;font-family:Menlo,'DejaVu Sans Mono',consolas,'Courier New',monospace\"><span style=\"font-weight: bold\"> Non-trainable params: </span><span style=\"color: #00af00; text-decoration-color: #00af00\">0</span> (0.00 B)\n",
              "</pre>\n"
            ]
          },
          "metadata": {}
        },
        {
          "output_type": "stream",
          "name": "stdout",
          "text": [
            "Epoch 1/60\n",
            "50/50 - 1s - 29ms/step - loss: 112524.1797 - mae: 191.8297 - val_loss: 16954.7520 - val_mae: 115.5653\n",
            "Epoch 2/60\n",
            "50/50 - 0s - 9ms/step - loss: 10127.8711 - mae: 75.7304 - val_loss: 5529.0977 - val_mae: 61.9033\n",
            "Epoch 3/60\n",
            "50/50 - 0s - 6ms/step - loss: 3696.4780 - mae: 49.5203 - val_loss: 2510.5415 - val_mae: 38.4700\n",
            "Epoch 4/60\n",
            "50/50 - 0s - 6ms/step - loss: 2383.5527 - mae: 38.4851 - val_loss: 1883.1570 - val_mae: 32.5075\n",
            "Epoch 5/60\n",
            "50/50 - 0s - 6ms/step - loss: 1741.3778 - mae: 32.9050 - val_loss: 1671.1439 - val_mae: 31.7862\n",
            "Epoch 6/60\n",
            "50/50 - 0s - 6ms/step - loss: 1607.2410 - mae: 31.7781 - val_loss: 1570.8744 - val_mae: 31.2488\n",
            "Epoch 7/60\n",
            "50/50 - 0s - 6ms/step - loss: 1364.9777 - mae: 28.8097 - val_loss: 1249.4088 - val_mae: 26.7442\n",
            "Epoch 8/60\n",
            "50/50 - 0s - 6ms/step - loss: 1418.0881 - mae: 28.9149 - val_loss: 1238.7147 - val_mae: 24.8476\n",
            "Epoch 9/60\n",
            "50/50 - 0s - 4ms/step - loss: 1317.8417 - mae: 29.3717 - val_loss: 954.7576 - val_mae: 23.3292\n",
            "Epoch 10/60\n",
            "50/50 - 0s - 4ms/step - loss: 962.9668 - mae: 24.5820 - val_loss: 951.7596 - val_mae: 22.4161\n",
            "Epoch 11/60\n",
            "50/50 - 0s - 4ms/step - loss: 955.3117 - mae: 23.6945 - val_loss: 788.6358 - val_mae: 21.1032\n",
            "Epoch 12/60\n",
            "50/50 - 0s - 6ms/step - loss: 870.1934 - mae: 22.8336 - val_loss: 763.9913 - val_mae: 21.9141\n",
            "Epoch 13/60\n",
            "50/50 - 0s - 3ms/step - loss: 758.4610 - mae: 21.3720 - val_loss: 730.9258 - val_mae: 20.8360\n",
            "Epoch 14/60\n",
            "50/50 - 0s - 6ms/step - loss: 713.6384 - mae: 20.7750 - val_loss: 570.2535 - val_mae: 17.3462\n",
            "Epoch 15/60\n",
            "50/50 - 0s - 6ms/step - loss: 681.2949 - mae: 20.3162 - val_loss: 547.9368 - val_mae: 17.8172\n",
            "Epoch 16/60\n",
            "50/50 - 0s - 4ms/step - loss: 568.9880 - mae: 18.4460 - val_loss: 547.2192 - val_mae: 17.3314\n",
            "Epoch 17/60\n",
            "50/50 - 0s - 5ms/step - loss: 588.5367 - mae: 19.0695 - val_loss: 536.8693 - val_mae: 17.6818\n",
            "Epoch 18/60\n",
            "50/50 - 0s - 6ms/step - loss: 509.9064 - mae: 17.2963 - val_loss: 568.0576 - val_mae: 20.2685\n",
            "Epoch 19/60\n",
            "50/50 - 0s - 6ms/step - loss: 656.5895 - mae: 19.7791 - val_loss: 1477.5520 - val_mae: 31.5792\n",
            "Epoch 20/60\n",
            "50/50 - 0s - 6ms/step - loss: 683.1954 - mae: 20.5327 - val_loss: 429.4742 - val_mae: 16.3002\n",
            "Epoch 21/60\n",
            "50/50 - 0s - 4ms/step - loss: 493.7890 - mae: 17.3914 - val_loss: 369.2124 - val_mae: 15.6121\n",
            "Epoch 22/60\n",
            "50/50 - 0s - 5ms/step - loss: 397.5576 - mae: 15.2543 - val_loss: 348.5155 - val_mae: 14.4751\n",
            "Epoch 23/60\n",
            "50/50 - 0s - 6ms/step - loss: 391.3842 - mae: 14.8573 - val_loss: 359.2293 - val_mae: 14.9855\n",
            "Epoch 24/60\n",
            "50/50 - 0s - 5ms/step - loss: 361.1817 - mae: 14.0274 - val_loss: 447.8874 - val_mae: 15.6029\n",
            "Epoch 25/60\n",
            "50/50 - 0s - 6ms/step - loss: 428.4662 - mae: 16.3223 - val_loss: 355.3065 - val_mae: 14.9266\n",
            "Epoch 26/60\n",
            "50/50 - 0s - 6ms/step - loss: 344.8741 - mae: 14.0863 - val_loss: 423.6062 - val_mae: 14.5543\n",
            "Epoch 27/60\n",
            "50/50 - 0s - 6ms/step - loss: 414.9151 - mae: 15.9347 - val_loss: 370.2160 - val_mae: 14.1878\n",
            "Epoch 28/60\n",
            "50/50 - 0s - 6ms/step - loss: 332.9774 - mae: 14.1712 - val_loss: 509.2519 - val_mae: 16.2102\n",
            "Epoch 29/60\n",
            "50/50 - 0s - 7ms/step - loss: 499.2709 - mae: 17.4016 - val_loss: 409.8722 - val_mae: 14.4046\n"
          ]
        },
        {
          "output_type": "display_data",
          "data": {
            "text/plain": [
              "\u001b[1mModel: \"sequential_2\"\u001b[0m\n"
            ],
            "text/html": [
              "<pre style=\"white-space:pre;overflow-x:auto;line-height:normal;font-family:Menlo,'DejaVu Sans Mono',consolas,'Courier New',monospace\"><span style=\"font-weight: bold\">Model: \"sequential_2\"</span>\n",
              "</pre>\n"
            ]
          },
          "metadata": {}
        },
        {
          "output_type": "display_data",
          "data": {
            "text/plain": [
              "┏━━━━━━━━━━━━━━━━━━━━━━━━━━━━━━━━━━━━━━┳━━━━━━━━━━━━━━━━━━━━━━━━━━━━━┳━━━━━━━━━━━━━━━━━┓\n",
              "┃\u001b[1m \u001b[0m\u001b[1mLayer (type)                        \u001b[0m\u001b[1m \u001b[0m┃\u001b[1m \u001b[0m\u001b[1mOutput Shape               \u001b[0m\u001b[1m \u001b[0m┃\u001b[1m \u001b[0m\u001b[1m        Param #\u001b[0m\u001b[1m \u001b[0m┃\n",
              "┡━━━━━━━━━━━━━━━━━━━━━━━━━━━━━━━━━━━━━━╇━━━━━━━━━━━━━━━━━━━━━━━━━━━━━╇━━━━━━━━━━━━━━━━━┩\n",
              "│ dense_6 (\u001b[38;5;33mDense\u001b[0m)                      │ (\u001b[38;5;45mNone\u001b[0m, \u001b[38;5;34m32\u001b[0m)                  │           \u001b[38;5;34m2,208\u001b[0m │\n",
              "├──────────────────────────────────────┼─────────────────────────────┼─────────────────┤\n",
              "│ dense_7 (\u001b[38;5;33mDense\u001b[0m)                      │ (\u001b[38;5;45mNone\u001b[0m, \u001b[38;5;34m32\u001b[0m)                  │           \u001b[38;5;34m1,056\u001b[0m │\n",
              "├──────────────────────────────────────┼─────────────────────────────┼─────────────────┤\n",
              "│ dense_8 (\u001b[38;5;33mDense\u001b[0m)                      │ (\u001b[38;5;45mNone\u001b[0m, \u001b[38;5;34m1\u001b[0m)                   │              \u001b[38;5;34m33\u001b[0m │\n",
              "└──────────────────────────────────────┴─────────────────────────────┴─────────────────┘\n"
            ],
            "text/html": [
              "<pre style=\"white-space:pre;overflow-x:auto;line-height:normal;font-family:Menlo,'DejaVu Sans Mono',consolas,'Courier New',monospace\">┏━━━━━━━━━━━━━━━━━━━━━━━━━━━━━━━━━━━━━━┳━━━━━━━━━━━━━━━━━━━━━━━━━━━━━┳━━━━━━━━━━━━━━━━━┓\n",
              "┃<span style=\"font-weight: bold\"> Layer (type)                         </span>┃<span style=\"font-weight: bold\"> Output Shape                </span>┃<span style=\"font-weight: bold\">         Param # </span>┃\n",
              "┡━━━━━━━━━━━━━━━━━━━━━━━━━━━━━━━━━━━━━━╇━━━━━━━━━━━━━━━━━━━━━━━━━━━━━╇━━━━━━━━━━━━━━━━━┩\n",
              "│ dense_6 (<span style=\"color: #0087ff; text-decoration-color: #0087ff\">Dense</span>)                      │ (<span style=\"color: #00d7ff; text-decoration-color: #00d7ff\">None</span>, <span style=\"color: #00af00; text-decoration-color: #00af00\">32</span>)                  │           <span style=\"color: #00af00; text-decoration-color: #00af00\">2,208</span> │\n",
              "├──────────────────────────────────────┼─────────────────────────────┼─────────────────┤\n",
              "│ dense_7 (<span style=\"color: #0087ff; text-decoration-color: #0087ff\">Dense</span>)                      │ (<span style=\"color: #00d7ff; text-decoration-color: #00d7ff\">None</span>, <span style=\"color: #00af00; text-decoration-color: #00af00\">32</span>)                  │           <span style=\"color: #00af00; text-decoration-color: #00af00\">1,056</span> │\n",
              "├──────────────────────────────────────┼─────────────────────────────┼─────────────────┤\n",
              "│ dense_8 (<span style=\"color: #0087ff; text-decoration-color: #0087ff\">Dense</span>)                      │ (<span style=\"color: #00d7ff; text-decoration-color: #00d7ff\">None</span>, <span style=\"color: #00af00; text-decoration-color: #00af00\">1</span>)                   │              <span style=\"color: #00af00; text-decoration-color: #00af00\">33</span> │\n",
              "└──────────────────────────────────────┴─────────────────────────────┴─────────────────┘\n",
              "</pre>\n"
            ]
          },
          "metadata": {}
        },
        {
          "output_type": "display_data",
          "data": {
            "text/plain": [
              "\u001b[1m Total params: \u001b[0m\u001b[38;5;34m3,297\u001b[0m (12.88 KB)\n"
            ],
            "text/html": [
              "<pre style=\"white-space:pre;overflow-x:auto;line-height:normal;font-family:Menlo,'DejaVu Sans Mono',consolas,'Courier New',monospace\"><span style=\"font-weight: bold\"> Total params: </span><span style=\"color: #00af00; text-decoration-color: #00af00\">3,297</span> (12.88 KB)\n",
              "</pre>\n"
            ]
          },
          "metadata": {}
        },
        {
          "output_type": "display_data",
          "data": {
            "text/plain": [
              "\u001b[1m Trainable params: \u001b[0m\u001b[38;5;34m3,297\u001b[0m (12.88 KB)\n"
            ],
            "text/html": [
              "<pre style=\"white-space:pre;overflow-x:auto;line-height:normal;font-family:Menlo,'DejaVu Sans Mono',consolas,'Courier New',monospace\"><span style=\"font-weight: bold\"> Trainable params: </span><span style=\"color: #00af00; text-decoration-color: #00af00\">3,297</span> (12.88 KB)\n",
              "</pre>\n"
            ]
          },
          "metadata": {}
        },
        {
          "output_type": "display_data",
          "data": {
            "text/plain": [
              "\u001b[1m Non-trainable params: \u001b[0m\u001b[38;5;34m0\u001b[0m (0.00 B)\n"
            ],
            "text/html": [
              "<pre style=\"white-space:pre;overflow-x:auto;line-height:normal;font-family:Menlo,'DejaVu Sans Mono',consolas,'Courier New',monospace\"><span style=\"font-weight: bold\"> Non-trainable params: </span><span style=\"color: #00af00; text-decoration-color: #00af00\">0</span> (0.00 B)\n",
              "</pre>\n"
            ]
          },
          "metadata": {}
        },
        {
          "output_type": "stream",
          "name": "stdout",
          "text": [
            "Epoch 1/60\n",
            "50/50 - 1s - 29ms/step - loss: 53725.7305 - mae: 150.4638 - val_loss: 10610.4287 - val_mae: 69.0282\n",
            "Epoch 2/60\n",
            "50/50 - 0s - 8ms/step - loss: 6985.0942 - mae: 61.3341 - val_loss: 4705.5273 - val_mae: 48.4146\n",
            "Epoch 3/60\n",
            "50/50 - 0s - 6ms/step - loss: 4211.7983 - mae: 48.6805 - val_loss: 4241.2017 - val_mae: 46.0229\n",
            "Epoch 4/60\n",
            "50/50 - 0s - 6ms/step - loss: 3122.6951 - mae: 41.6281 - val_loss: 3591.5349 - val_mae: 42.9790\n",
            "Epoch 5/60\n",
            "50/50 - 0s - 6ms/step - loss: 2333.9712 - mae: 36.5221 - val_loss: 3271.3018 - val_mae: 41.9112\n",
            "Epoch 6/60\n",
            "50/50 - 0s - 6ms/step - loss: 1890.9385 - mae: 32.6475 - val_loss: 2603.5818 - val_mae: 36.1567\n",
            "Epoch 7/60\n",
            "50/50 - 0s - 6ms/step - loss: 1619.2651 - mae: 31.0021 - val_loss: 2365.9915 - val_mae: 33.2693\n",
            "Epoch 8/60\n",
            "50/50 - 0s - 6ms/step - loss: 1414.8414 - mae: 28.7855 - val_loss: 2152.7930 - val_mae: 32.3088\n",
            "Epoch 9/60\n",
            "50/50 - 0s - 3ms/step - loss: 1307.4711 - mae: 27.7051 - val_loss: 1753.5613 - val_mae: 29.1303\n",
            "Epoch 10/60\n",
            "50/50 - 0s - 6ms/step - loss: 1228.9552 - mae: 27.2918 - val_loss: 1717.5389 - val_mae: 27.6521\n",
            "Epoch 11/60\n",
            "50/50 - 0s - 6ms/step - loss: 960.4888 - mae: 22.9838 - val_loss: 1540.3281 - val_mae: 25.8220\n",
            "Epoch 12/60\n",
            "50/50 - 0s - 6ms/step - loss: 871.2509 - mae: 22.4354 - val_loss: 1853.2800 - val_mae: 30.0674\n",
            "Epoch 13/60\n",
            "50/50 - 0s - 6ms/step - loss: 826.1063 - mae: 21.9063 - val_loss: 1387.8838 - val_mae: 26.5561\n",
            "Epoch 14/60\n",
            "50/50 - 0s - 5ms/step - loss: 658.6106 - mae: 19.3950 - val_loss: 1253.2261 - val_mae: 22.1374\n",
            "Epoch 15/60\n",
            "50/50 - 0s - 6ms/step - loss: 642.6275 - mae: 19.0889 - val_loss: 1231.1285 - val_mae: 24.7819\n",
            "Epoch 16/60\n",
            "50/50 - 0s - 6ms/step - loss: 561.3391 - mae: 17.8366 - val_loss: 1060.1194 - val_mae: 20.4009\n",
            "Epoch 17/60\n",
            "50/50 - 0s - 4ms/step - loss: 507.0236 - mae: 16.7807 - val_loss: 1063.5786 - val_mae: 19.4552\n",
            "Epoch 18/60\n",
            "50/50 - 0s - 3ms/step - loss: 410.2996 - mae: 15.5683 - val_loss: 792.4660 - val_mae: 17.5365\n",
            "Epoch 19/60\n",
            "50/50 - 0s - 4ms/step - loss: 404.6060 - mae: 15.1755 - val_loss: 882.4866 - val_mae: 18.1532\n",
            "Epoch 20/60\n",
            "50/50 - 0s - 5ms/step - loss: 398.3299 - mae: 14.8545 - val_loss: 658.1783 - val_mae: 15.9485\n",
            "Epoch 21/60\n",
            "50/50 - 0s - 6ms/step - loss: 335.7857 - mae: 14.1841 - val_loss: 633.8745 - val_mae: 17.1674\n",
            "Epoch 22/60\n",
            "50/50 - 0s - 6ms/step - loss: 361.7631 - mae: 13.5908 - val_loss: 717.8380 - val_mae: 15.3106\n",
            "Epoch 23/60\n",
            "50/50 - 0s - 5ms/step - loss: 288.7323 - mae: 12.8166 - val_loss: 615.9863 - val_mae: 17.5190\n",
            "Epoch 24/60\n",
            "50/50 - 0s - 3ms/step - loss: 263.6819 - mae: 12.1520 - val_loss: 540.5031 - val_mae: 15.3831\n",
            "Epoch 25/60\n",
            "50/50 - 0s - 6ms/step - loss: 206.1236 - mae: 10.9307 - val_loss: 437.2392 - val_mae: 13.3782\n",
            "Epoch 26/60\n",
            "50/50 - 0s - 6ms/step - loss: 295.3836 - mae: 12.1988 - val_loss: 691.0838 - val_mae: 19.4736\n",
            "Epoch 27/60\n",
            "50/50 - 0s - 3ms/step - loss: 455.2484 - mae: 13.1217 - val_loss: 445.7748 - val_mae: 13.7151\n",
            "Epoch 28/60\n",
            "50/50 - 0s - 6ms/step - loss: 302.1853 - mae: 11.3895 - val_loss: 306.7383 - val_mae: 11.1313\n",
            "Epoch 29/60\n",
            "50/50 - 0s - 4ms/step - loss: 219.9567 - mae: 11.5797 - val_loss: 282.2189 - val_mae: 10.6351\n",
            "Epoch 30/60\n",
            "50/50 - 0s - 6ms/step - loss: 166.0964 - mae: 9.3935 - val_loss: 253.5957 - val_mae: 10.3939\n",
            "Epoch 31/60\n",
            "50/50 - 0s - 4ms/step - loss: 138.5559 - mae: 9.3481 - val_loss: 238.8903 - val_mae: 10.3589\n",
            "Epoch 32/60\n",
            "50/50 - 0s - 5ms/step - loss: 137.3888 - mae: 8.8957 - val_loss: 310.8452 - val_mae: 10.5863\n",
            "Epoch 33/60\n",
            "50/50 - 0s - 6ms/step - loss: 133.4973 - mae: 8.5631 - val_loss: 253.7379 - val_mae: 10.3236\n",
            "Epoch 34/60\n",
            "50/50 - 0s - 6ms/step - loss: 121.9430 - mae: 8.5179 - val_loss: 264.2329 - val_mae: 10.3374\n",
            "Epoch 35/60\n",
            "50/50 - 0s - 6ms/step - loss: 120.1636 - mae: 8.4807 - val_loss: 266.0978 - val_mae: 10.2806\n",
            "Epoch 36/60\n",
            "50/50 - 0s - 7ms/step - loss: 136.3148 - mae: 8.9372 - val_loss: 229.7867 - val_mae: 10.1750\n",
            "Epoch 37/60\n",
            "50/50 - 0s - 7ms/step - loss: 118.4728 - mae: 8.2231 - val_loss: 269.3951 - val_mae: 9.7112\n",
            "Epoch 38/60\n",
            "50/50 - 0s - 6ms/step - loss: 203.9218 - mae: 9.7568 - val_loss: 290.0714 - val_mae: 9.4050\n",
            "Epoch 39/60\n",
            "50/50 - 0s - 6ms/step - loss: 102.6707 - mae: 7.5838 - val_loss: 249.2293 - val_mae: 9.3059\n",
            "Epoch 40/60\n",
            "50/50 - 0s - 4ms/step - loss: 176.8232 - mae: 9.3256 - val_loss: 229.1273 - val_mae: 9.3251\n",
            "Epoch 41/60\n",
            "50/50 - 0s - 6ms/step - loss: 94.5404 - mae: 7.4357 - val_loss: 242.1561 - val_mae: 8.4074\n",
            "Epoch 42/60\n",
            "50/50 - 0s - 6ms/step - loss: 82.2077 - mae: 6.7376 - val_loss: 224.0954 - val_mae: 8.8407\n",
            "Epoch 43/60\n",
            "50/50 - 0s - 6ms/step - loss: 119.3425 - mae: 7.9602 - val_loss: 205.1139 - val_mae: 8.8734\n",
            "Epoch 44/60\n",
            "50/50 - 0s - 4ms/step - loss: 83.7342 - mae: 6.6436 - val_loss: 289.1310 - val_mae: 9.1881\n",
            "Epoch 45/60\n",
            "50/50 - 0s - 5ms/step - loss: 83.5212 - mae: 6.9655 - val_loss: 212.5921 - val_mae: 8.9881\n",
            "Epoch 46/60\n",
            "50/50 - 0s - 6ms/step - loss: 92.3983 - mae: 7.0137 - val_loss: 257.2035 - val_mae: 9.0006\n",
            "Epoch 47/60\n",
            "50/50 - 0s - 6ms/step - loss: 81.5890 - mae: 6.8768 - val_loss: 229.6996 - val_mae: 9.3082\n",
            "Epoch 48/60\n",
            "50/50 - 0s - 6ms/step - loss: 267.8138 - mae: 11.5326 - val_loss: 658.6558 - val_mae: 19.2773\n",
            "Epoch 49/60\n",
            "50/50 - 0s - 6ms/step - loss: 591.6949 - mae: 15.7100 - val_loss: 974.3167 - val_mae: 12.9865\n",
            "Epoch 50/60\n",
            "50/50 - 0s - 6ms/step - loss: 446.7032 - mae: 10.4569 - val_loss: 526.6163 - val_mae: 11.5197\n"
          ]
        },
        {
          "output_type": "display_data",
          "data": {
            "text/plain": [
              "\u001b[1mModel: \"sequential_3\"\u001b[0m\n"
            ],
            "text/html": [
              "<pre style=\"white-space:pre;overflow-x:auto;line-height:normal;font-family:Menlo,'DejaVu Sans Mono',consolas,'Courier New',monospace\"><span style=\"font-weight: bold\">Model: \"sequential_3\"</span>\n",
              "</pre>\n"
            ]
          },
          "metadata": {}
        },
        {
          "output_type": "display_data",
          "data": {
            "text/plain": [
              "┏━━━━━━━━━━━━━━━━━━━━━━━━━━━━━━━━━━━━━━┳━━━━━━━━━━━━━━━━━━━━━━━━━━━━━┳━━━━━━━━━━━━━━━━━┓\n",
              "┃\u001b[1m \u001b[0m\u001b[1mLayer (type)                        \u001b[0m\u001b[1m \u001b[0m┃\u001b[1m \u001b[0m\u001b[1mOutput Shape               \u001b[0m\u001b[1m \u001b[0m┃\u001b[1m \u001b[0m\u001b[1m        Param #\u001b[0m\u001b[1m \u001b[0m┃\n",
              "┡━━━━━━━━━━━━━━━━━━━━━━━━━━━━━━━━━━━━━━╇━━━━━━━━━━━━━━━━━━━━━━━━━━━━━╇━━━━━━━━━━━━━━━━━┩\n",
              "│ dense_9 (\u001b[38;5;33mDense\u001b[0m)                      │ (\u001b[38;5;45mNone\u001b[0m, \u001b[38;5;34m32\u001b[0m)                  │           \u001b[38;5;34m2,208\u001b[0m │\n",
              "├──────────────────────────────────────┼─────────────────────────────┼─────────────────┤\n",
              "│ dense_10 (\u001b[38;5;33mDense\u001b[0m)                     │ (\u001b[38;5;45mNone\u001b[0m, \u001b[38;5;34m32\u001b[0m)                  │           \u001b[38;5;34m1,056\u001b[0m │\n",
              "├──────────────────────────────────────┼─────────────────────────────┼─────────────────┤\n",
              "│ dense_11 (\u001b[38;5;33mDense\u001b[0m)                     │ (\u001b[38;5;45mNone\u001b[0m, \u001b[38;5;34m1\u001b[0m)                   │              \u001b[38;5;34m33\u001b[0m │\n",
              "└──────────────────────────────────────┴─────────────────────────────┴─────────────────┘\n"
            ],
            "text/html": [
              "<pre style=\"white-space:pre;overflow-x:auto;line-height:normal;font-family:Menlo,'DejaVu Sans Mono',consolas,'Courier New',monospace\">┏━━━━━━━━━━━━━━━━━━━━━━━━━━━━━━━━━━━━━━┳━━━━━━━━━━━━━━━━━━━━━━━━━━━━━┳━━━━━━━━━━━━━━━━━┓\n",
              "┃<span style=\"font-weight: bold\"> Layer (type)                         </span>┃<span style=\"font-weight: bold\"> Output Shape                </span>┃<span style=\"font-weight: bold\">         Param # </span>┃\n",
              "┡━━━━━━━━━━━━━━━━━━━━━━━━━━━━━━━━━━━━━━╇━━━━━━━━━━━━━━━━━━━━━━━━━━━━━╇━━━━━━━━━━━━━━━━━┩\n",
              "│ dense_9 (<span style=\"color: #0087ff; text-decoration-color: #0087ff\">Dense</span>)                      │ (<span style=\"color: #00d7ff; text-decoration-color: #00d7ff\">None</span>, <span style=\"color: #00af00; text-decoration-color: #00af00\">32</span>)                  │           <span style=\"color: #00af00; text-decoration-color: #00af00\">2,208</span> │\n",
              "├──────────────────────────────────────┼─────────────────────────────┼─────────────────┤\n",
              "│ dense_10 (<span style=\"color: #0087ff; text-decoration-color: #0087ff\">Dense</span>)                     │ (<span style=\"color: #00d7ff; text-decoration-color: #00d7ff\">None</span>, <span style=\"color: #00af00; text-decoration-color: #00af00\">32</span>)                  │           <span style=\"color: #00af00; text-decoration-color: #00af00\">1,056</span> │\n",
              "├──────────────────────────────────────┼─────────────────────────────┼─────────────────┤\n",
              "│ dense_11 (<span style=\"color: #0087ff; text-decoration-color: #0087ff\">Dense</span>)                     │ (<span style=\"color: #00d7ff; text-decoration-color: #00d7ff\">None</span>, <span style=\"color: #00af00; text-decoration-color: #00af00\">1</span>)                   │              <span style=\"color: #00af00; text-decoration-color: #00af00\">33</span> │\n",
              "└──────────────────────────────────────┴─────────────────────────────┴─────────────────┘\n",
              "</pre>\n"
            ]
          },
          "metadata": {}
        },
        {
          "output_type": "display_data",
          "data": {
            "text/plain": [
              "\u001b[1m Total params: \u001b[0m\u001b[38;5;34m3,297\u001b[0m (12.88 KB)\n"
            ],
            "text/html": [
              "<pre style=\"white-space:pre;overflow-x:auto;line-height:normal;font-family:Menlo,'DejaVu Sans Mono',consolas,'Courier New',monospace\"><span style=\"font-weight: bold\"> Total params: </span><span style=\"color: #00af00; text-decoration-color: #00af00\">3,297</span> (12.88 KB)\n",
              "</pre>\n"
            ]
          },
          "metadata": {}
        },
        {
          "output_type": "display_data",
          "data": {
            "text/plain": [
              "\u001b[1m Trainable params: \u001b[0m\u001b[38;5;34m3,297\u001b[0m (12.88 KB)\n"
            ],
            "text/html": [
              "<pre style=\"white-space:pre;overflow-x:auto;line-height:normal;font-family:Menlo,'DejaVu Sans Mono',consolas,'Courier New',monospace\"><span style=\"font-weight: bold\"> Trainable params: </span><span style=\"color: #00af00; text-decoration-color: #00af00\">3,297</span> (12.88 KB)\n",
              "</pre>\n"
            ]
          },
          "metadata": {}
        },
        {
          "output_type": "display_data",
          "data": {
            "text/plain": [
              "\u001b[1m Non-trainable params: \u001b[0m\u001b[38;5;34m0\u001b[0m (0.00 B)\n"
            ],
            "text/html": [
              "<pre style=\"white-space:pre;overflow-x:auto;line-height:normal;font-family:Menlo,'DejaVu Sans Mono',consolas,'Courier New',monospace\"><span style=\"font-weight: bold\"> Non-trainable params: </span><span style=\"color: #00af00; text-decoration-color: #00af00\">0</span> (0.00 B)\n",
              "</pre>\n"
            ]
          },
          "metadata": {}
        },
        {
          "output_type": "stream",
          "name": "stdout",
          "text": [
            "Epoch 1/60\n",
            "50/50 - 1s - 28ms/step - loss: 34313.6836 - mae: 122.2684 - val_loss: 14059.9072 - val_mae: 72.2184\n",
            "Epoch 2/60\n",
            "50/50 - 0s - 10ms/step - loss: 3813.4697 - mae: 46.8051 - val_loss: 2811.5212 - val_mae: 41.3353\n",
            "Epoch 3/60\n",
            "50/50 - 0s - 4ms/step - loss: 5467.1860 - mae: 41.5131 - val_loss: 3422.6013 - val_mae: 40.3953\n",
            "Epoch 4/60\n",
            "50/50 - 0s - 7ms/step - loss: 3137.3057 - mae: 37.4865 - val_loss: 31084.3750 - val_mae: 58.5949\n",
            "Epoch 5/60\n",
            "50/50 - 0s - 6ms/step - loss: 2261.1538 - mae: 29.1342 - val_loss: 1093.0253 - val_mae: 26.1220\n",
            "Epoch 6/60\n",
            "50/50 - 0s - 6ms/step - loss: 1466.4253 - mae: 24.9243 - val_loss: 25051.6309 - val_mae: 52.5462\n",
            "Epoch 7/60\n",
            "50/50 - 0s - 6ms/step - loss: 1768.2887 - mae: 24.0383 - val_loss: 4012.7927 - val_mae: 31.0998\n",
            "Epoch 8/60\n",
            "50/50 - 0s - 4ms/step - loss: 734.7431 - mae: 18.4031 - val_loss: 3105.5444 - val_mae: 27.2706\n",
            "Epoch 9/60\n",
            "50/50 - 0s - 6ms/step - loss: 660.4003 - mae: 17.4364 - val_loss: 3024.6165 - val_mae: 25.0987\n",
            "Epoch 10/60\n",
            "50/50 - 0s - 4ms/step - loss: 487.0099 - mae: 15.3761 - val_loss: 3890.9500 - val_mae: 26.8417\n",
            "Epoch 11/60\n",
            "50/50 - 0s - 5ms/step - loss: 401.3286 - mae: 13.8494 - val_loss: 1268.1053 - val_mae: 18.8048\n",
            "Epoch 12/60\n",
            "50/50 - 0s - 7ms/step - loss: 518.1245 - mae: 14.7979 - val_loss: 409.1370 - val_mae: 14.9536\n",
            "Epoch 13/60\n",
            "50/50 - 0s - 6ms/step - loss: 593.3881 - mae: 14.6757 - val_loss: 1805.2299 - val_mae: 20.3454\n",
            "Epoch 14/60\n",
            "50/50 - 0s - 6ms/step - loss: 510.8673 - mae: 14.4725 - val_loss: 1611.1796 - val_mae: 28.6274\n",
            "Epoch 15/60\n",
            "50/50 - 0s - 4ms/step - loss: 434.1267 - mae: 14.2627 - val_loss: 3132.6682 - val_mae: 20.3620\n",
            "Epoch 16/60\n",
            "50/50 - 0s - 6ms/step - loss: 241.7006 - mae: 10.2227 - val_loss: 3710.0991 - val_mae: 23.0874\n",
            "Epoch 17/60\n",
            "50/50 - 0s - 6ms/step - loss: 279.3919 - mae: 10.7506 - val_loss: 1725.4261 - val_mae: 17.6895\n",
            "Epoch 18/60\n",
            "50/50 - 0s - 6ms/step - loss: 275.6753 - mae: 9.9900 - val_loss: 1123.6249 - val_mae: 16.8156\n",
            "Epoch 19/60\n",
            "50/50 - 0s - 5ms/step - loss: 269.6991 - mae: 10.1276 - val_loss: 684.3063 - val_mae: 15.7482\n"
          ]
        },
        {
          "output_type": "display_data",
          "data": {
            "text/plain": [
              "\u001b[1mModel: \"sequential_4\"\u001b[0m\n"
            ],
            "text/html": [
              "<pre style=\"white-space:pre;overflow-x:auto;line-height:normal;font-family:Menlo,'DejaVu Sans Mono',consolas,'Courier New',monospace\"><span style=\"font-weight: bold\">Model: \"sequential_4\"</span>\n",
              "</pre>\n"
            ]
          },
          "metadata": {}
        },
        {
          "output_type": "display_data",
          "data": {
            "text/plain": [
              "┏━━━━━━━━━━━━━━━━━━━━━━━━━━━━━━━━━━━━━━┳━━━━━━━━━━━━━━━━━━━━━━━━━━━━━┳━━━━━━━━━━━━━━━━━┓\n",
              "┃\u001b[1m \u001b[0m\u001b[1mLayer (type)                        \u001b[0m\u001b[1m \u001b[0m┃\u001b[1m \u001b[0m\u001b[1mOutput Shape               \u001b[0m\u001b[1m \u001b[0m┃\u001b[1m \u001b[0m\u001b[1m        Param #\u001b[0m\u001b[1m \u001b[0m┃\n",
              "┡━━━━━━━━━━━━━━━━━━━━━━━━━━━━━━━━━━━━━━╇━━━━━━━━━━━━━━━━━━━━━━━━━━━━━╇━━━━━━━━━━━━━━━━━┩\n",
              "│ dense_12 (\u001b[38;5;33mDense\u001b[0m)                     │ (\u001b[38;5;45mNone\u001b[0m, \u001b[38;5;34m32\u001b[0m)                  │           \u001b[38;5;34m2,208\u001b[0m │\n",
              "├──────────────────────────────────────┼─────────────────────────────┼─────────────────┤\n",
              "│ dense_13 (\u001b[38;5;33mDense\u001b[0m)                     │ (\u001b[38;5;45mNone\u001b[0m, \u001b[38;5;34m32\u001b[0m)                  │           \u001b[38;5;34m1,056\u001b[0m │\n",
              "├──────────────────────────────────────┼─────────────────────────────┼─────────────────┤\n",
              "│ dense_14 (\u001b[38;5;33mDense\u001b[0m)                     │ (\u001b[38;5;45mNone\u001b[0m, \u001b[38;5;34m1\u001b[0m)                   │              \u001b[38;5;34m33\u001b[0m │\n",
              "└──────────────────────────────────────┴─────────────────────────────┴─────────────────┘\n"
            ],
            "text/html": [
              "<pre style=\"white-space:pre;overflow-x:auto;line-height:normal;font-family:Menlo,'DejaVu Sans Mono',consolas,'Courier New',monospace\">┏━━━━━━━━━━━━━━━━━━━━━━━━━━━━━━━━━━━━━━┳━━━━━━━━━━━━━━━━━━━━━━━━━━━━━┳━━━━━━━━━━━━━━━━━┓\n",
              "┃<span style=\"font-weight: bold\"> Layer (type)                         </span>┃<span style=\"font-weight: bold\"> Output Shape                </span>┃<span style=\"font-weight: bold\">         Param # </span>┃\n",
              "┡━━━━━━━━━━━━━━━━━━━━━━━━━━━━━━━━━━━━━━╇━━━━━━━━━━━━━━━━━━━━━━━━━━━━━╇━━━━━━━━━━━━━━━━━┩\n",
              "│ dense_12 (<span style=\"color: #0087ff; text-decoration-color: #0087ff\">Dense</span>)                     │ (<span style=\"color: #00d7ff; text-decoration-color: #00d7ff\">None</span>, <span style=\"color: #00af00; text-decoration-color: #00af00\">32</span>)                  │           <span style=\"color: #00af00; text-decoration-color: #00af00\">2,208</span> │\n",
              "├──────────────────────────────────────┼─────────────────────────────┼─────────────────┤\n",
              "│ dense_13 (<span style=\"color: #0087ff; text-decoration-color: #0087ff\">Dense</span>)                     │ (<span style=\"color: #00d7ff; text-decoration-color: #00d7ff\">None</span>, <span style=\"color: #00af00; text-decoration-color: #00af00\">32</span>)                  │           <span style=\"color: #00af00; text-decoration-color: #00af00\">1,056</span> │\n",
              "├──────────────────────────────────────┼─────────────────────────────┼─────────────────┤\n",
              "│ dense_14 (<span style=\"color: #0087ff; text-decoration-color: #0087ff\">Dense</span>)                     │ (<span style=\"color: #00d7ff; text-decoration-color: #00d7ff\">None</span>, <span style=\"color: #00af00; text-decoration-color: #00af00\">1</span>)                   │              <span style=\"color: #00af00; text-decoration-color: #00af00\">33</span> │\n",
              "└──────────────────────────────────────┴─────────────────────────────┴─────────────────┘\n",
              "</pre>\n"
            ]
          },
          "metadata": {}
        },
        {
          "output_type": "display_data",
          "data": {
            "text/plain": [
              "\u001b[1m Total params: \u001b[0m\u001b[38;5;34m3,297\u001b[0m (12.88 KB)\n"
            ],
            "text/html": [
              "<pre style=\"white-space:pre;overflow-x:auto;line-height:normal;font-family:Menlo,'DejaVu Sans Mono',consolas,'Courier New',monospace\"><span style=\"font-weight: bold\"> Total params: </span><span style=\"color: #00af00; text-decoration-color: #00af00\">3,297</span> (12.88 KB)\n",
              "</pre>\n"
            ]
          },
          "metadata": {}
        },
        {
          "output_type": "display_data",
          "data": {
            "text/plain": [
              "\u001b[1m Trainable params: \u001b[0m\u001b[38;5;34m3,297\u001b[0m (12.88 KB)\n"
            ],
            "text/html": [
              "<pre style=\"white-space:pre;overflow-x:auto;line-height:normal;font-family:Menlo,'DejaVu Sans Mono',consolas,'Courier New',monospace\"><span style=\"font-weight: bold\"> Trainable params: </span><span style=\"color: #00af00; text-decoration-color: #00af00\">3,297</span> (12.88 KB)\n",
              "</pre>\n"
            ]
          },
          "metadata": {}
        },
        {
          "output_type": "display_data",
          "data": {
            "text/plain": [
              "\u001b[1m Non-trainable params: \u001b[0m\u001b[38;5;34m0\u001b[0m (0.00 B)\n"
            ],
            "text/html": [
              "<pre style=\"white-space:pre;overflow-x:auto;line-height:normal;font-family:Menlo,'DejaVu Sans Mono',consolas,'Courier New',monospace\"><span style=\"font-weight: bold\"> Non-trainable params: </span><span style=\"color: #00af00; text-decoration-color: #00af00\">0</span> (0.00 B)\n",
              "</pre>\n"
            ]
          },
          "metadata": {}
        },
        {
          "output_type": "stream",
          "name": "stdout",
          "text": [
            "Epoch 1/60\n",
            "50/50 - 2s - 39ms/step - loss: 12264.2236 - mae: 71.4800 - val_loss: 4539.9502 - val_mae: 49.9340\n",
            "Epoch 2/60\n",
            "50/50 - 0s - 8ms/step - loss: 2930.4880 - mae: 40.7046 - val_loss: 1977.3080 - val_mae: 32.9496\n",
            "Epoch 3/60\n",
            "50/50 - 0s - 4ms/step - loss: 1864.5422 - mae: 31.6941 - val_loss: 1934.0802 - val_mae: 32.3565\n",
            "Epoch 4/60\n",
            "50/50 - 0s - 6ms/step - loss: 1483.3533 - mae: 28.2294 - val_loss: 2571.1702 - val_mae: 37.6059\n",
            "Epoch 5/60\n",
            "50/50 - 0s - 6ms/step - loss: 1596.4048 - mae: 25.0164 - val_loss: 2161.4365 - val_mae: 33.4639\n",
            "Epoch 6/60\n",
            "50/50 - 0s - 4ms/step - loss: 1023.8363 - mae: 23.6092 - val_loss: 674.6297 - val_mae: 18.6742\n",
            "Epoch 7/60\n",
            "50/50 - 0s - 6ms/step - loss: 1165.6370 - mae: 24.5895 - val_loss: 2341.6567 - val_mae: 24.5414\n",
            "Epoch 8/60\n",
            "50/50 - 0s - 6ms/step - loss: 1031.8616 - mae: 20.0104 - val_loss: 631.0916 - val_mae: 16.4925\n",
            "Epoch 9/60\n",
            "50/50 - 0s - 6ms/step - loss: 2479.4705 - mae: 27.3891 - val_loss: 4222.1958 - val_mae: 28.2931\n",
            "Epoch 10/60\n",
            "50/50 - 0s - 5ms/step - loss: 3174.1250 - mae: 31.6853 - val_loss: 1277.5793 - val_mae: 24.2789\n",
            "Epoch 11/60\n",
            "50/50 - 0s - 3ms/step - loss: 509.8178 - mae: 15.0168 - val_loss: 849.6727 - val_mae: 24.4047\n",
            "Epoch 12/60\n",
            "50/50 - 0s - 4ms/step - loss: 1122.1082 - mae: 21.4056 - val_loss: 496.7467 - val_mae: 15.1194\n",
            "Epoch 13/60\n",
            "50/50 - 0s - 4ms/step - loss: 2290.9014 - mae: 27.3298 - val_loss: 455.3518 - val_mae: 15.7615\n",
            "Epoch 14/60\n",
            "50/50 - 0s - 4ms/step - loss: 789.2642 - mae: 20.9634 - val_loss: 673.5206 - val_mae: 21.9867\n",
            "Epoch 15/60\n",
            "50/50 - 0s - 6ms/step - loss: 350.0551 - mae: 12.7374 - val_loss: 380.9381 - val_mae: 15.7095\n",
            "Epoch 16/60\n",
            "50/50 - 0s - 3ms/step - loss: 198.4109 - mae: 9.4318 - val_loss: 246.9499 - val_mae: 10.3909\n",
            "Epoch 17/60\n",
            "50/50 - 0s - 6ms/step - loss: 159.8050 - mae: 8.6007 - val_loss: 255.8814 - val_mae: 9.8963\n",
            "Epoch 18/60\n",
            "50/50 - 0s - 6ms/step - loss: 596.3467 - mae: 15.3684 - val_loss: 513.6807 - val_mae: 11.8160\n",
            "Epoch 19/60\n",
            "50/50 - 0s - 6ms/step - loss: 604.1089 - mae: 16.5669 - val_loss: 581.5385 - val_mae: 12.1582\n",
            "Epoch 20/60\n",
            "50/50 - 0s - 4ms/step - loss: 311.5309 - mae: 12.6413 - val_loss: 220.9081 - val_mae: 10.2251\n",
            "Epoch 21/60\n",
            "50/50 - 0s - 5ms/step - loss: 230.1732 - mae: 9.8637 - val_loss: 306.9541 - val_mae: 13.4401\n",
            "Epoch 22/60\n",
            "50/50 - 0s - 4ms/step - loss: 357.0525 - mae: 13.0455 - val_loss: 196.8497 - val_mae: 10.7173\n",
            "Epoch 23/60\n",
            "50/50 - 0s - 6ms/step - loss: 354.1593 - mae: 11.3624 - val_loss: 365.8041 - val_mae: 10.5594\n",
            "Epoch 24/60\n",
            "50/50 - 0s - 3ms/step - loss: 114.1078 - mae: 7.4598 - val_loss: 310.8249 - val_mae: 14.5003\n",
            "Epoch 25/60\n",
            "50/50 - 0s - 6ms/step - loss: 141.3334 - mae: 8.5105 - val_loss: 468.2340 - val_mae: 11.8461\n",
            "Epoch 26/60\n",
            "50/50 - 0s - 4ms/step - loss: 136.6901 - mae: 7.6000 - val_loss: 443.4668 - val_mae: 17.2706\n",
            "Epoch 27/60\n",
            "50/50 - 0s - 6ms/step - loss: 567.9399 - mae: 17.3294 - val_loss: 855.6303 - val_mae: 12.6505\n",
            "Epoch 28/60\n",
            "50/50 - 0s - 6ms/step - loss: 157.8467 - mae: 8.5414 - val_loss: 188.7212 - val_mae: 9.4190\n",
            "Epoch 29/60\n",
            "50/50 - 0s - 4ms/step - loss: 217.0605 - mae: 9.4215 - val_loss: 630.7574 - val_mae: 11.1450\n",
            "Epoch 30/60\n",
            "50/50 - 0s - 6ms/step - loss: 86.9012 - mae: 6.6351 - val_loss: 167.3514 - val_mae: 8.3342\n",
            "Epoch 31/60\n",
            "50/50 - 0s - 4ms/step - loss: 76.8293 - mae: 6.6206 - val_loss: 233.1689 - val_mae: 8.0263\n",
            "Epoch 32/60\n",
            "50/50 - 0s - 6ms/step - loss: 114.9827 - mae: 7.5892 - val_loss: 349.5887 - val_mae: 11.5645\n",
            "Epoch 33/60\n",
            "50/50 - 0s - 6ms/step - loss: 135.2362 - mae: 8.0057 - val_loss: 318.0773 - val_mae: 13.0191\n",
            "Epoch 34/60\n",
            "50/50 - 0s - 4ms/step - loss: 151.4611 - mae: 7.4625 - val_loss: 502.1877 - val_mae: 10.6591\n",
            "Epoch 35/60\n",
            "50/50 - 0s - 6ms/step - loss: 385.3921 - mae: 10.6134 - val_loss: 266.4894 - val_mae: 12.8551\n",
            "Epoch 36/60\n",
            "50/50 - 0s - 4ms/step - loss: 228.0085 - mae: 10.4206 - val_loss: 510.5372 - val_mae: 15.2360\n",
            "Epoch 37/60\n",
            "50/50 - 0s - 6ms/step - loss: 2666.2791 - mae: 28.0025 - val_loss: 10323.3936 - val_mae: 90.9152\n",
            "Mean training loss: 177.6193 -- Mean validation loss: 160.8866 -- Hyperparameters: (Width: 32, Depth: 2)\n",
            "Width: 32, Depth: 4\n"
          ]
        },
        {
          "output_type": "display_data",
          "data": {
            "text/plain": [
              "\u001b[1mModel: \"sequential_5\"\u001b[0m\n"
            ],
            "text/html": [
              "<pre style=\"white-space:pre;overflow-x:auto;line-height:normal;font-family:Menlo,'DejaVu Sans Mono',consolas,'Courier New',monospace\"><span style=\"font-weight: bold\">Model: \"sequential_5\"</span>\n",
              "</pre>\n"
            ]
          },
          "metadata": {}
        },
        {
          "output_type": "display_data",
          "data": {
            "text/plain": [
              "┏━━━━━━━━━━━━━━━━━━━━━━━━━━━━━━━━━━━━━━┳━━━━━━━━━━━━━━━━━━━━━━━━━━━━━┳━━━━━━━━━━━━━━━━━┓\n",
              "┃\u001b[1m \u001b[0m\u001b[1mLayer (type)                        \u001b[0m\u001b[1m \u001b[0m┃\u001b[1m \u001b[0m\u001b[1mOutput Shape               \u001b[0m\u001b[1m \u001b[0m┃\u001b[1m \u001b[0m\u001b[1m        Param #\u001b[0m\u001b[1m \u001b[0m┃\n",
              "┡━━━━━━━━━━━━━━━━━━━━━━━━━━━━━━━━━━━━━━╇━━━━━━━━━━━━━━━━━━━━━━━━━━━━━╇━━━━━━━━━━━━━━━━━┩\n",
              "│ dense_15 (\u001b[38;5;33mDense\u001b[0m)                     │ (\u001b[38;5;45mNone\u001b[0m, \u001b[38;5;34m32\u001b[0m)                  │           \u001b[38;5;34m2,208\u001b[0m │\n",
              "├──────────────────────────────────────┼─────────────────────────────┼─────────────────┤\n",
              "│ dense_16 (\u001b[38;5;33mDense\u001b[0m)                     │ (\u001b[38;5;45mNone\u001b[0m, \u001b[38;5;34m32\u001b[0m)                  │           \u001b[38;5;34m1,056\u001b[0m │\n",
              "├──────────────────────────────────────┼─────────────────────────────┼─────────────────┤\n",
              "│ dense_17 (\u001b[38;5;33mDense\u001b[0m)                     │ (\u001b[38;5;45mNone\u001b[0m, \u001b[38;5;34m32\u001b[0m)                  │           \u001b[38;5;34m1,056\u001b[0m │\n",
              "├──────────────────────────────────────┼─────────────────────────────┼─────────────────┤\n",
              "│ dense_18 (\u001b[38;5;33mDense\u001b[0m)                     │ (\u001b[38;5;45mNone\u001b[0m, \u001b[38;5;34m32\u001b[0m)                  │           \u001b[38;5;34m1,056\u001b[0m │\n",
              "├──────────────────────────────────────┼─────────────────────────────┼─────────────────┤\n",
              "│ dense_19 (\u001b[38;5;33mDense\u001b[0m)                     │ (\u001b[38;5;45mNone\u001b[0m, \u001b[38;5;34m1\u001b[0m)                   │              \u001b[38;5;34m33\u001b[0m │\n",
              "└──────────────────────────────────────┴─────────────────────────────┴─────────────────┘\n"
            ],
            "text/html": [
              "<pre style=\"white-space:pre;overflow-x:auto;line-height:normal;font-family:Menlo,'DejaVu Sans Mono',consolas,'Courier New',monospace\">┏━━━━━━━━━━━━━━━━━━━━━━━━━━━━━━━━━━━━━━┳━━━━━━━━━━━━━━━━━━━━━━━━━━━━━┳━━━━━━━━━━━━━━━━━┓\n",
              "┃<span style=\"font-weight: bold\"> Layer (type)                         </span>┃<span style=\"font-weight: bold\"> Output Shape                </span>┃<span style=\"font-weight: bold\">         Param # </span>┃\n",
              "┡━━━━━━━━━━━━━━━━━━━━━━━━━━━━━━━━━━━━━━╇━━━━━━━━━━━━━━━━━━━━━━━━━━━━━╇━━━━━━━━━━━━━━━━━┩\n",
              "│ dense_15 (<span style=\"color: #0087ff; text-decoration-color: #0087ff\">Dense</span>)                     │ (<span style=\"color: #00d7ff; text-decoration-color: #00d7ff\">None</span>, <span style=\"color: #00af00; text-decoration-color: #00af00\">32</span>)                  │           <span style=\"color: #00af00; text-decoration-color: #00af00\">2,208</span> │\n",
              "├──────────────────────────────────────┼─────────────────────────────┼─────────────────┤\n",
              "│ dense_16 (<span style=\"color: #0087ff; text-decoration-color: #0087ff\">Dense</span>)                     │ (<span style=\"color: #00d7ff; text-decoration-color: #00d7ff\">None</span>, <span style=\"color: #00af00; text-decoration-color: #00af00\">32</span>)                  │           <span style=\"color: #00af00; text-decoration-color: #00af00\">1,056</span> │\n",
              "├──────────────────────────────────────┼─────────────────────────────┼─────────────────┤\n",
              "│ dense_17 (<span style=\"color: #0087ff; text-decoration-color: #0087ff\">Dense</span>)                     │ (<span style=\"color: #00d7ff; text-decoration-color: #00d7ff\">None</span>, <span style=\"color: #00af00; text-decoration-color: #00af00\">32</span>)                  │           <span style=\"color: #00af00; text-decoration-color: #00af00\">1,056</span> │\n",
              "├──────────────────────────────────────┼─────────────────────────────┼─────────────────┤\n",
              "│ dense_18 (<span style=\"color: #0087ff; text-decoration-color: #0087ff\">Dense</span>)                     │ (<span style=\"color: #00d7ff; text-decoration-color: #00d7ff\">None</span>, <span style=\"color: #00af00; text-decoration-color: #00af00\">32</span>)                  │           <span style=\"color: #00af00; text-decoration-color: #00af00\">1,056</span> │\n",
              "├──────────────────────────────────────┼─────────────────────────────┼─────────────────┤\n",
              "│ dense_19 (<span style=\"color: #0087ff; text-decoration-color: #0087ff\">Dense</span>)                     │ (<span style=\"color: #00d7ff; text-decoration-color: #00d7ff\">None</span>, <span style=\"color: #00af00; text-decoration-color: #00af00\">1</span>)                   │              <span style=\"color: #00af00; text-decoration-color: #00af00\">33</span> │\n",
              "└──────────────────────────────────────┴─────────────────────────────┴─────────────────┘\n",
              "</pre>\n"
            ]
          },
          "metadata": {}
        },
        {
          "output_type": "display_data",
          "data": {
            "text/plain": [
              "\u001b[1m Total params: \u001b[0m\u001b[38;5;34m5,409\u001b[0m (21.13 KB)\n"
            ],
            "text/html": [
              "<pre style=\"white-space:pre;overflow-x:auto;line-height:normal;font-family:Menlo,'DejaVu Sans Mono',consolas,'Courier New',monospace\"><span style=\"font-weight: bold\"> Total params: </span><span style=\"color: #00af00; text-decoration-color: #00af00\">5,409</span> (21.13 KB)\n",
              "</pre>\n"
            ]
          },
          "metadata": {}
        },
        {
          "output_type": "display_data",
          "data": {
            "text/plain": [
              "\u001b[1m Trainable params: \u001b[0m\u001b[38;5;34m5,409\u001b[0m (21.13 KB)\n"
            ],
            "text/html": [
              "<pre style=\"white-space:pre;overflow-x:auto;line-height:normal;font-family:Menlo,'DejaVu Sans Mono',consolas,'Courier New',monospace\"><span style=\"font-weight: bold\"> Trainable params: </span><span style=\"color: #00af00; text-decoration-color: #00af00\">5,409</span> (21.13 KB)\n",
              "</pre>\n"
            ]
          },
          "metadata": {}
        },
        {
          "output_type": "display_data",
          "data": {
            "text/plain": [
              "\u001b[1m Non-trainable params: \u001b[0m\u001b[38;5;34m0\u001b[0m (0.00 B)\n"
            ],
            "text/html": [
              "<pre style=\"white-space:pre;overflow-x:auto;line-height:normal;font-family:Menlo,'DejaVu Sans Mono',consolas,'Courier New',monospace\"><span style=\"font-weight: bold\"> Non-trainable params: </span><span style=\"color: #00af00; text-decoration-color: #00af00\">0</span> (0.00 B)\n",
              "</pre>\n"
            ]
          },
          "metadata": {}
        },
        {
          "output_type": "stream",
          "name": "stdout",
          "text": [
            "Epoch 1/60\n",
            "50/50 - 3s - 57ms/step - loss: 147468.0938 - mae: 199.3323 - val_loss: 3317.2051 - val_mae: 44.9707\n",
            "Epoch 2/60\n",
            "50/50 - 0s - 4ms/step - loss: 776.9791 - mae: 18.8826 - val_loss: 360.2523 - val_mae: 12.0546\n",
            "Epoch 3/60\n",
            "50/50 - 0s - 5ms/step - loss: 294.5284 - mae: 11.4855 - val_loss: 236.7703 - val_mae: 10.1618\n",
            "Epoch 4/60\n",
            "50/50 - 0s - 4ms/step - loss: 189.3546 - mae: 9.4679 - val_loss: 174.9333 - val_mae: 9.1064\n",
            "Epoch 5/60\n",
            "50/50 - 0s - 6ms/step - loss: 147.8809 - mae: 8.5903 - val_loss: 112.6205 - val_mae: 7.9424\n",
            "Epoch 6/60\n",
            "50/50 - 0s - 6ms/step - loss: 120.7113 - mae: 7.6788 - val_loss: 131.7968 - val_mae: 7.8090\n",
            "Epoch 7/60\n",
            "50/50 - 0s - 6ms/step - loss: 102.4330 - mae: 7.2917 - val_loss: 96.9601 - val_mae: 7.3245\n",
            "Epoch 8/60\n",
            "50/50 - 0s - 4ms/step - loss: 92.0750 - mae: 7.0516 - val_loss: 116.8312 - val_mae: 7.1614\n",
            "Epoch 9/60\n",
            "50/50 - 0s - 4ms/step - loss: 81.5836 - mae: 6.4694 - val_loss: 85.8653 - val_mae: 6.6770\n",
            "Epoch 10/60\n",
            "50/50 - 0s - 6ms/step - loss: 69.2722 - mae: 6.0338 - val_loss: 82.0237 - val_mae: 6.4948\n",
            "Epoch 11/60\n",
            "50/50 - 0s - 6ms/step - loss: 67.1879 - mae: 5.9951 - val_loss: 100.0703 - val_mae: 6.5345\n",
            "Epoch 12/60\n",
            "50/50 - 0s - 6ms/step - loss: 67.1943 - mae: 5.9512 - val_loss: 74.8111 - val_mae: 5.9474\n",
            "Epoch 13/60\n",
            "50/50 - 0s - 6ms/step - loss: 55.3836 - mae: 5.4323 - val_loss: 72.7535 - val_mae: 5.7289\n",
            "Epoch 14/60\n",
            "50/50 - 0s - 6ms/step - loss: 53.5875 - mae: 5.3738 - val_loss: 78.6398 - val_mae: 5.7013\n",
            "Epoch 15/60\n",
            "50/50 - 0s - 6ms/step - loss: 46.2207 - mae: 4.9255 - val_loss: 67.5214 - val_mae: 5.4104\n",
            "Epoch 16/60\n",
            "50/50 - 0s - 4ms/step - loss: 43.1014 - mae: 4.8132 - val_loss: 92.2024 - val_mae: 7.2983\n",
            "Epoch 17/60\n",
            "50/50 - 0s - 6ms/step - loss: 40.3040 - mae: 4.6629 - val_loss: 62.1784 - val_mae: 5.1294\n",
            "Epoch 18/60\n",
            "50/50 - 0s - 6ms/step - loss: 40.8897 - mae: 4.6999 - val_loss: 74.9699 - val_mae: 6.0670\n",
            "Epoch 19/60\n",
            "50/50 - 0s - 6ms/step - loss: 36.1309 - mae: 4.5458 - val_loss: 58.1343 - val_mae: 4.8403\n",
            "Epoch 20/60\n",
            "50/50 - 0s - 4ms/step - loss: 33.1893 - mae: 4.1576 - val_loss: 55.3969 - val_mae: 4.5155\n",
            "Epoch 21/60\n",
            "50/50 - 0s - 6ms/step - loss: 29.5113 - mae: 4.0240 - val_loss: 55.1921 - val_mae: 4.4278\n",
            "Epoch 22/60\n",
            "50/50 - 0s - 6ms/step - loss: 27.0283 - mae: 3.8406 - val_loss: 47.0508 - val_mae: 4.4944\n",
            "Epoch 23/60\n",
            "50/50 - 0s - 6ms/step - loss: 28.9794 - mae: 3.8516 - val_loss: 38.6553 - val_mae: 4.0834\n",
            "Epoch 24/60\n",
            "50/50 - 0s - 4ms/step - loss: 26.9764 - mae: 3.8569 - val_loss: 42.6467 - val_mae: 4.2803\n",
            "Epoch 25/60\n",
            "50/50 - 0s - 6ms/step - loss: 25.1030 - mae: 3.8510 - val_loss: 46.4507 - val_mae: 4.0111\n",
            "Epoch 26/60\n",
            "50/50 - 0s - 6ms/step - loss: 21.3100 - mae: 3.4673 - val_loss: 42.2844 - val_mae: 3.9219\n",
            "Epoch 27/60\n",
            "50/50 - 0s - 4ms/step - loss: 20.2631 - mae: 3.3376 - val_loss: 50.5183 - val_mae: 5.0851\n",
            "Epoch 28/60\n",
            "50/50 - 0s - 5ms/step - loss: 21.1009 - mae: 3.4702 - val_loss: 48.0550 - val_mae: 3.9019\n",
            "Epoch 29/60\n",
            "50/50 - 0s - 6ms/step - loss: 20.0109 - mae: 3.3658 - val_loss: 45.5565 - val_mae: 3.9140\n",
            "Epoch 30/60\n",
            "50/50 - 0s - 6ms/step - loss: 16.3761 - mae: 3.0522 - val_loss: 47.6563 - val_mae: 4.1398\n"
          ]
        },
        {
          "output_type": "display_data",
          "data": {
            "text/plain": [
              "\u001b[1mModel: \"sequential_6\"\u001b[0m\n"
            ],
            "text/html": [
              "<pre style=\"white-space:pre;overflow-x:auto;line-height:normal;font-family:Menlo,'DejaVu Sans Mono',consolas,'Courier New',monospace\"><span style=\"font-weight: bold\">Model: \"sequential_6\"</span>\n",
              "</pre>\n"
            ]
          },
          "metadata": {}
        },
        {
          "output_type": "display_data",
          "data": {
            "text/plain": [
              "┏━━━━━━━━━━━━━━━━━━━━━━━━━━━━━━━━━━━━━━┳━━━━━━━━━━━━━━━━━━━━━━━━━━━━━┳━━━━━━━━━━━━━━━━━┓\n",
              "┃\u001b[1m \u001b[0m\u001b[1mLayer (type)                        \u001b[0m\u001b[1m \u001b[0m┃\u001b[1m \u001b[0m\u001b[1mOutput Shape               \u001b[0m\u001b[1m \u001b[0m┃\u001b[1m \u001b[0m\u001b[1m        Param #\u001b[0m\u001b[1m \u001b[0m┃\n",
              "┡━━━━━━━━━━━━━━━━━━━━━━━━━━━━━━━━━━━━━━╇━━━━━━━━━━━━━━━━━━━━━━━━━━━━━╇━━━━━━━━━━━━━━━━━┩\n",
              "│ dense_20 (\u001b[38;5;33mDense\u001b[0m)                     │ (\u001b[38;5;45mNone\u001b[0m, \u001b[38;5;34m32\u001b[0m)                  │           \u001b[38;5;34m2,208\u001b[0m │\n",
              "├──────────────────────────────────────┼─────────────────────────────┼─────────────────┤\n",
              "│ dense_21 (\u001b[38;5;33mDense\u001b[0m)                     │ (\u001b[38;5;45mNone\u001b[0m, \u001b[38;5;34m32\u001b[0m)                  │           \u001b[38;5;34m1,056\u001b[0m │\n",
              "├──────────────────────────────────────┼─────────────────────────────┼─────────────────┤\n",
              "│ dense_22 (\u001b[38;5;33mDense\u001b[0m)                     │ (\u001b[38;5;45mNone\u001b[0m, \u001b[38;5;34m32\u001b[0m)                  │           \u001b[38;5;34m1,056\u001b[0m │\n",
              "├──────────────────────────────────────┼─────────────────────────────┼─────────────────┤\n",
              "│ dense_23 (\u001b[38;5;33mDense\u001b[0m)                     │ (\u001b[38;5;45mNone\u001b[0m, \u001b[38;5;34m32\u001b[0m)                  │           \u001b[38;5;34m1,056\u001b[0m │\n",
              "├──────────────────────────────────────┼─────────────────────────────┼─────────────────┤\n",
              "│ dense_24 (\u001b[38;5;33mDense\u001b[0m)                     │ (\u001b[38;5;45mNone\u001b[0m, \u001b[38;5;34m1\u001b[0m)                   │              \u001b[38;5;34m33\u001b[0m │\n",
              "└──────────────────────────────────────┴─────────────────────────────┴─────────────────┘\n"
            ],
            "text/html": [
              "<pre style=\"white-space:pre;overflow-x:auto;line-height:normal;font-family:Menlo,'DejaVu Sans Mono',consolas,'Courier New',monospace\">┏━━━━━━━━━━━━━━━━━━━━━━━━━━━━━━━━━━━━━━┳━━━━━━━━━━━━━━━━━━━━━━━━━━━━━┳━━━━━━━━━━━━━━━━━┓\n",
              "┃<span style=\"font-weight: bold\"> Layer (type)                         </span>┃<span style=\"font-weight: bold\"> Output Shape                </span>┃<span style=\"font-weight: bold\">         Param # </span>┃\n",
              "┡━━━━━━━━━━━━━━━━━━━━━━━━━━━━━━━━━━━━━━╇━━━━━━━━━━━━━━━━━━━━━━━━━━━━━╇━━━━━━━━━━━━━━━━━┩\n",
              "│ dense_20 (<span style=\"color: #0087ff; text-decoration-color: #0087ff\">Dense</span>)                     │ (<span style=\"color: #00d7ff; text-decoration-color: #00d7ff\">None</span>, <span style=\"color: #00af00; text-decoration-color: #00af00\">32</span>)                  │           <span style=\"color: #00af00; text-decoration-color: #00af00\">2,208</span> │\n",
              "├──────────────────────────────────────┼─────────────────────────────┼─────────────────┤\n",
              "│ dense_21 (<span style=\"color: #0087ff; text-decoration-color: #0087ff\">Dense</span>)                     │ (<span style=\"color: #00d7ff; text-decoration-color: #00d7ff\">None</span>, <span style=\"color: #00af00; text-decoration-color: #00af00\">32</span>)                  │           <span style=\"color: #00af00; text-decoration-color: #00af00\">1,056</span> │\n",
              "├──────────────────────────────────────┼─────────────────────────────┼─────────────────┤\n",
              "│ dense_22 (<span style=\"color: #0087ff; text-decoration-color: #0087ff\">Dense</span>)                     │ (<span style=\"color: #00d7ff; text-decoration-color: #00d7ff\">None</span>, <span style=\"color: #00af00; text-decoration-color: #00af00\">32</span>)                  │           <span style=\"color: #00af00; text-decoration-color: #00af00\">1,056</span> │\n",
              "├──────────────────────────────────────┼─────────────────────────────┼─────────────────┤\n",
              "│ dense_23 (<span style=\"color: #0087ff; text-decoration-color: #0087ff\">Dense</span>)                     │ (<span style=\"color: #00d7ff; text-decoration-color: #00d7ff\">None</span>, <span style=\"color: #00af00; text-decoration-color: #00af00\">32</span>)                  │           <span style=\"color: #00af00; text-decoration-color: #00af00\">1,056</span> │\n",
              "├──────────────────────────────────────┼─────────────────────────────┼─────────────────┤\n",
              "│ dense_24 (<span style=\"color: #0087ff; text-decoration-color: #0087ff\">Dense</span>)                     │ (<span style=\"color: #00d7ff; text-decoration-color: #00d7ff\">None</span>, <span style=\"color: #00af00; text-decoration-color: #00af00\">1</span>)                   │              <span style=\"color: #00af00; text-decoration-color: #00af00\">33</span> │\n",
              "└──────────────────────────────────────┴─────────────────────────────┴─────────────────┘\n",
              "</pre>\n"
            ]
          },
          "metadata": {}
        },
        {
          "output_type": "display_data",
          "data": {
            "text/plain": [
              "\u001b[1m Total params: \u001b[0m\u001b[38;5;34m5,409\u001b[0m (21.13 KB)\n"
            ],
            "text/html": [
              "<pre style=\"white-space:pre;overflow-x:auto;line-height:normal;font-family:Menlo,'DejaVu Sans Mono',consolas,'Courier New',monospace\"><span style=\"font-weight: bold\"> Total params: </span><span style=\"color: #00af00; text-decoration-color: #00af00\">5,409</span> (21.13 KB)\n",
              "</pre>\n"
            ]
          },
          "metadata": {}
        },
        {
          "output_type": "display_data",
          "data": {
            "text/plain": [
              "\u001b[1m Trainable params: \u001b[0m\u001b[38;5;34m5,409\u001b[0m (21.13 KB)\n"
            ],
            "text/html": [
              "<pre style=\"white-space:pre;overflow-x:auto;line-height:normal;font-family:Menlo,'DejaVu Sans Mono',consolas,'Courier New',monospace\"><span style=\"font-weight: bold\"> Trainable params: </span><span style=\"color: #00af00; text-decoration-color: #00af00\">5,409</span> (21.13 KB)\n",
              "</pre>\n"
            ]
          },
          "metadata": {}
        },
        {
          "output_type": "display_data",
          "data": {
            "text/plain": [
              "\u001b[1m Non-trainable params: \u001b[0m\u001b[38;5;34m0\u001b[0m (0.00 B)\n"
            ],
            "text/html": [
              "<pre style=\"white-space:pre;overflow-x:auto;line-height:normal;font-family:Menlo,'DejaVu Sans Mono',consolas,'Courier New',monospace\"><span style=\"font-weight: bold\"> Non-trainable params: </span><span style=\"color: #00af00; text-decoration-color: #00af00\">0</span> (0.00 B)\n",
              "</pre>\n"
            ]
          },
          "metadata": {}
        },
        {
          "output_type": "stream",
          "name": "stdout",
          "text": [
            "Epoch 1/60\n",
            "50/50 - 2s - 48ms/step - loss: 3246.0657 - mae: 37.6726 - val_loss: 285.5803 - val_mae: 10.4583\n",
            "Epoch 2/60\n",
            "50/50 - 0s - 7ms/step - loss: 218.9195 - mae: 10.0276 - val_loss: 136.2257 - val_mae: 6.8691\n",
            "Epoch 3/60\n",
            "50/50 - 1s - 13ms/step - loss: 114.1446 - mae: 7.6686 - val_loss: 209.1408 - val_mae: 11.3629\n",
            "Epoch 4/60\n",
            "50/50 - 0s - 10ms/step - loss: 215.9396 - mae: 9.0041 - val_loss: 100.7002 - val_mae: 5.8393\n",
            "Epoch 5/60\n",
            "50/50 - 0s - 6ms/step - loss: 759.2198 - mae: 12.4557 - val_loss: 84.1242 - val_mae: 6.2473\n",
            "Epoch 6/60\n",
            "50/50 - 0s - 4ms/step - loss: 348.0616 - mae: 10.2678 - val_loss: 80.4119 - val_mae: 5.6824\n",
            "Epoch 7/60\n",
            "50/50 - 0s - 7ms/step - loss: 103.0837 - mae: 5.6328 - val_loss: 45.8881 - val_mae: 4.6647\n",
            "Epoch 8/60\n",
            "50/50 - 0s - 5ms/step - loss: 86.1013 - mae: 4.8489 - val_loss: 48.7775 - val_mae: 4.3275\n",
            "Epoch 9/60\n",
            "50/50 - 0s - 7ms/step - loss: 30.4847 - mae: 3.8956 - val_loss: 45.2269 - val_mae: 4.4274\n",
            "Epoch 10/60\n",
            "50/50 - 0s - 4ms/step - loss: 34.8442 - mae: 3.9384 - val_loss: 60.0506 - val_mae: 5.7870\n",
            "Epoch 11/60\n",
            "50/50 - 0s - 6ms/step - loss: 31.8593 - mae: 4.1440 - val_loss: 44.3903 - val_mae: 4.3481\n",
            "Epoch 12/60\n",
            "50/50 - 0s - 6ms/step - loss: 31.3591 - mae: 3.7475 - val_loss: 31.6504 - val_mae: 3.7856\n",
            "Epoch 13/60\n",
            "50/50 - 0s - 6ms/step - loss: 24.6213 - mae: 3.5359 - val_loss: 38.4210 - val_mae: 4.6760\n",
            "Epoch 14/60\n",
            "50/50 - 0s - 6ms/step - loss: 26.0625 - mae: 3.4311 - val_loss: 30.3541 - val_mae: 3.8461\n",
            "Epoch 15/60\n",
            "50/50 - 0s - 5ms/step - loss: 27.7698 - mae: 3.5577 - val_loss: 33.3743 - val_mae: 3.8972\n",
            "Epoch 16/60\n",
            "50/50 - 0s - 6ms/step - loss: 29.7370 - mae: 3.7593 - val_loss: 36.3487 - val_mae: 3.6206\n",
            "Epoch 17/60\n",
            "50/50 - 0s - 4ms/step - loss: 46.5478 - mae: 3.7326 - val_loss: 26.0600 - val_mae: 3.7079\n",
            "Epoch 18/60\n",
            "50/50 - 0s - 6ms/step - loss: 72.4452 - mae: 3.9550 - val_loss: 70.8387 - val_mae: 6.7286\n",
            "Epoch 19/60\n",
            "50/50 - 0s - 6ms/step - loss: 100.1658 - mae: 5.5162 - val_loss: 55.0267 - val_mae: 5.0046\n",
            "Epoch 20/60\n",
            "50/50 - 0s - 7ms/step - loss: 40.2899 - mae: 3.9602 - val_loss: 20.5541 - val_mae: 3.4724\n",
            "Epoch 21/60\n",
            "50/50 - 0s - 4ms/step - loss: 17.8075 - mae: 3.1319 - val_loss: 17.6664 - val_mae: 3.0336\n",
            "Epoch 22/60\n",
            "50/50 - 0s - 5ms/step - loss: 18.8768 - mae: 3.2534 - val_loss: 16.9485 - val_mae: 2.9663\n",
            "Epoch 23/60\n",
            "50/50 - 0s - 6ms/step - loss: 15.9993 - mae: 2.8836 - val_loss: 16.7561 - val_mae: 2.8319\n",
            "Epoch 24/60\n",
            "50/50 - 0s - 6ms/step - loss: 12.0573 - mae: 2.4987 - val_loss: 15.7062 - val_mae: 2.9444\n",
            "Epoch 25/60\n",
            "50/50 - 0s - 6ms/step - loss: 19.8804 - mae: 2.8041 - val_loss: 22.3769 - val_mae: 2.8671\n",
            "Epoch 26/60\n",
            "50/50 - 0s - 4ms/step - loss: 18.4083 - mae: 2.6765 - val_loss: 18.9111 - val_mae: 3.4215\n",
            "Epoch 27/60\n",
            "50/50 - 0s - 4ms/step - loss: 44.3394 - mae: 3.5945 - val_loss: 13.7945 - val_mae: 2.6577\n",
            "Epoch 28/60\n",
            "50/50 - 0s - 4ms/step - loss: 20.4644 - mae: 2.8420 - val_loss: 20.2483 - val_mae: 3.3777\n",
            "Epoch 29/60\n",
            "50/50 - 0s - 7ms/step - loss: 20.3549 - mae: 2.7591 - val_loss: 21.0089 - val_mae: 3.3085\n",
            "Epoch 30/60\n",
            "50/50 - 0s - 4ms/step - loss: 10.4835 - mae: 2.2090 - val_loss: 12.7737 - val_mae: 2.3345\n",
            "Epoch 31/60\n",
            "50/50 - 0s - 6ms/step - loss: 18.1767 - mae: 2.7018 - val_loss: 14.0510 - val_mae: 2.3976\n",
            "Epoch 32/60\n",
            "50/50 - 0s - 7ms/step - loss: 15.0406 - mae: 2.3404 - val_loss: 14.4562 - val_mae: 2.5265\n",
            "Epoch 33/60\n",
            "50/50 - 0s - 4ms/step - loss: 9.7339 - mae: 2.2212 - val_loss: 13.5280 - val_mae: 2.2106\n",
            "Epoch 34/60\n",
            "50/50 - 0s - 6ms/step - loss: 9.5412 - mae: 2.0909 - val_loss: 14.1498 - val_mae: 2.2764\n",
            "Epoch 35/60\n",
            "50/50 - 0s - 4ms/step - loss: 12.3651 - mae: 2.1860 - val_loss: 12.8047 - val_mae: 2.2781\n",
            "Epoch 36/60\n",
            "50/50 - 0s - 6ms/step - loss: 18.8590 - mae: 2.5193 - val_loss: 13.9499 - val_mae: 2.1950\n",
            "Epoch 37/60\n",
            "50/50 - 0s - 6ms/step - loss: 153.1071 - mae: 5.0543 - val_loss: 106.9703 - val_mae: 8.6631\n"
          ]
        },
        {
          "output_type": "display_data",
          "data": {
            "text/plain": [
              "\u001b[1mModel: \"sequential_7\"\u001b[0m\n"
            ],
            "text/html": [
              "<pre style=\"white-space:pre;overflow-x:auto;line-height:normal;font-family:Menlo,'DejaVu Sans Mono',consolas,'Courier New',monospace\"><span style=\"font-weight: bold\">Model: \"sequential_7\"</span>\n",
              "</pre>\n"
            ]
          },
          "metadata": {}
        },
        {
          "output_type": "display_data",
          "data": {
            "text/plain": [
              "┏━━━━━━━━━━━━━━━━━━━━━━━━━━━━━━━━━━━━━━┳━━━━━━━━━━━━━━━━━━━━━━━━━━━━━┳━━━━━━━━━━━━━━━━━┓\n",
              "┃\u001b[1m \u001b[0m\u001b[1mLayer (type)                        \u001b[0m\u001b[1m \u001b[0m┃\u001b[1m \u001b[0m\u001b[1mOutput Shape               \u001b[0m\u001b[1m \u001b[0m┃\u001b[1m \u001b[0m\u001b[1m        Param #\u001b[0m\u001b[1m \u001b[0m┃\n",
              "┡━━━━━━━━━━━━━━━━━━━━━━━━━━━━━━━━━━━━━━╇━━━━━━━━━━━━━━━━━━━━━━━━━━━━━╇━━━━━━━━━━━━━━━━━┩\n",
              "│ dense_25 (\u001b[38;5;33mDense\u001b[0m)                     │ (\u001b[38;5;45mNone\u001b[0m, \u001b[38;5;34m32\u001b[0m)                  │           \u001b[38;5;34m2,208\u001b[0m │\n",
              "├──────────────────────────────────────┼─────────────────────────────┼─────────────────┤\n",
              "│ dense_26 (\u001b[38;5;33mDense\u001b[0m)                     │ (\u001b[38;5;45mNone\u001b[0m, \u001b[38;5;34m32\u001b[0m)                  │           \u001b[38;5;34m1,056\u001b[0m │\n",
              "├──────────────────────────────────────┼─────────────────────────────┼─────────────────┤\n",
              "│ dense_27 (\u001b[38;5;33mDense\u001b[0m)                     │ (\u001b[38;5;45mNone\u001b[0m, \u001b[38;5;34m32\u001b[0m)                  │           \u001b[38;5;34m1,056\u001b[0m │\n",
              "├──────────────────────────────────────┼─────────────────────────────┼─────────────────┤\n",
              "│ dense_28 (\u001b[38;5;33mDense\u001b[0m)                     │ (\u001b[38;5;45mNone\u001b[0m, \u001b[38;5;34m32\u001b[0m)                  │           \u001b[38;5;34m1,056\u001b[0m │\n",
              "├──────────────────────────────────────┼─────────────────────────────┼─────────────────┤\n",
              "│ dense_29 (\u001b[38;5;33mDense\u001b[0m)                     │ (\u001b[38;5;45mNone\u001b[0m, \u001b[38;5;34m1\u001b[0m)                   │              \u001b[38;5;34m33\u001b[0m │\n",
              "└──────────────────────────────────────┴─────────────────────────────┴─────────────────┘\n"
            ],
            "text/html": [
              "<pre style=\"white-space:pre;overflow-x:auto;line-height:normal;font-family:Menlo,'DejaVu Sans Mono',consolas,'Courier New',monospace\">┏━━━━━━━━━━━━━━━━━━━━━━━━━━━━━━━━━━━━━━┳━━━━━━━━━━━━━━━━━━━━━━━━━━━━━┳━━━━━━━━━━━━━━━━━┓\n",
              "┃<span style=\"font-weight: bold\"> Layer (type)                         </span>┃<span style=\"font-weight: bold\"> Output Shape                </span>┃<span style=\"font-weight: bold\">         Param # </span>┃\n",
              "┡━━━━━━━━━━━━━━━━━━━━━━━━━━━━━━━━━━━━━━╇━━━━━━━━━━━━━━━━━━━━━━━━━━━━━╇━━━━━━━━━━━━━━━━━┩\n",
              "│ dense_25 (<span style=\"color: #0087ff; text-decoration-color: #0087ff\">Dense</span>)                     │ (<span style=\"color: #00d7ff; text-decoration-color: #00d7ff\">None</span>, <span style=\"color: #00af00; text-decoration-color: #00af00\">32</span>)                  │           <span style=\"color: #00af00; text-decoration-color: #00af00\">2,208</span> │\n",
              "├──────────────────────────────────────┼─────────────────────────────┼─────────────────┤\n",
              "│ dense_26 (<span style=\"color: #0087ff; text-decoration-color: #0087ff\">Dense</span>)                     │ (<span style=\"color: #00d7ff; text-decoration-color: #00d7ff\">None</span>, <span style=\"color: #00af00; text-decoration-color: #00af00\">32</span>)                  │           <span style=\"color: #00af00; text-decoration-color: #00af00\">1,056</span> │\n",
              "├──────────────────────────────────────┼─────────────────────────────┼─────────────────┤\n",
              "│ dense_27 (<span style=\"color: #0087ff; text-decoration-color: #0087ff\">Dense</span>)                     │ (<span style=\"color: #00d7ff; text-decoration-color: #00d7ff\">None</span>, <span style=\"color: #00af00; text-decoration-color: #00af00\">32</span>)                  │           <span style=\"color: #00af00; text-decoration-color: #00af00\">1,056</span> │\n",
              "├──────────────────────────────────────┼─────────────────────────────┼─────────────────┤\n",
              "│ dense_28 (<span style=\"color: #0087ff; text-decoration-color: #0087ff\">Dense</span>)                     │ (<span style=\"color: #00d7ff; text-decoration-color: #00d7ff\">None</span>, <span style=\"color: #00af00; text-decoration-color: #00af00\">32</span>)                  │           <span style=\"color: #00af00; text-decoration-color: #00af00\">1,056</span> │\n",
              "├──────────────────────────────────────┼─────────────────────────────┼─────────────────┤\n",
              "│ dense_29 (<span style=\"color: #0087ff; text-decoration-color: #0087ff\">Dense</span>)                     │ (<span style=\"color: #00d7ff; text-decoration-color: #00d7ff\">None</span>, <span style=\"color: #00af00; text-decoration-color: #00af00\">1</span>)                   │              <span style=\"color: #00af00; text-decoration-color: #00af00\">33</span> │\n",
              "└──────────────────────────────────────┴─────────────────────────────┴─────────────────┘\n",
              "</pre>\n"
            ]
          },
          "metadata": {}
        },
        {
          "output_type": "display_data",
          "data": {
            "text/plain": [
              "\u001b[1m Total params: \u001b[0m\u001b[38;5;34m5,409\u001b[0m (21.13 KB)\n"
            ],
            "text/html": [
              "<pre style=\"white-space:pre;overflow-x:auto;line-height:normal;font-family:Menlo,'DejaVu Sans Mono',consolas,'Courier New',monospace\"><span style=\"font-weight: bold\"> Total params: </span><span style=\"color: #00af00; text-decoration-color: #00af00\">5,409</span> (21.13 KB)\n",
              "</pre>\n"
            ]
          },
          "metadata": {}
        },
        {
          "output_type": "display_data",
          "data": {
            "text/plain": [
              "\u001b[1m Trainable params: \u001b[0m\u001b[38;5;34m5,409\u001b[0m (21.13 KB)\n"
            ],
            "text/html": [
              "<pre style=\"white-space:pre;overflow-x:auto;line-height:normal;font-family:Menlo,'DejaVu Sans Mono',consolas,'Courier New',monospace\"><span style=\"font-weight: bold\"> Trainable params: </span><span style=\"color: #00af00; text-decoration-color: #00af00\">5,409</span> (21.13 KB)\n",
              "</pre>\n"
            ]
          },
          "metadata": {}
        },
        {
          "output_type": "display_data",
          "data": {
            "text/plain": [
              "\u001b[1m Non-trainable params: \u001b[0m\u001b[38;5;34m0\u001b[0m (0.00 B)\n"
            ],
            "text/html": [
              "<pre style=\"white-space:pre;overflow-x:auto;line-height:normal;font-family:Menlo,'DejaVu Sans Mono',consolas,'Courier New',monospace\"><span style=\"font-weight: bold\"> Non-trainable params: </span><span style=\"color: #00af00; text-decoration-color: #00af00\">0</span> (0.00 B)\n",
              "</pre>\n"
            ]
          },
          "metadata": {}
        },
        {
          "output_type": "stream",
          "name": "stdout",
          "text": [
            "Epoch 1/60\n",
            "50/50 - 3s - 55ms/step - loss: 22886.3301 - mae: 90.3486 - val_loss: 3090.9495 - val_mae: 26.2421\n",
            "Epoch 2/60\n",
            "50/50 - 0s - 4ms/step - loss: 1146.8931 - mae: 19.8922 - val_loss: 428.9862 - val_mae: 14.3455\n",
            "Epoch 3/60\n",
            "50/50 - 0s - 6ms/step - loss: 325.2034 - mae: 12.9761 - val_loss: 344.9646 - val_mae: 12.2478\n",
            "Epoch 4/60\n",
            "50/50 - 0s - 4ms/step - loss: 224.7838 - mae: 10.8456 - val_loss: 288.4273 - val_mae: 10.9248\n",
            "Epoch 5/60\n",
            "50/50 - 0s - 4ms/step - loss: 170.4971 - mae: 9.5447 - val_loss: 240.6356 - val_mae: 9.9224\n",
            "Epoch 6/60\n",
            "50/50 - 0s - 6ms/step - loss: 159.1366 - mae: 9.1920 - val_loss: 236.8651 - val_mae: 9.4356\n",
            "Epoch 7/60\n",
            "50/50 - 0s - 6ms/step - loss: 126.2380 - mae: 8.1422 - val_loss: 219.7973 - val_mae: 8.8475\n",
            "Epoch 8/60\n",
            "50/50 - 0s - 6ms/step - loss: 102.5228 - mae: 7.3387 - val_loss: 188.5726 - val_mae: 8.3734\n",
            "Epoch 9/60\n",
            "50/50 - 0s - 6ms/step - loss: 103.1338 - mae: 7.2051 - val_loss: 302.0670 - val_mae: 8.3561\n",
            "Epoch 10/60\n",
            "50/50 - 0s - 4ms/step - loss: 110.0296 - mae: 7.1523 - val_loss: 131.0285 - val_mae: 7.8049\n",
            "Epoch 11/60\n",
            "50/50 - 0s - 4ms/step - loss: 132.9664 - mae: 7.5774 - val_loss: 209.2965 - val_mae: 7.9242\n",
            "Epoch 12/60\n",
            "50/50 - 0s - 6ms/step - loss: 92.7330 - mae: 6.6456 - val_loss: 198.1100 - val_mae: 9.8305\n",
            "Epoch 13/60\n",
            "50/50 - 0s - 6ms/step - loss: 83.5838 - mae: 6.6627 - val_loss: 204.0571 - val_mae: 9.2786\n",
            "Epoch 14/60\n",
            "50/50 - 0s - 6ms/step - loss: 74.5120 - mae: 6.5299 - val_loss: 149.4565 - val_mae: 7.7538\n",
            "Epoch 15/60\n",
            "50/50 - 0s - 6ms/step - loss: 59.4563 - mae: 5.8477 - val_loss: 125.7636 - val_mae: 6.8179\n",
            "Epoch 16/60\n",
            "50/50 - 0s - 4ms/step - loss: 105.9219 - mae: 6.5595 - val_loss: 182.2014 - val_mae: 8.0094\n",
            "Epoch 17/60\n",
            "50/50 - 0s - 6ms/step - loss: 171.7498 - mae: 7.9086 - val_loss: 204.4610 - val_mae: 8.9080\n",
            "Epoch 18/60\n",
            "50/50 - 0s - 4ms/step - loss: 183.0217 - mae: 8.2926 - val_loss: 89.5919 - val_mae: 6.8336\n",
            "Epoch 19/60\n",
            "50/50 - 0s - 6ms/step - loss: 136.6195 - mae: 7.4784 - val_loss: 88.1471 - val_mae: 6.7381\n",
            "Epoch 20/60\n",
            "50/50 - 0s - 6ms/step - loss: 61.6315 - mae: 5.7143 - val_loss: 65.0709 - val_mae: 5.9426\n",
            "Epoch 21/60\n",
            "50/50 - 0s - 6ms/step - loss: 52.1464 - mae: 5.4235 - val_loss: 71.1485 - val_mae: 5.3653\n",
            "Epoch 22/60\n",
            "50/50 - 0s - 6ms/step - loss: 72.0416 - mae: 5.6335 - val_loss: 160.1785 - val_mae: 6.4561\n",
            "Epoch 23/60\n",
            "50/50 - 0s - 6ms/step - loss: 131.7302 - mae: 6.4380 - val_loss: 663.0201 - val_mae: 9.3473\n",
            "Epoch 24/60\n",
            "50/50 - 0s - 6ms/step - loss: 349.8058 - mae: 9.2765 - val_loss: 649.0943 - val_mae: 11.5167\n",
            "Epoch 25/60\n",
            "50/50 - 0s - 4ms/step - loss: 225.2478 - mae: 8.1216 - val_loss: 119.1280 - val_mae: 7.0805\n",
            "Epoch 26/60\n",
            "50/50 - 0s - 6ms/step - loss: 115.1398 - mae: 5.8332 - val_loss: 78.6376 - val_mae: 5.3622\n",
            "Epoch 27/60\n",
            "50/50 - 0s - 6ms/step - loss: 42.9483 - mae: 4.5307 - val_loss: 68.0944 - val_mae: 5.2137\n"
          ]
        },
        {
          "output_type": "display_data",
          "data": {
            "text/plain": [
              "\u001b[1mModel: \"sequential_8\"\u001b[0m\n"
            ],
            "text/html": [
              "<pre style=\"white-space:pre;overflow-x:auto;line-height:normal;font-family:Menlo,'DejaVu Sans Mono',consolas,'Courier New',monospace\"><span style=\"font-weight: bold\">Model: \"sequential_8\"</span>\n",
              "</pre>\n"
            ]
          },
          "metadata": {}
        },
        {
          "output_type": "display_data",
          "data": {
            "text/plain": [
              "┏━━━━━━━━━━━━━━━━━━━━━━━━━━━━━━━━━━━━━━┳━━━━━━━━━━━━━━━━━━━━━━━━━━━━━┳━━━━━━━━━━━━━━━━━┓\n",
              "┃\u001b[1m \u001b[0m\u001b[1mLayer (type)                        \u001b[0m\u001b[1m \u001b[0m┃\u001b[1m \u001b[0m\u001b[1mOutput Shape               \u001b[0m\u001b[1m \u001b[0m┃\u001b[1m \u001b[0m\u001b[1m        Param #\u001b[0m\u001b[1m \u001b[0m┃\n",
              "┡━━━━━━━━━━━━━━━━━━━━━━━━━━━━━━━━━━━━━━╇━━━━━━━━━━━━━━━━━━━━━━━━━━━━━╇━━━━━━━━━━━━━━━━━┩\n",
              "│ dense_30 (\u001b[38;5;33mDense\u001b[0m)                     │ (\u001b[38;5;45mNone\u001b[0m, \u001b[38;5;34m32\u001b[0m)                  │           \u001b[38;5;34m2,208\u001b[0m │\n",
              "├──────────────────────────────────────┼─────────────────────────────┼─────────────────┤\n",
              "│ dense_31 (\u001b[38;5;33mDense\u001b[0m)                     │ (\u001b[38;5;45mNone\u001b[0m, \u001b[38;5;34m32\u001b[0m)                  │           \u001b[38;5;34m1,056\u001b[0m │\n",
              "├──────────────────────────────────────┼─────────────────────────────┼─────────────────┤\n",
              "│ dense_32 (\u001b[38;5;33mDense\u001b[0m)                     │ (\u001b[38;5;45mNone\u001b[0m, \u001b[38;5;34m32\u001b[0m)                  │           \u001b[38;5;34m1,056\u001b[0m │\n",
              "├──────────────────────────────────────┼─────────────────────────────┼─────────────────┤\n",
              "│ dense_33 (\u001b[38;5;33mDense\u001b[0m)                     │ (\u001b[38;5;45mNone\u001b[0m, \u001b[38;5;34m32\u001b[0m)                  │           \u001b[38;5;34m1,056\u001b[0m │\n",
              "├──────────────────────────────────────┼─────────────────────────────┼─────────────────┤\n",
              "│ dense_34 (\u001b[38;5;33mDense\u001b[0m)                     │ (\u001b[38;5;45mNone\u001b[0m, \u001b[38;5;34m1\u001b[0m)                   │              \u001b[38;5;34m33\u001b[0m │\n",
              "└──────────────────────────────────────┴─────────────────────────────┴─────────────────┘\n"
            ],
            "text/html": [
              "<pre style=\"white-space:pre;overflow-x:auto;line-height:normal;font-family:Menlo,'DejaVu Sans Mono',consolas,'Courier New',monospace\">┏━━━━━━━━━━━━━━━━━━━━━━━━━━━━━━━━━━━━━━┳━━━━━━━━━━━━━━━━━━━━━━━━━━━━━┳━━━━━━━━━━━━━━━━━┓\n",
              "┃<span style=\"font-weight: bold\"> Layer (type)                         </span>┃<span style=\"font-weight: bold\"> Output Shape                </span>┃<span style=\"font-weight: bold\">         Param # </span>┃\n",
              "┡━━━━━━━━━━━━━━━━━━━━━━━━━━━━━━━━━━━━━━╇━━━━━━━━━━━━━━━━━━━━━━━━━━━━━╇━━━━━━━━━━━━━━━━━┩\n",
              "│ dense_30 (<span style=\"color: #0087ff; text-decoration-color: #0087ff\">Dense</span>)                     │ (<span style=\"color: #00d7ff; text-decoration-color: #00d7ff\">None</span>, <span style=\"color: #00af00; text-decoration-color: #00af00\">32</span>)                  │           <span style=\"color: #00af00; text-decoration-color: #00af00\">2,208</span> │\n",
              "├──────────────────────────────────────┼─────────────────────────────┼─────────────────┤\n",
              "│ dense_31 (<span style=\"color: #0087ff; text-decoration-color: #0087ff\">Dense</span>)                     │ (<span style=\"color: #00d7ff; text-decoration-color: #00d7ff\">None</span>, <span style=\"color: #00af00; text-decoration-color: #00af00\">32</span>)                  │           <span style=\"color: #00af00; text-decoration-color: #00af00\">1,056</span> │\n",
              "├──────────────────────────────────────┼─────────────────────────────┼─────────────────┤\n",
              "│ dense_32 (<span style=\"color: #0087ff; text-decoration-color: #0087ff\">Dense</span>)                     │ (<span style=\"color: #00d7ff; text-decoration-color: #00d7ff\">None</span>, <span style=\"color: #00af00; text-decoration-color: #00af00\">32</span>)                  │           <span style=\"color: #00af00; text-decoration-color: #00af00\">1,056</span> │\n",
              "├──────────────────────────────────────┼─────────────────────────────┼─────────────────┤\n",
              "│ dense_33 (<span style=\"color: #0087ff; text-decoration-color: #0087ff\">Dense</span>)                     │ (<span style=\"color: #00d7ff; text-decoration-color: #00d7ff\">None</span>, <span style=\"color: #00af00; text-decoration-color: #00af00\">32</span>)                  │           <span style=\"color: #00af00; text-decoration-color: #00af00\">1,056</span> │\n",
              "├──────────────────────────────────────┼─────────────────────────────┼─────────────────┤\n",
              "│ dense_34 (<span style=\"color: #0087ff; text-decoration-color: #0087ff\">Dense</span>)                     │ (<span style=\"color: #00d7ff; text-decoration-color: #00d7ff\">None</span>, <span style=\"color: #00af00; text-decoration-color: #00af00\">1</span>)                   │              <span style=\"color: #00af00; text-decoration-color: #00af00\">33</span> │\n",
              "└──────────────────────────────────────┴─────────────────────────────┴─────────────────┘\n",
              "</pre>\n"
            ]
          },
          "metadata": {}
        },
        {
          "output_type": "display_data",
          "data": {
            "text/plain": [
              "\u001b[1m Total params: \u001b[0m\u001b[38;5;34m5,409\u001b[0m (21.13 KB)\n"
            ],
            "text/html": [
              "<pre style=\"white-space:pre;overflow-x:auto;line-height:normal;font-family:Menlo,'DejaVu Sans Mono',consolas,'Courier New',monospace\"><span style=\"font-weight: bold\"> Total params: </span><span style=\"color: #00af00; text-decoration-color: #00af00\">5,409</span> (21.13 KB)\n",
              "</pre>\n"
            ]
          },
          "metadata": {}
        },
        {
          "output_type": "display_data",
          "data": {
            "text/plain": [
              "\u001b[1m Trainable params: \u001b[0m\u001b[38;5;34m5,409\u001b[0m (21.13 KB)\n"
            ],
            "text/html": [
              "<pre style=\"white-space:pre;overflow-x:auto;line-height:normal;font-family:Menlo,'DejaVu Sans Mono',consolas,'Courier New',monospace\"><span style=\"font-weight: bold\"> Trainable params: </span><span style=\"color: #00af00; text-decoration-color: #00af00\">5,409</span> (21.13 KB)\n",
              "</pre>\n"
            ]
          },
          "metadata": {}
        },
        {
          "output_type": "display_data",
          "data": {
            "text/plain": [
              "\u001b[1m Non-trainable params: \u001b[0m\u001b[38;5;34m0\u001b[0m (0.00 B)\n"
            ],
            "text/html": [
              "<pre style=\"white-space:pre;overflow-x:auto;line-height:normal;font-family:Menlo,'DejaVu Sans Mono',consolas,'Courier New',monospace\"><span style=\"font-weight: bold\"> Non-trainable params: </span><span style=\"color: #00af00; text-decoration-color: #00af00\">0</span> (0.00 B)\n",
              "</pre>\n"
            ]
          },
          "metadata": {}
        },
        {
          "output_type": "stream",
          "name": "stdout",
          "text": [
            "Epoch 1/60\n",
            "50/50 - 2s - 49ms/step - loss: 113625.2969 - mae: 175.5437 - val_loss: 3846.5750 - val_mae: 41.7611\n",
            "Epoch 2/60\n",
            "50/50 - 0s - 7ms/step - loss: 1195.3901 - mae: 22.5935 - val_loss: 1759.4474 - val_mae: 24.1148\n",
            "Epoch 3/60\n",
            "50/50 - 0s - 6ms/step - loss: 544.5279 - mae: 16.0297 - val_loss: 1196.9348 - val_mae: 19.3899\n",
            "Epoch 4/60\n",
            "50/50 - 0s - 6ms/step - loss: 383.4962 - mae: 13.0027 - val_loss: 962.1512 - val_mae: 17.4792\n",
            "Epoch 5/60\n",
            "50/50 - 0s - 6ms/step - loss: 327.7379 - mae: 11.9104 - val_loss: 835.4905 - val_mae: 16.1779\n",
            "Epoch 6/60\n",
            "50/50 - 0s - 6ms/step - loss: 243.9866 - mae: 10.3653 - val_loss: 873.7844 - val_mae: 15.0631\n",
            "Epoch 7/60\n",
            "50/50 - 0s - 7ms/step - loss: 207.6891 - mae: 9.5011 - val_loss: 778.9603 - val_mae: 15.6717\n",
            "Epoch 8/60\n",
            "50/50 - 0s - 8ms/step - loss: 185.8055 - mae: 9.6034 - val_loss: 902.7988 - val_mae: 14.0663\n",
            "Epoch 9/60\n",
            "50/50 - 0s - 5ms/step - loss: 147.7795 - mae: 8.2727 - val_loss: 963.8865 - val_mae: 14.4057\n",
            "Epoch 10/60\n",
            "50/50 - 0s - 4ms/step - loss: 130.3416 - mae: 7.9761 - val_loss: 872.7310 - val_mae: 14.1171\n",
            "Epoch 11/60\n",
            "50/50 - 0s - 6ms/step - loss: 117.3235 - mae: 7.7976 - val_loss: 678.4146 - val_mae: 13.1926\n",
            "Epoch 12/60\n",
            "50/50 - 0s - 6ms/step - loss: 121.4062 - mae: 7.8633 - val_loss: 852.8809 - val_mae: 13.6345\n",
            "Epoch 13/60\n",
            "50/50 - 0s - 6ms/step - loss: 101.9470 - mae: 7.2036 - val_loss: 734.9152 - val_mae: 12.7901\n",
            "Epoch 14/60\n",
            "50/50 - 0s - 4ms/step - loss: 105.7857 - mae: 7.3783 - val_loss: 685.5881 - val_mae: 13.1484\n",
            "Epoch 15/60\n",
            "50/50 - 0s - 4ms/step - loss: 85.4443 - mae: 6.6106 - val_loss: 653.4741 - val_mae: 12.6554\n",
            "Epoch 16/60\n",
            "50/50 - 0s - 4ms/step - loss: 86.3197 - mae: 6.6575 - val_loss: 795.8898 - val_mae: 12.7172\n",
            "Epoch 17/60\n",
            "50/50 - 0s - 6ms/step - loss: 78.8001 - mae: 6.4420 - val_loss: 623.5310 - val_mae: 12.1891\n",
            "Epoch 18/60\n",
            "50/50 - 0s - 4ms/step - loss: 72.7637 - mae: 6.1825 - val_loss: 830.6694 - val_mae: 13.9446\n",
            "Epoch 19/60\n",
            "50/50 - 0s - 6ms/step - loss: 69.9659 - mae: 5.8439 - val_loss: 506.8341 - val_mae: 11.4916\n",
            "Epoch 20/60\n",
            "50/50 - 0s - 4ms/step - loss: 70.0730 - mae: 5.7751 - val_loss: 820.6658 - val_mae: 12.4560\n",
            "Epoch 21/60\n",
            "50/50 - 0s - 6ms/step - loss: 62.2142 - mae: 5.6875 - val_loss: 534.8502 - val_mae: 11.7774\n",
            "Epoch 22/60\n",
            "50/50 - 0s - 6ms/step - loss: 65.6521 - mae: 5.8735 - val_loss: 821.0846 - val_mae: 12.5642\n",
            "Epoch 23/60\n",
            "50/50 - 0s - 6ms/step - loss: 57.4081 - mae: 5.4323 - val_loss: 639.1296 - val_mae: 12.5452\n",
            "Epoch 24/60\n",
            "50/50 - 0s - 4ms/step - loss: 65.0712 - mae: 5.7674 - val_loss: 627.0019 - val_mae: 13.7753\n",
            "Epoch 25/60\n",
            "50/50 - 0s - 6ms/step - loss: 63.7788 - mae: 5.8239 - val_loss: 589.2346 - val_mae: 11.6900\n",
            "Epoch 26/60\n",
            "50/50 - 0s - 6ms/step - loss: 48.9369 - mae: 5.2046 - val_loss: 623.4431 - val_mae: 12.2994\n"
          ]
        },
        {
          "output_type": "display_data",
          "data": {
            "text/plain": [
              "\u001b[1mModel: \"sequential_9\"\u001b[0m\n"
            ],
            "text/html": [
              "<pre style=\"white-space:pre;overflow-x:auto;line-height:normal;font-family:Menlo,'DejaVu Sans Mono',consolas,'Courier New',monospace\"><span style=\"font-weight: bold\">Model: \"sequential_9\"</span>\n",
              "</pre>\n"
            ]
          },
          "metadata": {}
        },
        {
          "output_type": "display_data",
          "data": {
            "text/plain": [
              "┏━━━━━━━━━━━━━━━━━━━━━━━━━━━━━━━━━━━━━━┳━━━━━━━━━━━━━━━━━━━━━━━━━━━━━┳━━━━━━━━━━━━━━━━━┓\n",
              "┃\u001b[1m \u001b[0m\u001b[1mLayer (type)                        \u001b[0m\u001b[1m \u001b[0m┃\u001b[1m \u001b[0m\u001b[1mOutput Shape               \u001b[0m\u001b[1m \u001b[0m┃\u001b[1m \u001b[0m\u001b[1m        Param #\u001b[0m\u001b[1m \u001b[0m┃\n",
              "┡━━━━━━━━━━━━━━━━━━━━━━━━━━━━━━━━━━━━━━╇━━━━━━━━━━━━━━━━━━━━━━━━━━━━━╇━━━━━━━━━━━━━━━━━┩\n",
              "│ dense_35 (\u001b[38;5;33mDense\u001b[0m)                     │ (\u001b[38;5;45mNone\u001b[0m, \u001b[38;5;34m32\u001b[0m)                  │           \u001b[38;5;34m2,208\u001b[0m │\n",
              "├──────────────────────────────────────┼─────────────────────────────┼─────────────────┤\n",
              "│ dense_36 (\u001b[38;5;33mDense\u001b[0m)                     │ (\u001b[38;5;45mNone\u001b[0m, \u001b[38;5;34m32\u001b[0m)                  │           \u001b[38;5;34m1,056\u001b[0m │\n",
              "├──────────────────────────────────────┼─────────────────────────────┼─────────────────┤\n",
              "│ dense_37 (\u001b[38;5;33mDense\u001b[0m)                     │ (\u001b[38;5;45mNone\u001b[0m, \u001b[38;5;34m32\u001b[0m)                  │           \u001b[38;5;34m1,056\u001b[0m │\n",
              "├──────────────────────────────────────┼─────────────────────────────┼─────────────────┤\n",
              "│ dense_38 (\u001b[38;5;33mDense\u001b[0m)                     │ (\u001b[38;5;45mNone\u001b[0m, \u001b[38;5;34m32\u001b[0m)                  │           \u001b[38;5;34m1,056\u001b[0m │\n",
              "├──────────────────────────────────────┼─────────────────────────────┼─────────────────┤\n",
              "│ dense_39 (\u001b[38;5;33mDense\u001b[0m)                     │ (\u001b[38;5;45mNone\u001b[0m, \u001b[38;5;34m1\u001b[0m)                   │              \u001b[38;5;34m33\u001b[0m │\n",
              "└──────────────────────────────────────┴─────────────────────────────┴─────────────────┘\n"
            ],
            "text/html": [
              "<pre style=\"white-space:pre;overflow-x:auto;line-height:normal;font-family:Menlo,'DejaVu Sans Mono',consolas,'Courier New',monospace\">┏━━━━━━━━━━━━━━━━━━━━━━━━━━━━━━━━━━━━━━┳━━━━━━━━━━━━━━━━━━━━━━━━━━━━━┳━━━━━━━━━━━━━━━━━┓\n",
              "┃<span style=\"font-weight: bold\"> Layer (type)                         </span>┃<span style=\"font-weight: bold\"> Output Shape                </span>┃<span style=\"font-weight: bold\">         Param # </span>┃\n",
              "┡━━━━━━━━━━━━━━━━━━━━━━━━━━━━━━━━━━━━━━╇━━━━━━━━━━━━━━━━━━━━━━━━━━━━━╇━━━━━━━━━━━━━━━━━┩\n",
              "│ dense_35 (<span style=\"color: #0087ff; text-decoration-color: #0087ff\">Dense</span>)                     │ (<span style=\"color: #00d7ff; text-decoration-color: #00d7ff\">None</span>, <span style=\"color: #00af00; text-decoration-color: #00af00\">32</span>)                  │           <span style=\"color: #00af00; text-decoration-color: #00af00\">2,208</span> │\n",
              "├──────────────────────────────────────┼─────────────────────────────┼─────────────────┤\n",
              "│ dense_36 (<span style=\"color: #0087ff; text-decoration-color: #0087ff\">Dense</span>)                     │ (<span style=\"color: #00d7ff; text-decoration-color: #00d7ff\">None</span>, <span style=\"color: #00af00; text-decoration-color: #00af00\">32</span>)                  │           <span style=\"color: #00af00; text-decoration-color: #00af00\">1,056</span> │\n",
              "├──────────────────────────────────────┼─────────────────────────────┼─────────────────┤\n",
              "│ dense_37 (<span style=\"color: #0087ff; text-decoration-color: #0087ff\">Dense</span>)                     │ (<span style=\"color: #00d7ff; text-decoration-color: #00d7ff\">None</span>, <span style=\"color: #00af00; text-decoration-color: #00af00\">32</span>)                  │           <span style=\"color: #00af00; text-decoration-color: #00af00\">1,056</span> │\n",
              "├──────────────────────────────────────┼─────────────────────────────┼─────────────────┤\n",
              "│ dense_38 (<span style=\"color: #0087ff; text-decoration-color: #0087ff\">Dense</span>)                     │ (<span style=\"color: #00d7ff; text-decoration-color: #00d7ff\">None</span>, <span style=\"color: #00af00; text-decoration-color: #00af00\">32</span>)                  │           <span style=\"color: #00af00; text-decoration-color: #00af00\">1,056</span> │\n",
              "├──────────────────────────────────────┼─────────────────────────────┼─────────────────┤\n",
              "│ dense_39 (<span style=\"color: #0087ff; text-decoration-color: #0087ff\">Dense</span>)                     │ (<span style=\"color: #00d7ff; text-decoration-color: #00d7ff\">None</span>, <span style=\"color: #00af00; text-decoration-color: #00af00\">1</span>)                   │              <span style=\"color: #00af00; text-decoration-color: #00af00\">33</span> │\n",
              "└──────────────────────────────────────┴─────────────────────────────┴─────────────────┘\n",
              "</pre>\n"
            ]
          },
          "metadata": {}
        },
        {
          "output_type": "display_data",
          "data": {
            "text/plain": [
              "\u001b[1m Total params: \u001b[0m\u001b[38;5;34m5,409\u001b[0m (21.13 KB)\n"
            ],
            "text/html": [
              "<pre style=\"white-space:pre;overflow-x:auto;line-height:normal;font-family:Menlo,'DejaVu Sans Mono',consolas,'Courier New',monospace\"><span style=\"font-weight: bold\"> Total params: </span><span style=\"color: #00af00; text-decoration-color: #00af00\">5,409</span> (21.13 KB)\n",
              "</pre>\n"
            ]
          },
          "metadata": {}
        },
        {
          "output_type": "display_data",
          "data": {
            "text/plain": [
              "\u001b[1m Trainable params: \u001b[0m\u001b[38;5;34m5,409\u001b[0m (21.13 KB)\n"
            ],
            "text/html": [
              "<pre style=\"white-space:pre;overflow-x:auto;line-height:normal;font-family:Menlo,'DejaVu Sans Mono',consolas,'Courier New',monospace\"><span style=\"font-weight: bold\"> Trainable params: </span><span style=\"color: #00af00; text-decoration-color: #00af00\">5,409</span> (21.13 KB)\n",
              "</pre>\n"
            ]
          },
          "metadata": {}
        },
        {
          "output_type": "display_data",
          "data": {
            "text/plain": [
              "\u001b[1m Non-trainable params: \u001b[0m\u001b[38;5;34m0\u001b[0m (0.00 B)\n"
            ],
            "text/html": [
              "<pre style=\"white-space:pre;overflow-x:auto;line-height:normal;font-family:Menlo,'DejaVu Sans Mono',consolas,'Courier New',monospace\"><span style=\"font-weight: bold\"> Non-trainable params: </span><span style=\"color: #00af00; text-decoration-color: #00af00\">0</span> (0.00 B)\n",
              "</pre>\n"
            ]
          },
          "metadata": {}
        },
        {
          "output_type": "stream",
          "name": "stdout",
          "text": [
            "Epoch 1/60\n",
            "50/50 - 2s - 42ms/step - loss: 17840.4551 - mae: 94.8474 - val_loss: 5113.4980 - val_mae: 53.5176\n",
            "Epoch 2/60\n",
            "50/50 - 0s - 5ms/step - loss: 2541.4221 - mae: 37.8213 - val_loss: 1677.8269 - val_mae: 33.0949\n",
            "Epoch 3/60\n",
            "50/50 - 0s - 4ms/step - loss: 1400.3225 - mae: 28.2321 - val_loss: 3084.3674 - val_mae: 47.4726\n",
            "Epoch 4/60\n",
            "50/50 - 0s - 6ms/step - loss: 822.2369 - mae: 22.3063 - val_loss: 787.5126 - val_mae: 21.5756\n",
            "Epoch 5/60\n",
            "50/50 - 0s - 6ms/step - loss: 452.1548 - mae: 15.8413 - val_loss: 558.7303 - val_mae: 18.8969\n",
            "Epoch 6/60\n",
            "50/50 - 0s - 6ms/step - loss: 368.2422 - mae: 14.5662 - val_loss: 298.8300 - val_mae: 12.7610\n",
            "Epoch 7/60\n",
            "50/50 - 0s - 6ms/step - loss: 339.3935 - mae: 13.7815 - val_loss: 591.5637 - val_mae: 19.7117\n",
            "Epoch 8/60\n",
            "50/50 - 0s - 5ms/step - loss: 331.7756 - mae: 14.1332 - val_loss: 992.6956 - val_mae: 26.8410\n",
            "Epoch 9/60\n",
            "50/50 - 0s - 6ms/step - loss: 477.9412 - mae: 16.9866 - val_loss: 636.9948 - val_mae: 20.7930\n",
            "Epoch 10/60\n",
            "50/50 - 0s - 6ms/step - loss: 377.8618 - mae: 14.8003 - val_loss: 233.7409 - val_mae: 11.8881\n",
            "Epoch 11/60\n",
            "50/50 - 0s - 6ms/step - loss: 226.1275 - mae: 11.5194 - val_loss: 149.2231 - val_mae: 8.9330\n",
            "Epoch 12/60\n",
            "50/50 - 0s - 7ms/step - loss: 204.7694 - mae: 10.2600 - val_loss: 289.6153 - val_mae: 10.3343\n",
            "Epoch 13/60\n",
            "50/50 - 1s - 12ms/step - loss: 395.1278 - mae: 13.0415 - val_loss: 1081.9346 - val_mae: 28.5591\n",
            "Epoch 14/60\n",
            "50/50 - 0s - 6ms/step - loss: 1398.6333 - mae: 26.6583 - val_loss: 800.5136 - val_mae: 16.9057\n",
            "Epoch 15/60\n",
            "50/50 - 0s - 6ms/step - loss: 513.1628 - mae: 14.6386 - val_loss: 154.1456 - val_mae: 8.3645\n",
            "Epoch 16/60\n",
            "50/50 - 0s - 8ms/step - loss: 133.8507 - mae: 8.7824 - val_loss: 94.4238 - val_mae: 7.3087\n",
            "Epoch 17/60\n",
            "50/50 - 0s - 9ms/step - loss: 70.8549 - mae: 6.4695 - val_loss: 81.4921 - val_mae: 6.9731\n",
            "Epoch 18/60\n",
            "50/50 - 0s - 4ms/step - loss: 236.6461 - mae: 12.2571 - val_loss: 285.5094 - val_mae: 14.2683\n",
            "Epoch 19/60\n",
            "50/50 - 0s - 6ms/step - loss: 182.1724 - mae: 9.8844 - val_loss: 86.9399 - val_mae: 6.3469\n",
            "Epoch 20/60\n",
            "50/50 - 0s - 7ms/step - loss: 54.5747 - mae: 5.4269 - val_loss: 284.7421 - val_mae: 14.0829\n",
            "Epoch 21/60\n",
            "50/50 - 0s - 5ms/step - loss: 124.8136 - mae: 8.9099 - val_loss: 88.1855 - val_mae: 7.0269\n",
            "Epoch 22/60\n",
            "50/50 - 0s - 6ms/step - loss: 87.2309 - mae: 7.2551 - val_loss: 59.0359 - val_mae: 5.3699\n",
            "Epoch 23/60\n",
            "50/50 - 0s - 6ms/step - loss: 131.7671 - mae: 7.8756 - val_loss: 68.5991 - val_mae: 6.2189\n",
            "Epoch 24/60\n",
            "50/50 - 0s - 4ms/step - loss: 129.0239 - mae: 9.1928 - val_loss: 98.6006 - val_mae: 7.6945\n",
            "Epoch 25/60\n",
            "50/50 - 0s - 6ms/step - loss: 150.2808 - mae: 9.4292 - val_loss: 261.4685 - val_mae: 13.1475\n",
            "Epoch 26/60\n",
            "50/50 - 0s - 6ms/step - loss: 48.5101 - mae: 5.3520 - val_loss: 89.5798 - val_mae: 7.5863\n",
            "Epoch 27/60\n",
            "50/50 - 0s - 6ms/step - loss: 37.0598 - mae: 4.7294 - val_loss: 93.0362 - val_mae: 7.8040\n",
            "Epoch 28/60\n",
            "50/50 - 0s - 6ms/step - loss: 68.2505 - mae: 6.3223 - val_loss: 54.3985 - val_mae: 5.7464\n",
            "Epoch 29/60\n",
            "50/50 - 0s - 7ms/step - loss: 39.9622 - mae: 4.7909 - val_loss: 47.3625 - val_mae: 4.3273\n",
            "Epoch 30/60\n",
            "50/50 - 0s - 4ms/step - loss: 36.2259 - mae: 4.4761 - val_loss: 56.6376 - val_mae: 4.6395\n",
            "Epoch 31/60\n",
            "50/50 - 0s - 6ms/step - loss: 39.9684 - mae: 4.6925 - val_loss: 47.5043 - val_mae: 4.4055\n",
            "Epoch 32/60\n",
            "50/50 - 0s - 6ms/step - loss: 65.2481 - mae: 6.1506 - val_loss: 136.2048 - val_mae: 9.5347\n",
            "Epoch 33/60\n",
            "50/50 - 0s - 7ms/step - loss: 219.8838 - mae: 11.2215 - val_loss: 369.2083 - val_mae: 16.3916\n",
            "Epoch 34/60\n",
            "50/50 - 0s - 6ms/step - loss: 65.7102 - mae: 5.8525 - val_loss: 35.8627 - val_mae: 3.7793\n",
            "Epoch 35/60\n",
            "50/50 - 0s - 6ms/step - loss: 44.9271 - mae: 4.7883 - val_loss: 604.5121 - val_mae: 22.2941\n",
            "Epoch 36/60\n",
            "50/50 - 0s - 6ms/step - loss: 113.5595 - mae: 7.4817 - val_loss: 27.6501 - val_mae: 3.4771\n",
            "Epoch 37/60\n",
            "50/50 - 0s - 6ms/step - loss: 26.6903 - mae: 3.8424 - val_loss: 104.0518 - val_mae: 8.4865\n",
            "Epoch 38/60\n",
            "50/50 - 0s - 6ms/step - loss: 34.6831 - mae: 4.8003 - val_loss: 31.3852 - val_mae: 4.0420\n",
            "Epoch 39/60\n",
            "50/50 - 0s - 6ms/step - loss: 83.7957 - mae: 7.1020 - val_loss: 29.9397 - val_mae: 3.9101\n",
            "Epoch 40/60\n",
            "50/50 - 0s - 6ms/step - loss: 71.4461 - mae: 6.3985 - val_loss: 102.2859 - val_mae: 7.9043\n",
            "Epoch 41/60\n",
            "50/50 - 0s - 6ms/step - loss: 176.5123 - mae: 9.9201 - val_loss: 229.9100 - val_mae: 13.0333\n",
            "Epoch 42/60\n",
            "50/50 - 0s - 4ms/step - loss: 47.8933 - mae: 5.3327 - val_loss: 58.4027 - val_mae: 4.6655\n",
            "Epoch 43/60\n",
            "50/50 - 0s - 6ms/step - loss: 39.5405 - mae: 4.4412 - val_loss: 212.3319 - val_mae: 12.9429\n",
            "Mean training loss: 20.0868 -- Mean validation loss: 67.8314 -- Hyperparameters: (Width: 32, Depth: 4)\n",
            "Width: 1024, Depth: 2\n"
          ]
        },
        {
          "output_type": "display_data",
          "data": {
            "text/plain": [
              "\u001b[1mModel: \"sequential_10\"\u001b[0m\n"
            ],
            "text/html": [
              "<pre style=\"white-space:pre;overflow-x:auto;line-height:normal;font-family:Menlo,'DejaVu Sans Mono',consolas,'Courier New',monospace\"><span style=\"font-weight: bold\">Model: \"sequential_10\"</span>\n",
              "</pre>\n"
            ]
          },
          "metadata": {}
        },
        {
          "output_type": "display_data",
          "data": {
            "text/plain": [
              "┏━━━━━━━━━━━━━━━━━━━━━━━━━━━━━━━━━━━━━━┳━━━━━━━━━━━━━━━━━━━━━━━━━━━━━┳━━━━━━━━━━━━━━━━━┓\n",
              "┃\u001b[1m \u001b[0m\u001b[1mLayer (type)                        \u001b[0m\u001b[1m \u001b[0m┃\u001b[1m \u001b[0m\u001b[1mOutput Shape               \u001b[0m\u001b[1m \u001b[0m┃\u001b[1m \u001b[0m\u001b[1m        Param #\u001b[0m\u001b[1m \u001b[0m┃\n",
              "┡━━━━━━━━━━━━━━━━━━━━━━━━━━━━━━━━━━━━━━╇━━━━━━━━━━━━━━━━━━━━━━━━━━━━━╇━━━━━━━━━━━━━━━━━┩\n",
              "│ dense_40 (\u001b[38;5;33mDense\u001b[0m)                     │ (\u001b[38;5;45mNone\u001b[0m, \u001b[38;5;34m1024\u001b[0m)                │          \u001b[38;5;34m70,656\u001b[0m │\n",
              "├──────────────────────────────────────┼─────────────────────────────┼─────────────────┤\n",
              "│ dense_41 (\u001b[38;5;33mDense\u001b[0m)                     │ (\u001b[38;5;45mNone\u001b[0m, \u001b[38;5;34m1024\u001b[0m)                │       \u001b[38;5;34m1,049,600\u001b[0m │\n",
              "├──────────────────────────────────────┼─────────────────────────────┼─────────────────┤\n",
              "│ dense_42 (\u001b[38;5;33mDense\u001b[0m)                     │ (\u001b[38;5;45mNone\u001b[0m, \u001b[38;5;34m1\u001b[0m)                   │           \u001b[38;5;34m1,025\u001b[0m │\n",
              "└──────────────────────────────────────┴─────────────────────────────┴─────────────────┘\n"
            ],
            "text/html": [
              "<pre style=\"white-space:pre;overflow-x:auto;line-height:normal;font-family:Menlo,'DejaVu Sans Mono',consolas,'Courier New',monospace\">┏━━━━━━━━━━━━━━━━━━━━━━━━━━━━━━━━━━━━━━┳━━━━━━━━━━━━━━━━━━━━━━━━━━━━━┳━━━━━━━━━━━━━━━━━┓\n",
              "┃<span style=\"font-weight: bold\"> Layer (type)                         </span>┃<span style=\"font-weight: bold\"> Output Shape                </span>┃<span style=\"font-weight: bold\">         Param # </span>┃\n",
              "┡━━━━━━━━━━━━━━━━━━━━━━━━━━━━━━━━━━━━━━╇━━━━━━━━━━━━━━━━━━━━━━━━━━━━━╇━━━━━━━━━━━━━━━━━┩\n",
              "│ dense_40 (<span style=\"color: #0087ff; text-decoration-color: #0087ff\">Dense</span>)                     │ (<span style=\"color: #00d7ff; text-decoration-color: #00d7ff\">None</span>, <span style=\"color: #00af00; text-decoration-color: #00af00\">1024</span>)                │          <span style=\"color: #00af00; text-decoration-color: #00af00\">70,656</span> │\n",
              "├──────────────────────────────────────┼─────────────────────────────┼─────────────────┤\n",
              "│ dense_41 (<span style=\"color: #0087ff; text-decoration-color: #0087ff\">Dense</span>)                     │ (<span style=\"color: #00d7ff; text-decoration-color: #00d7ff\">None</span>, <span style=\"color: #00af00; text-decoration-color: #00af00\">1024</span>)                │       <span style=\"color: #00af00; text-decoration-color: #00af00\">1,049,600</span> │\n",
              "├──────────────────────────────────────┼─────────────────────────────┼─────────────────┤\n",
              "│ dense_42 (<span style=\"color: #0087ff; text-decoration-color: #0087ff\">Dense</span>)                     │ (<span style=\"color: #00d7ff; text-decoration-color: #00d7ff\">None</span>, <span style=\"color: #00af00; text-decoration-color: #00af00\">1</span>)                   │           <span style=\"color: #00af00; text-decoration-color: #00af00\">1,025</span> │\n",
              "└──────────────────────────────────────┴─────────────────────────────┴─────────────────┘\n",
              "</pre>\n"
            ]
          },
          "metadata": {}
        },
        {
          "output_type": "display_data",
          "data": {
            "text/plain": [
              "\u001b[1m Total params: \u001b[0m\u001b[38;5;34m1,121,281\u001b[0m (4.28 MB)\n"
            ],
            "text/html": [
              "<pre style=\"white-space:pre;overflow-x:auto;line-height:normal;font-family:Menlo,'DejaVu Sans Mono',consolas,'Courier New',monospace\"><span style=\"font-weight: bold\"> Total params: </span><span style=\"color: #00af00; text-decoration-color: #00af00\">1,121,281</span> (4.28 MB)\n",
              "</pre>\n"
            ]
          },
          "metadata": {}
        },
        {
          "output_type": "display_data",
          "data": {
            "text/plain": [
              "\u001b[1m Trainable params: \u001b[0m\u001b[38;5;34m1,121,281\u001b[0m (4.28 MB)\n"
            ],
            "text/html": [
              "<pre style=\"white-space:pre;overflow-x:auto;line-height:normal;font-family:Menlo,'DejaVu Sans Mono',consolas,'Courier New',monospace\"><span style=\"font-weight: bold\"> Trainable params: </span><span style=\"color: #00af00; text-decoration-color: #00af00\">1,121,281</span> (4.28 MB)\n",
              "</pre>\n"
            ]
          },
          "metadata": {}
        },
        {
          "output_type": "display_data",
          "data": {
            "text/plain": [
              "\u001b[1m Non-trainable params: \u001b[0m\u001b[38;5;34m0\u001b[0m (0.00 B)\n"
            ],
            "text/html": [
              "<pre style=\"white-space:pre;overflow-x:auto;line-height:normal;font-family:Menlo,'DejaVu Sans Mono',consolas,'Courier New',monospace\"><span style=\"font-weight: bold\"> Non-trainable params: </span><span style=\"color: #00af00; text-decoration-color: #00af00\">0</span> (0.00 B)\n",
              "</pre>\n"
            ]
          },
          "metadata": {}
        },
        {
          "output_type": "stream",
          "name": "stdout",
          "text": [
            "Epoch 1/60\n",
            "50/50 - 2s - 44ms/step - loss: 1101184.1250 - mae: 584.8013 - val_loss: 35430.6641 - val_mae: 162.8602\n",
            "Epoch 2/60\n",
            "50/50 - 1s - 26ms/step - loss: 26255.9727 - mae: 84.8647 - val_loss: 5682.6123 - val_mae: 65.7365\n",
            "Epoch 3/60\n",
            "50/50 - 1s - 23ms/step - loss: 3459.8054 - mae: 33.7059 - val_loss: 695.1755 - val_mae: 13.9364\n",
            "Epoch 4/60\n",
            "50/50 - 1s - 17ms/step - loss: 1124.3951 - mae: 20.8262 - val_loss: 363.7111 - val_mae: 9.4558\n",
            "Epoch 5/60\n",
            "50/50 - 1s - 15ms/step - loss: 211.8514 - mae: 8.6853 - val_loss: 824.8529 - val_mae: 10.8949\n",
            "Epoch 6/60\n",
            "50/50 - 1s - 26ms/step - loss: 565.0959 - mae: 12.1290 - val_loss: 691.9684 - val_mae: 15.8819\n",
            "Epoch 7/60\n",
            "50/50 - 1s - 25ms/step - loss: 1105.9287 - mae: 16.1619 - val_loss: 385.2007 - val_mae: 11.3462\n",
            "Epoch 8/60\n",
            "50/50 - 1s - 25ms/step - loss: 715.3639 - mae: 16.6785 - val_loss: 74.2741 - val_mae: 6.6211\n",
            "Epoch 9/60\n",
            "50/50 - 1s - 15ms/step - loss: 225.3391 - mae: 9.7252 - val_loss: 285.0567 - val_mae: 13.1297\n",
            "Epoch 10/60\n",
            "50/50 - 1s - 15ms/step - loss: 270.7992 - mae: 9.9725 - val_loss: 79.0725 - val_mae: 5.7666\n",
            "Epoch 11/60\n",
            "50/50 - 1s - 25ms/step - loss: 100.6308 - mae: 5.6206 - val_loss: 382.3231 - val_mae: 15.1750\n",
            "Epoch 12/60\n",
            "50/50 - 1s - 15ms/step - loss: 286.5823 - mae: 11.0230 - val_loss: 57.6208 - val_mae: 4.5931\n",
            "Epoch 13/60\n",
            "50/50 - 2s - 33ms/step - loss: 335.9658 - mae: 9.5280 - val_loss: 296.3423 - val_mae: 12.7015\n",
            "Epoch 14/60\n",
            "50/50 - 1s - 28ms/step - loss: 176.3807 - mae: 7.2345 - val_loss: 250.5873 - val_mae: 13.4326\n",
            "Epoch 15/60\n",
            "50/50 - 1s - 17ms/step - loss: 3637.5835 - mae: 32.6567 - val_loss: 1096.7054 - val_mae: 20.3197\n",
            "Epoch 16/60\n",
            "50/50 - 1s - 16ms/step - loss: 435.4424 - mae: 14.6131 - val_loss: 144.8767 - val_mae: 5.3206\n",
            "Epoch 17/60\n",
            "50/50 - 1s - 16ms/step - loss: 165.2565 - mae: 8.9226 - val_loss: 108.7325 - val_mae: 6.5589\n",
            "Epoch 18/60\n",
            "50/50 - 1s - 25ms/step - loss: 90.4926 - mae: 5.3996 - val_loss: 161.8202 - val_mae: 6.9013\n",
            "Epoch 19/60\n",
            "50/50 - 1s - 25ms/step - loss: 513.4796 - mae: 11.5217 - val_loss: 301.6991 - val_mae: 7.6408\n"
          ]
        },
        {
          "output_type": "display_data",
          "data": {
            "text/plain": [
              "\u001b[1mModel: \"sequential_11\"\u001b[0m\n"
            ],
            "text/html": [
              "<pre style=\"white-space:pre;overflow-x:auto;line-height:normal;font-family:Menlo,'DejaVu Sans Mono',consolas,'Courier New',monospace\"><span style=\"font-weight: bold\">Model: \"sequential_11\"</span>\n",
              "</pre>\n"
            ]
          },
          "metadata": {}
        },
        {
          "output_type": "display_data",
          "data": {
            "text/plain": [
              "┏━━━━━━━━━━━━━━━━━━━━━━━━━━━━━━━━━━━━━━┳━━━━━━━━━━━━━━━━━━━━━━━━━━━━━┳━━━━━━━━━━━━━━━━━┓\n",
              "┃\u001b[1m \u001b[0m\u001b[1mLayer (type)                        \u001b[0m\u001b[1m \u001b[0m┃\u001b[1m \u001b[0m\u001b[1mOutput Shape               \u001b[0m\u001b[1m \u001b[0m┃\u001b[1m \u001b[0m\u001b[1m        Param #\u001b[0m\u001b[1m \u001b[0m┃\n",
              "┡━━━━━━━━━━━━━━━━━━━━━━━━━━━━━━━━━━━━━━╇━━━━━━━━━━━━━━━━━━━━━━━━━━━━━╇━━━━━━━━━━━━━━━━━┩\n",
              "│ dense_43 (\u001b[38;5;33mDense\u001b[0m)                     │ (\u001b[38;5;45mNone\u001b[0m, \u001b[38;5;34m1024\u001b[0m)                │          \u001b[38;5;34m70,656\u001b[0m │\n",
              "├──────────────────────────────────────┼─────────────────────────────┼─────────────────┤\n",
              "│ dense_44 (\u001b[38;5;33mDense\u001b[0m)                     │ (\u001b[38;5;45mNone\u001b[0m, \u001b[38;5;34m1024\u001b[0m)                │       \u001b[38;5;34m1,049,600\u001b[0m │\n",
              "├──────────────────────────────────────┼─────────────────────────────┼─────────────────┤\n",
              "│ dense_45 (\u001b[38;5;33mDense\u001b[0m)                     │ (\u001b[38;5;45mNone\u001b[0m, \u001b[38;5;34m1\u001b[0m)                   │           \u001b[38;5;34m1,025\u001b[0m │\n",
              "└──────────────────────────────────────┴─────────────────────────────┴─────────────────┘\n"
            ],
            "text/html": [
              "<pre style=\"white-space:pre;overflow-x:auto;line-height:normal;font-family:Menlo,'DejaVu Sans Mono',consolas,'Courier New',monospace\">┏━━━━━━━━━━━━━━━━━━━━━━━━━━━━━━━━━━━━━━┳━━━━━━━━━━━━━━━━━━━━━━━━━━━━━┳━━━━━━━━━━━━━━━━━┓\n",
              "┃<span style=\"font-weight: bold\"> Layer (type)                         </span>┃<span style=\"font-weight: bold\"> Output Shape                </span>┃<span style=\"font-weight: bold\">         Param # </span>┃\n",
              "┡━━━━━━━━━━━━━━━━━━━━━━━━━━━━━━━━━━━━━━╇━━━━━━━━━━━━━━━━━━━━━━━━━━━━━╇━━━━━━━━━━━━━━━━━┩\n",
              "│ dense_43 (<span style=\"color: #0087ff; text-decoration-color: #0087ff\">Dense</span>)                     │ (<span style=\"color: #00d7ff; text-decoration-color: #00d7ff\">None</span>, <span style=\"color: #00af00; text-decoration-color: #00af00\">1024</span>)                │          <span style=\"color: #00af00; text-decoration-color: #00af00\">70,656</span> │\n",
              "├──────────────────────────────────────┼─────────────────────────────┼─────────────────┤\n",
              "│ dense_44 (<span style=\"color: #0087ff; text-decoration-color: #0087ff\">Dense</span>)                     │ (<span style=\"color: #00d7ff; text-decoration-color: #00d7ff\">None</span>, <span style=\"color: #00af00; text-decoration-color: #00af00\">1024</span>)                │       <span style=\"color: #00af00; text-decoration-color: #00af00\">1,049,600</span> │\n",
              "├──────────────────────────────────────┼─────────────────────────────┼─────────────────┤\n",
              "│ dense_45 (<span style=\"color: #0087ff; text-decoration-color: #0087ff\">Dense</span>)                     │ (<span style=\"color: #00d7ff; text-decoration-color: #00d7ff\">None</span>, <span style=\"color: #00af00; text-decoration-color: #00af00\">1</span>)                   │           <span style=\"color: #00af00; text-decoration-color: #00af00\">1,025</span> │\n",
              "└──────────────────────────────────────┴─────────────────────────────┴─────────────────┘\n",
              "</pre>\n"
            ]
          },
          "metadata": {}
        },
        {
          "output_type": "display_data",
          "data": {
            "text/plain": [
              "\u001b[1m Total params: \u001b[0m\u001b[38;5;34m1,121,281\u001b[0m (4.28 MB)\n"
            ],
            "text/html": [
              "<pre style=\"white-space:pre;overflow-x:auto;line-height:normal;font-family:Menlo,'DejaVu Sans Mono',consolas,'Courier New',monospace\"><span style=\"font-weight: bold\"> Total params: </span><span style=\"color: #00af00; text-decoration-color: #00af00\">1,121,281</span> (4.28 MB)\n",
              "</pre>\n"
            ]
          },
          "metadata": {}
        },
        {
          "output_type": "display_data",
          "data": {
            "text/plain": [
              "\u001b[1m Trainable params: \u001b[0m\u001b[38;5;34m1,121,281\u001b[0m (4.28 MB)\n"
            ],
            "text/html": [
              "<pre style=\"white-space:pre;overflow-x:auto;line-height:normal;font-family:Menlo,'DejaVu Sans Mono',consolas,'Courier New',monospace\"><span style=\"font-weight: bold\"> Trainable params: </span><span style=\"color: #00af00; text-decoration-color: #00af00\">1,121,281</span> (4.28 MB)\n",
              "</pre>\n"
            ]
          },
          "metadata": {}
        },
        {
          "output_type": "display_data",
          "data": {
            "text/plain": [
              "\u001b[1m Non-trainable params: \u001b[0m\u001b[38;5;34m0\u001b[0m (0.00 B)\n"
            ],
            "text/html": [
              "<pre style=\"white-space:pre;overflow-x:auto;line-height:normal;font-family:Menlo,'DejaVu Sans Mono',consolas,'Courier New',monospace\"><span style=\"font-weight: bold\"> Non-trainable params: </span><span style=\"color: #00af00; text-decoration-color: #00af00\">0</span> (0.00 B)\n",
              "</pre>\n"
            ]
          },
          "metadata": {}
        },
        {
          "output_type": "stream",
          "name": "stdout",
          "text": [
            "Epoch 1/60\n",
            "50/50 - 2s - 41ms/step - loss: 2458209.2500 - mae: 926.4310 - val_loss: 3472.5483 - val_mae: 37.5034\n",
            "Epoch 2/60\n",
            "50/50 - 1s - 16ms/step - loss: 4418.7925 - mae: 46.9856 - val_loss: 961.0107 - val_mae: 20.4656\n",
            "Epoch 3/60\n",
            "50/50 - 1s - 25ms/step - loss: 795.7823 - mae: 20.6072 - val_loss: 185.0269 - val_mae: 9.7984\n",
            "Epoch 4/60\n",
            "50/50 - 2s - 33ms/step - loss: 268.6700 - mae: 11.0727 - val_loss: 95.9884 - val_mae: 7.1557\n",
            "Epoch 5/60\n",
            "50/50 - 1s - 22ms/step - loss: 331.3839 - mae: 13.0968 - val_loss: 50.5671 - val_mae: 5.6104\n",
            "Epoch 6/60\n",
            "50/50 - 1s - 15ms/step - loss: 459.4725 - mae: 9.3305 - val_loss: 53.4994 - val_mae: 6.1698\n",
            "Epoch 7/60\n",
            "50/50 - 1s - 25ms/step - loss: 913.8445 - mae: 12.8658 - val_loss: 33.8916 - val_mae: 4.5419\n",
            "Epoch 8/60\n",
            "50/50 - 1s - 26ms/step - loss: 4720.7158 - mae: 34.0420 - val_loss: 1671.3773 - val_mae: 33.7611\n",
            "Epoch 9/60\n",
            "50/50 - 1s - 25ms/step - loss: 10346.0195 - mae: 57.3055 - val_loss: 2571.2400 - val_mae: 48.2793\n",
            "Epoch 10/60\n",
            "50/50 - 1s - 16ms/step - loss: 1878.3617 - mae: 29.5369 - val_loss: 228.5193 - val_mae: 14.1943\n",
            "Epoch 11/60\n",
            "50/50 - 1s - 24ms/step - loss: 288.5433 - mae: 9.8655 - val_loss: 49.3638 - val_mae: 5.1436\n",
            "Epoch 12/60\n",
            "50/50 - 1s - 25ms/step - loss: 806.8926 - mae: 15.0379 - val_loss: 28.2987 - val_mae: 3.5503\n",
            "Epoch 13/60\n",
            "50/50 - 1s - 25ms/step - loss: 45.6713 - mae: 4.1960 - val_loss: 95.1769 - val_mae: 8.3413\n",
            "Epoch 14/60\n",
            "50/50 - 1s - 15ms/step - loss: 32.4324 - mae: 3.7917 - val_loss: 11.1420 - val_mae: 2.5778\n",
            "Epoch 15/60\n",
            "50/50 - 2s - 35ms/step - loss: 26.2452 - mae: 3.2867 - val_loss: 12.6260 - val_mae: 2.7072\n",
            "Epoch 16/60\n",
            "50/50 - 1s - 19ms/step - loss: 18.6618 - mae: 3.1587 - val_loss: 22.0719 - val_mae: 3.5827\n",
            "Epoch 17/60\n",
            "50/50 - 1s - 21ms/step - loss: 51.8516 - mae: 4.4745 - val_loss: 27.6829 - val_mae: 4.2527\n",
            "Epoch 18/60\n",
            "50/50 - 1s - 25ms/step - loss: 79.7411 - mae: 5.6448 - val_loss: 13.2603 - val_mae: 2.7158\n",
            "Epoch 19/60\n",
            "50/50 - 1s - 26ms/step - loss: 115.8680 - mae: 5.9859 - val_loss: 247.1929 - val_mae: 14.1328\n",
            "Epoch 20/60\n",
            "50/50 - 1s - 24ms/step - loss: 233.8522 - mae: 8.0174 - val_loss: 14.6418 - val_mae: 3.0690\n",
            "Epoch 21/60\n",
            "50/50 - 1s - 15ms/step - loss: 236.5434 - mae: 7.5351 - val_loss: 181.5651 - val_mae: 10.8572\n"
          ]
        },
        {
          "output_type": "display_data",
          "data": {
            "text/plain": [
              "\u001b[1mModel: \"sequential_12\"\u001b[0m\n"
            ],
            "text/html": [
              "<pre style=\"white-space:pre;overflow-x:auto;line-height:normal;font-family:Menlo,'DejaVu Sans Mono',consolas,'Courier New',monospace\"><span style=\"font-weight: bold\">Model: \"sequential_12\"</span>\n",
              "</pre>\n"
            ]
          },
          "metadata": {}
        },
        {
          "output_type": "display_data",
          "data": {
            "text/plain": [
              "┏━━━━━━━━━━━━━━━━━━━━━━━━━━━━━━━━━━━━━━┳━━━━━━━━━━━━━━━━━━━━━━━━━━━━━┳━━━━━━━━━━━━━━━━━┓\n",
              "┃\u001b[1m \u001b[0m\u001b[1mLayer (type)                        \u001b[0m\u001b[1m \u001b[0m┃\u001b[1m \u001b[0m\u001b[1mOutput Shape               \u001b[0m\u001b[1m \u001b[0m┃\u001b[1m \u001b[0m\u001b[1m        Param #\u001b[0m\u001b[1m \u001b[0m┃\n",
              "┡━━━━━━━━━━━━━━━━━━━━━━━━━━━━━━━━━━━━━━╇━━━━━━━━━━━━━━━━━━━━━━━━━━━━━╇━━━━━━━━━━━━━━━━━┩\n",
              "│ dense_46 (\u001b[38;5;33mDense\u001b[0m)                     │ (\u001b[38;5;45mNone\u001b[0m, \u001b[38;5;34m1024\u001b[0m)                │          \u001b[38;5;34m70,656\u001b[0m │\n",
              "├──────────────────────────────────────┼─────────────────────────────┼─────────────────┤\n",
              "│ dense_47 (\u001b[38;5;33mDense\u001b[0m)                     │ (\u001b[38;5;45mNone\u001b[0m, \u001b[38;5;34m1024\u001b[0m)                │       \u001b[38;5;34m1,049,600\u001b[0m │\n",
              "├──────────────────────────────────────┼─────────────────────────────┼─────────────────┤\n",
              "│ dense_48 (\u001b[38;5;33mDense\u001b[0m)                     │ (\u001b[38;5;45mNone\u001b[0m, \u001b[38;5;34m1\u001b[0m)                   │           \u001b[38;5;34m1,025\u001b[0m │\n",
              "└──────────────────────────────────────┴─────────────────────────────┴─────────────────┘\n"
            ],
            "text/html": [
              "<pre style=\"white-space:pre;overflow-x:auto;line-height:normal;font-family:Menlo,'DejaVu Sans Mono',consolas,'Courier New',monospace\">┏━━━━━━━━━━━━━━━━━━━━━━━━━━━━━━━━━━━━━━┳━━━━━━━━━━━━━━━━━━━━━━━━━━━━━┳━━━━━━━━━━━━━━━━━┓\n",
              "┃<span style=\"font-weight: bold\"> Layer (type)                         </span>┃<span style=\"font-weight: bold\"> Output Shape                </span>┃<span style=\"font-weight: bold\">         Param # </span>┃\n",
              "┡━━━━━━━━━━━━━━━━━━━━━━━━━━━━━━━━━━━━━━╇━━━━━━━━━━━━━━━━━━━━━━━━━━━━━╇━━━━━━━━━━━━━━━━━┩\n",
              "│ dense_46 (<span style=\"color: #0087ff; text-decoration-color: #0087ff\">Dense</span>)                     │ (<span style=\"color: #00d7ff; text-decoration-color: #00d7ff\">None</span>, <span style=\"color: #00af00; text-decoration-color: #00af00\">1024</span>)                │          <span style=\"color: #00af00; text-decoration-color: #00af00\">70,656</span> │\n",
              "├──────────────────────────────────────┼─────────────────────────────┼─────────────────┤\n",
              "│ dense_47 (<span style=\"color: #0087ff; text-decoration-color: #0087ff\">Dense</span>)                     │ (<span style=\"color: #00d7ff; text-decoration-color: #00d7ff\">None</span>, <span style=\"color: #00af00; text-decoration-color: #00af00\">1024</span>)                │       <span style=\"color: #00af00; text-decoration-color: #00af00\">1,049,600</span> │\n",
              "├──────────────────────────────────────┼─────────────────────────────┼─────────────────┤\n",
              "│ dense_48 (<span style=\"color: #0087ff; text-decoration-color: #0087ff\">Dense</span>)                     │ (<span style=\"color: #00d7ff; text-decoration-color: #00d7ff\">None</span>, <span style=\"color: #00af00; text-decoration-color: #00af00\">1</span>)                   │           <span style=\"color: #00af00; text-decoration-color: #00af00\">1,025</span> │\n",
              "└──────────────────────────────────────┴─────────────────────────────┴─────────────────┘\n",
              "</pre>\n"
            ]
          },
          "metadata": {}
        },
        {
          "output_type": "display_data",
          "data": {
            "text/plain": [
              "\u001b[1m Total params: \u001b[0m\u001b[38;5;34m1,121,281\u001b[0m (4.28 MB)\n"
            ],
            "text/html": [
              "<pre style=\"white-space:pre;overflow-x:auto;line-height:normal;font-family:Menlo,'DejaVu Sans Mono',consolas,'Courier New',monospace\"><span style=\"font-weight: bold\"> Total params: </span><span style=\"color: #00af00; text-decoration-color: #00af00\">1,121,281</span> (4.28 MB)\n",
              "</pre>\n"
            ]
          },
          "metadata": {}
        },
        {
          "output_type": "display_data",
          "data": {
            "text/plain": [
              "\u001b[1m Trainable params: \u001b[0m\u001b[38;5;34m1,121,281\u001b[0m (4.28 MB)\n"
            ],
            "text/html": [
              "<pre style=\"white-space:pre;overflow-x:auto;line-height:normal;font-family:Menlo,'DejaVu Sans Mono',consolas,'Courier New',monospace\"><span style=\"font-weight: bold\"> Trainable params: </span><span style=\"color: #00af00; text-decoration-color: #00af00\">1,121,281</span> (4.28 MB)\n",
              "</pre>\n"
            ]
          },
          "metadata": {}
        },
        {
          "output_type": "display_data",
          "data": {
            "text/plain": [
              "\u001b[1m Non-trainable params: \u001b[0m\u001b[38;5;34m0\u001b[0m (0.00 B)\n"
            ],
            "text/html": [
              "<pre style=\"white-space:pre;overflow-x:auto;line-height:normal;font-family:Menlo,'DejaVu Sans Mono',consolas,'Courier New',monospace\"><span style=\"font-weight: bold\"> Non-trainable params: </span><span style=\"color: #00af00; text-decoration-color: #00af00\">0</span> (0.00 B)\n",
              "</pre>\n"
            ]
          },
          "metadata": {}
        },
        {
          "output_type": "stream",
          "name": "stdout",
          "text": [
            "Epoch 1/60\n",
            "50/50 - 2s - 43ms/step - loss: 1320196.7500 - mae: 612.3693 - val_loss: 5860.5840 - val_mae: 54.2983\n",
            "Epoch 2/60\n",
            "50/50 - 1s - 24ms/step - loss: 3076.0703 - mae: 28.5076 - val_loss: 1209.5510 - val_mae: 21.3201\n",
            "Epoch 3/60\n",
            "50/50 - 2s - 33ms/step - loss: 3124.1938 - mae: 23.0258 - val_loss: 902.0447 - val_mae: 12.3861\n",
            "Epoch 4/60\n",
            "50/50 - 2s - 41ms/step - loss: 618.2600 - mae: 14.6451 - val_loss: 1549.6492 - val_mae: 15.8845\n",
            "Epoch 5/60\n",
            "50/50 - 1s - 17ms/step - loss: 1902.5099 - mae: 14.5465 - val_loss: 125.3545 - val_mae: 5.8662\n",
            "Epoch 6/60\n",
            "50/50 - 1s - 25ms/step - loss: 273.6783 - mae: 10.0511 - val_loss: 1259.3501 - val_mae: 26.0368\n",
            "Epoch 7/60\n",
            "50/50 - 1s - 24ms/step - loss: 1270.4387 - mae: 23.3796 - val_loss: 460.2352 - val_mae: 14.3453\n",
            "Epoch 8/60\n",
            "50/50 - 1s - 26ms/step - loss: 947.1259 - mae: 10.7257 - val_loss: 3191.9707 - val_mae: 49.3665\n",
            "Epoch 9/60\n",
            "50/50 - 1s - 16ms/step - loss: 4572.0166 - mae: 34.5741 - val_loss: 1439.6813 - val_mae: 31.9260\n",
            "Epoch 10/60\n",
            "50/50 - 1s - 25ms/step - loss: 603.7127 - mae: 15.1804 - val_loss: 499.4326 - val_mae: 15.4957\n",
            "Epoch 11/60\n",
            "50/50 - 1s - 16ms/step - loss: 899.9416 - mae: 12.3681 - val_loss: 264.5666 - val_mae: 12.6748\n",
            "Epoch 12/60\n",
            "50/50 - 2s - 31ms/step - loss: 781.9954 - mae: 19.9012 - val_loss: 635.1553 - val_mae: 17.1183\n"
          ]
        },
        {
          "output_type": "display_data",
          "data": {
            "text/plain": [
              "\u001b[1mModel: \"sequential_13\"\u001b[0m\n"
            ],
            "text/html": [
              "<pre style=\"white-space:pre;overflow-x:auto;line-height:normal;font-family:Menlo,'DejaVu Sans Mono',consolas,'Courier New',monospace\"><span style=\"font-weight: bold\">Model: \"sequential_13\"</span>\n",
              "</pre>\n"
            ]
          },
          "metadata": {}
        },
        {
          "output_type": "display_data",
          "data": {
            "text/plain": [
              "┏━━━━━━━━━━━━━━━━━━━━━━━━━━━━━━━━━━━━━━┳━━━━━━━━━━━━━━━━━━━━━━━━━━━━━┳━━━━━━━━━━━━━━━━━┓\n",
              "┃\u001b[1m \u001b[0m\u001b[1mLayer (type)                        \u001b[0m\u001b[1m \u001b[0m┃\u001b[1m \u001b[0m\u001b[1mOutput Shape               \u001b[0m\u001b[1m \u001b[0m┃\u001b[1m \u001b[0m\u001b[1m        Param #\u001b[0m\u001b[1m \u001b[0m┃\n",
              "┡━━━━━━━━━━━━━━━━━━━━━━━━━━━━━━━━━━━━━━╇━━━━━━━━━━━━━━━━━━━━━━━━━━━━━╇━━━━━━━━━━━━━━━━━┩\n",
              "│ dense_49 (\u001b[38;5;33mDense\u001b[0m)                     │ (\u001b[38;5;45mNone\u001b[0m, \u001b[38;5;34m1024\u001b[0m)                │          \u001b[38;5;34m70,656\u001b[0m │\n",
              "├──────────────────────────────────────┼─────────────────────────────┼─────────────────┤\n",
              "│ dense_50 (\u001b[38;5;33mDense\u001b[0m)                     │ (\u001b[38;5;45mNone\u001b[0m, \u001b[38;5;34m1024\u001b[0m)                │       \u001b[38;5;34m1,049,600\u001b[0m │\n",
              "├──────────────────────────────────────┼─────────────────────────────┼─────────────────┤\n",
              "│ dense_51 (\u001b[38;5;33mDense\u001b[0m)                     │ (\u001b[38;5;45mNone\u001b[0m, \u001b[38;5;34m1\u001b[0m)                   │           \u001b[38;5;34m1,025\u001b[0m │\n",
              "└──────────────────────────────────────┴─────────────────────────────┴─────────────────┘\n"
            ],
            "text/html": [
              "<pre style=\"white-space:pre;overflow-x:auto;line-height:normal;font-family:Menlo,'DejaVu Sans Mono',consolas,'Courier New',monospace\">┏━━━━━━━━━━━━━━━━━━━━━━━━━━━━━━━━━━━━━━┳━━━━━━━━━━━━━━━━━━━━━━━━━━━━━┳━━━━━━━━━━━━━━━━━┓\n",
              "┃<span style=\"font-weight: bold\"> Layer (type)                         </span>┃<span style=\"font-weight: bold\"> Output Shape                </span>┃<span style=\"font-weight: bold\">         Param # </span>┃\n",
              "┡━━━━━━━━━━━━━━━━━━━━━━━━━━━━━━━━━━━━━━╇━━━━━━━━━━━━━━━━━━━━━━━━━━━━━╇━━━━━━━━━━━━━━━━━┩\n",
              "│ dense_49 (<span style=\"color: #0087ff; text-decoration-color: #0087ff\">Dense</span>)                     │ (<span style=\"color: #00d7ff; text-decoration-color: #00d7ff\">None</span>, <span style=\"color: #00af00; text-decoration-color: #00af00\">1024</span>)                │          <span style=\"color: #00af00; text-decoration-color: #00af00\">70,656</span> │\n",
              "├──────────────────────────────────────┼─────────────────────────────┼─────────────────┤\n",
              "│ dense_50 (<span style=\"color: #0087ff; text-decoration-color: #0087ff\">Dense</span>)                     │ (<span style=\"color: #00d7ff; text-decoration-color: #00d7ff\">None</span>, <span style=\"color: #00af00; text-decoration-color: #00af00\">1024</span>)                │       <span style=\"color: #00af00; text-decoration-color: #00af00\">1,049,600</span> │\n",
              "├──────────────────────────────────────┼─────────────────────────────┼─────────────────┤\n",
              "│ dense_51 (<span style=\"color: #0087ff; text-decoration-color: #0087ff\">Dense</span>)                     │ (<span style=\"color: #00d7ff; text-decoration-color: #00d7ff\">None</span>, <span style=\"color: #00af00; text-decoration-color: #00af00\">1</span>)                   │           <span style=\"color: #00af00; text-decoration-color: #00af00\">1,025</span> │\n",
              "└──────────────────────────────────────┴─────────────────────────────┴─────────────────┘\n",
              "</pre>\n"
            ]
          },
          "metadata": {}
        },
        {
          "output_type": "display_data",
          "data": {
            "text/plain": [
              "\u001b[1m Total params: \u001b[0m\u001b[38;5;34m1,121,281\u001b[0m (4.28 MB)\n"
            ],
            "text/html": [
              "<pre style=\"white-space:pre;overflow-x:auto;line-height:normal;font-family:Menlo,'DejaVu Sans Mono',consolas,'Courier New',monospace\"><span style=\"font-weight: bold\"> Total params: </span><span style=\"color: #00af00; text-decoration-color: #00af00\">1,121,281</span> (4.28 MB)\n",
              "</pre>\n"
            ]
          },
          "metadata": {}
        },
        {
          "output_type": "display_data",
          "data": {
            "text/plain": [
              "\u001b[1m Trainable params: \u001b[0m\u001b[38;5;34m1,121,281\u001b[0m (4.28 MB)\n"
            ],
            "text/html": [
              "<pre style=\"white-space:pre;overflow-x:auto;line-height:normal;font-family:Menlo,'DejaVu Sans Mono',consolas,'Courier New',monospace\"><span style=\"font-weight: bold\"> Trainable params: </span><span style=\"color: #00af00; text-decoration-color: #00af00\">1,121,281</span> (4.28 MB)\n",
              "</pre>\n"
            ]
          },
          "metadata": {}
        },
        {
          "output_type": "display_data",
          "data": {
            "text/plain": [
              "\u001b[1m Non-trainable params: \u001b[0m\u001b[38;5;34m0\u001b[0m (0.00 B)\n"
            ],
            "text/html": [
              "<pre style=\"white-space:pre;overflow-x:auto;line-height:normal;font-family:Menlo,'DejaVu Sans Mono',consolas,'Courier New',monospace\"><span style=\"font-weight: bold\"> Non-trainable params: </span><span style=\"color: #00af00; text-decoration-color: #00af00\">0</span> (0.00 B)\n",
              "</pre>\n"
            ]
          },
          "metadata": {}
        },
        {
          "output_type": "stream",
          "name": "stdout",
          "text": [
            "Epoch 1/60\n",
            "50/50 - 2s - 47ms/step - loss: 477384.2812 - mae: 403.9671 - val_loss: 32630.3359 - val_mae: 145.6982\n",
            "Epoch 2/60\n",
            "50/50 - 1s - 23ms/step - loss: 11607.2090 - mae: 75.6128 - val_loss: 23120.7578 - val_mae: 53.8871\n",
            "Epoch 3/60\n",
            "50/50 - 1s - 25ms/step - loss: 16163.7930 - mae: 83.6500 - val_loss: 282117.1875 - val_mae: 150.3246\n",
            "Epoch 4/60\n",
            "50/50 - 1s - 25ms/step - loss: 17276.8340 - mae: 60.4728 - val_loss: 6391.5420 - val_mae: 24.0101\n",
            "Epoch 5/60\n",
            "50/50 - 1s - 24ms/step - loss: 1863.4034 - mae: 30.8693 - val_loss: 3538.7175 - val_mae: 40.7178\n",
            "Epoch 6/60\n",
            "50/50 - 1s - 16ms/step - loss: 2689.9690 - mae: 33.2693 - val_loss: 1405.2339 - val_mae: 15.0633\n",
            "Epoch 7/60\n",
            "50/50 - 1s - 16ms/step - loss: 1614.0753 - mae: 30.7146 - val_loss: 1280.8264 - val_mae: 16.4461\n",
            "Epoch 8/60\n",
            "50/50 - 1s - 15ms/step - loss: 1112.6881 - mae: 24.5958 - val_loss: 630.3965 - val_mae: 19.6096\n",
            "Epoch 9/60\n",
            "50/50 - 1s - 27ms/step - loss: 916.4791 - mae: 22.0920 - val_loss: 4709.4575 - val_mae: 39.5968\n",
            "Epoch 10/60\n",
            "50/50 - 2s - 32ms/step - loss: 644.6707 - mae: 19.1093 - val_loss: 1789.8682 - val_mae: 36.3084\n",
            "Epoch 11/60\n",
            "50/50 - 1s - 22ms/step - loss: 1390.2299 - mae: 26.4402 - val_loss: 1227.9630 - val_mae: 29.5273\n",
            "Epoch 12/60\n",
            "50/50 - 1s - 21ms/step - loss: 2670.5247 - mae: 39.1864 - val_loss: 624.9186 - val_mae: 17.9992\n",
            "Epoch 13/60\n",
            "50/50 - 1s - 16ms/step - loss: 521.0676 - mae: 18.1354 - val_loss: 287.6416 - val_mae: 14.1728\n",
            "Epoch 14/60\n",
            "50/50 - 1s - 26ms/step - loss: 1069.9572 - mae: 24.8131 - val_loss: 1363.0223 - val_mae: 29.8898\n",
            "Epoch 15/60\n",
            "50/50 - 1s - 25ms/step - loss: 5975.6558 - mae: 59.3236 - val_loss: 11804.3359 - val_mae: 91.6235\n",
            "Epoch 16/60\n",
            "50/50 - 1s - 17ms/step - loss: 5115.8262 - mae: 51.8810 - val_loss: 605.7911 - val_mae: 13.6824\n",
            "Epoch 17/60\n",
            "50/50 - 1s - 23ms/step - loss: 918.6666 - mae: 19.1988 - val_loss: 10499.5010 - val_mae: 66.6850\n",
            "Epoch 18/60\n",
            "50/50 - 1s - 26ms/step - loss: 1453.1311 - mae: 29.0564 - val_loss: 2057.4814 - val_mae: 36.3409\n",
            "Epoch 19/60\n",
            "50/50 - 1s - 25ms/step - loss: 1821.4443 - mae: 30.2515 - val_loss: 2878.9851 - val_mae: 19.2765\n",
            "Epoch 20/60\n",
            "50/50 - 2s - 34ms/step - loss: 1562.3636 - mae: 25.2427 - val_loss: 41747.8281 - val_mae: 50.9564\n"
          ]
        },
        {
          "output_type": "display_data",
          "data": {
            "text/plain": [
              "\u001b[1mModel: \"sequential_14\"\u001b[0m\n"
            ],
            "text/html": [
              "<pre style=\"white-space:pre;overflow-x:auto;line-height:normal;font-family:Menlo,'DejaVu Sans Mono',consolas,'Courier New',monospace\"><span style=\"font-weight: bold\">Model: \"sequential_14\"</span>\n",
              "</pre>\n"
            ]
          },
          "metadata": {}
        },
        {
          "output_type": "display_data",
          "data": {
            "text/plain": [
              "┏━━━━━━━━━━━━━━━━━━━━━━━━━━━━━━━━━━━━━━┳━━━━━━━━━━━━━━━━━━━━━━━━━━━━━┳━━━━━━━━━━━━━━━━━┓\n",
              "┃\u001b[1m \u001b[0m\u001b[1mLayer (type)                        \u001b[0m\u001b[1m \u001b[0m┃\u001b[1m \u001b[0m\u001b[1mOutput Shape               \u001b[0m\u001b[1m \u001b[0m┃\u001b[1m \u001b[0m\u001b[1m        Param #\u001b[0m\u001b[1m \u001b[0m┃\n",
              "┡━━━━━━━━━━━━━━━━━━━━━━━━━━━━━━━━━━━━━━╇━━━━━━━━━━━━━━━━━━━━━━━━━━━━━╇━━━━━━━━━━━━━━━━━┩\n",
              "│ dense_52 (\u001b[38;5;33mDense\u001b[0m)                     │ (\u001b[38;5;45mNone\u001b[0m, \u001b[38;5;34m1024\u001b[0m)                │          \u001b[38;5;34m70,656\u001b[0m │\n",
              "├──────────────────────────────────────┼─────────────────────────────┼─────────────────┤\n",
              "│ dense_53 (\u001b[38;5;33mDense\u001b[0m)                     │ (\u001b[38;5;45mNone\u001b[0m, \u001b[38;5;34m1024\u001b[0m)                │       \u001b[38;5;34m1,049,600\u001b[0m │\n",
              "├──────────────────────────────────────┼─────────────────────────────┼─────────────────┤\n",
              "│ dense_54 (\u001b[38;5;33mDense\u001b[0m)                     │ (\u001b[38;5;45mNone\u001b[0m, \u001b[38;5;34m1\u001b[0m)                   │           \u001b[38;5;34m1,025\u001b[0m │\n",
              "└──────────────────────────────────────┴─────────────────────────────┴─────────────────┘\n"
            ],
            "text/html": [
              "<pre style=\"white-space:pre;overflow-x:auto;line-height:normal;font-family:Menlo,'DejaVu Sans Mono',consolas,'Courier New',monospace\">┏━━━━━━━━━━━━━━━━━━━━━━━━━━━━━━━━━━━━━━┳━━━━━━━━━━━━━━━━━━━━━━━━━━━━━┳━━━━━━━━━━━━━━━━━┓\n",
              "┃<span style=\"font-weight: bold\"> Layer (type)                         </span>┃<span style=\"font-weight: bold\"> Output Shape                </span>┃<span style=\"font-weight: bold\">         Param # </span>┃\n",
              "┡━━━━━━━━━━━━━━━━━━━━━━━━━━━━━━━━━━━━━━╇━━━━━━━━━━━━━━━━━━━━━━━━━━━━━╇━━━━━━━━━━━━━━━━━┩\n",
              "│ dense_52 (<span style=\"color: #0087ff; text-decoration-color: #0087ff\">Dense</span>)                     │ (<span style=\"color: #00d7ff; text-decoration-color: #00d7ff\">None</span>, <span style=\"color: #00af00; text-decoration-color: #00af00\">1024</span>)                │          <span style=\"color: #00af00; text-decoration-color: #00af00\">70,656</span> │\n",
              "├──────────────────────────────────────┼─────────────────────────────┼─────────────────┤\n",
              "│ dense_53 (<span style=\"color: #0087ff; text-decoration-color: #0087ff\">Dense</span>)                     │ (<span style=\"color: #00d7ff; text-decoration-color: #00d7ff\">None</span>, <span style=\"color: #00af00; text-decoration-color: #00af00\">1024</span>)                │       <span style=\"color: #00af00; text-decoration-color: #00af00\">1,049,600</span> │\n",
              "├──────────────────────────────────────┼─────────────────────────────┼─────────────────┤\n",
              "│ dense_54 (<span style=\"color: #0087ff; text-decoration-color: #0087ff\">Dense</span>)                     │ (<span style=\"color: #00d7ff; text-decoration-color: #00d7ff\">None</span>, <span style=\"color: #00af00; text-decoration-color: #00af00\">1</span>)                   │           <span style=\"color: #00af00; text-decoration-color: #00af00\">1,025</span> │\n",
              "└──────────────────────────────────────┴─────────────────────────────┴─────────────────┘\n",
              "</pre>\n"
            ]
          },
          "metadata": {}
        },
        {
          "output_type": "display_data",
          "data": {
            "text/plain": [
              "\u001b[1m Total params: \u001b[0m\u001b[38;5;34m1,121,281\u001b[0m (4.28 MB)\n"
            ],
            "text/html": [
              "<pre style=\"white-space:pre;overflow-x:auto;line-height:normal;font-family:Menlo,'DejaVu Sans Mono',consolas,'Courier New',monospace\"><span style=\"font-weight: bold\"> Total params: </span><span style=\"color: #00af00; text-decoration-color: #00af00\">1,121,281</span> (4.28 MB)\n",
              "</pre>\n"
            ]
          },
          "metadata": {}
        },
        {
          "output_type": "display_data",
          "data": {
            "text/plain": [
              "\u001b[1m Trainable params: \u001b[0m\u001b[38;5;34m1,121,281\u001b[0m (4.28 MB)\n"
            ],
            "text/html": [
              "<pre style=\"white-space:pre;overflow-x:auto;line-height:normal;font-family:Menlo,'DejaVu Sans Mono',consolas,'Courier New',monospace\"><span style=\"font-weight: bold\"> Trainable params: </span><span style=\"color: #00af00; text-decoration-color: #00af00\">1,121,281</span> (4.28 MB)\n",
              "</pre>\n"
            ]
          },
          "metadata": {}
        },
        {
          "output_type": "display_data",
          "data": {
            "text/plain": [
              "\u001b[1m Non-trainable params: \u001b[0m\u001b[38;5;34m0\u001b[0m (0.00 B)\n"
            ],
            "text/html": [
              "<pre style=\"white-space:pre;overflow-x:auto;line-height:normal;font-family:Menlo,'DejaVu Sans Mono',consolas,'Courier New',monospace\"><span style=\"font-weight: bold\"> Non-trainable params: </span><span style=\"color: #00af00; text-decoration-color: #00af00\">0</span> (0.00 B)\n",
              "</pre>\n"
            ]
          },
          "metadata": {}
        },
        {
          "output_type": "stream",
          "name": "stdout",
          "text": [
            "Epoch 1/60\n",
            "50/50 - 2s - 45ms/step - loss: 1208901.2500 - mae: 654.9993 - val_loss: 7425.2808 - val_mae: 65.6366\n",
            "Epoch 2/60\n",
            "50/50 - 1s - 22ms/step - loss: 3422.5298 - mae: 39.8105 - val_loss: 1977.3335 - val_mae: 27.5838\n",
            "Epoch 3/60\n",
            "50/50 - 1s - 25ms/step - loss: 1630.3405 - mae: 22.9319 - val_loss: 421.6020 - val_mae: 14.3195\n",
            "Epoch 4/60\n",
            "50/50 - 1s - 25ms/step - loss: 774.9064 - mae: 17.4993 - val_loss: 439.0181 - val_mae: 13.5554\n",
            "Epoch 5/60\n",
            "50/50 - 1s - 24ms/step - loss: 406.8954 - mae: 10.9775 - val_loss: 775.0370 - val_mae: 15.0509\n",
            "Epoch 6/60\n",
            "50/50 - 1s - 26ms/step - loss: 776.8488 - mae: 17.6115 - val_loss: 161.4254 - val_mae: 9.5093\n",
            "Epoch 7/60\n",
            "50/50 - 1s - 16ms/step - loss: 184.6901 - mae: 8.8718 - val_loss: 64.4353 - val_mae: 5.8767\n",
            "Epoch 8/60\n",
            "50/50 - 1s - 25ms/step - loss: 247.8337 - mae: 8.5065 - val_loss: 97.0096 - val_mae: 6.3912\n",
            "Epoch 9/60\n",
            "50/50 - 1s - 23ms/step - loss: 59.5255 - mae: 5.6369 - val_loss: 150.0502 - val_mae: 9.9815\n",
            "Epoch 10/60\n",
            "50/50 - 1s - 27ms/step - loss: 113.0757 - mae: 5.9421 - val_loss: 649.3704 - val_mae: 9.3323\n",
            "Epoch 11/60\n",
            "50/50 - 1s - 16ms/step - loss: 1743.2546 - mae: 15.7462 - val_loss: 3857.6763 - val_mae: 26.6648\n",
            "Epoch 12/60\n",
            "50/50 - 1s - 25ms/step - loss: 13102.7451 - mae: 53.1943 - val_loss: 1095.6790 - val_mae: 20.0010\n",
            "Epoch 13/60\n",
            "50/50 - 1s - 15ms/step - loss: 1520.1608 - mae: 17.9131 - val_loss: 390.4604 - val_mae: 16.0155\n",
            "Epoch 14/60\n",
            "50/50 - 1s - 25ms/step - loss: 2781.2285 - mae: 29.9513 - val_loss: 1336.6378 - val_mae: 14.5023\n",
            "Mean training loss: 60.8979 -- Mean validation loss: 57.9281 -- Hyperparameters: (Width: 1024, Depth: 2)\n",
            "Width: 1024, Depth: 4\n"
          ]
        },
        {
          "output_type": "display_data",
          "data": {
            "text/plain": [
              "\u001b[1mModel: \"sequential_15\"\u001b[0m\n"
            ],
            "text/html": [
              "<pre style=\"white-space:pre;overflow-x:auto;line-height:normal;font-family:Menlo,'DejaVu Sans Mono',consolas,'Courier New',monospace\"><span style=\"font-weight: bold\">Model: \"sequential_15\"</span>\n",
              "</pre>\n"
            ]
          },
          "metadata": {}
        },
        {
          "output_type": "display_data",
          "data": {
            "text/plain": [
              "┏━━━━━━━━━━━━━━━━━━━━━━━━━━━━━━━━━━━━━━┳━━━━━━━━━━━━━━━━━━━━━━━━━━━━━┳━━━━━━━━━━━━━━━━━┓\n",
              "┃\u001b[1m \u001b[0m\u001b[1mLayer (type)                        \u001b[0m\u001b[1m \u001b[0m┃\u001b[1m \u001b[0m\u001b[1mOutput Shape               \u001b[0m\u001b[1m \u001b[0m┃\u001b[1m \u001b[0m\u001b[1m        Param #\u001b[0m\u001b[1m \u001b[0m┃\n",
              "┡━━━━━━━━━━━━━━━━━━━━━━━━━━━━━━━━━━━━━━╇━━━━━━━━━━━━━━━━━━━━━━━━━━━━━╇━━━━━━━━━━━━━━━━━┩\n",
              "│ dense_55 (\u001b[38;5;33mDense\u001b[0m)                     │ (\u001b[38;5;45mNone\u001b[0m, \u001b[38;5;34m1024\u001b[0m)                │          \u001b[38;5;34m70,656\u001b[0m │\n",
              "├──────────────────────────────────────┼─────────────────────────────┼─────────────────┤\n",
              "│ dense_56 (\u001b[38;5;33mDense\u001b[0m)                     │ (\u001b[38;5;45mNone\u001b[0m, \u001b[38;5;34m1024\u001b[0m)                │       \u001b[38;5;34m1,049,600\u001b[0m │\n",
              "├──────────────────────────────────────┼─────────────────────────────┼─────────────────┤\n",
              "│ dense_57 (\u001b[38;5;33mDense\u001b[0m)                     │ (\u001b[38;5;45mNone\u001b[0m, \u001b[38;5;34m1024\u001b[0m)                │       \u001b[38;5;34m1,049,600\u001b[0m │\n",
              "├──────────────────────────────────────┼─────────────────────────────┼─────────────────┤\n",
              "│ dense_58 (\u001b[38;5;33mDense\u001b[0m)                     │ (\u001b[38;5;45mNone\u001b[0m, \u001b[38;5;34m1024\u001b[0m)                │       \u001b[38;5;34m1,049,600\u001b[0m │\n",
              "├──────────────────────────────────────┼─────────────────────────────┼─────────────────┤\n",
              "│ dense_59 (\u001b[38;5;33mDense\u001b[0m)                     │ (\u001b[38;5;45mNone\u001b[0m, \u001b[38;5;34m1\u001b[0m)                   │           \u001b[38;5;34m1,025\u001b[0m │\n",
              "└──────────────────────────────────────┴─────────────────────────────┴─────────────────┘\n"
            ],
            "text/html": [
              "<pre style=\"white-space:pre;overflow-x:auto;line-height:normal;font-family:Menlo,'DejaVu Sans Mono',consolas,'Courier New',monospace\">┏━━━━━━━━━━━━━━━━━━━━━━━━━━━━━━━━━━━━━━┳━━━━━━━━━━━━━━━━━━━━━━━━━━━━━┳━━━━━━━━━━━━━━━━━┓\n",
              "┃<span style=\"font-weight: bold\"> Layer (type)                         </span>┃<span style=\"font-weight: bold\"> Output Shape                </span>┃<span style=\"font-weight: bold\">         Param # </span>┃\n",
              "┡━━━━━━━━━━━━━━━━━━━━━━━━━━━━━━━━━━━━━━╇━━━━━━━━━━━━━━━━━━━━━━━━━━━━━╇━━━━━━━━━━━━━━━━━┩\n",
              "│ dense_55 (<span style=\"color: #0087ff; text-decoration-color: #0087ff\">Dense</span>)                     │ (<span style=\"color: #00d7ff; text-decoration-color: #00d7ff\">None</span>, <span style=\"color: #00af00; text-decoration-color: #00af00\">1024</span>)                │          <span style=\"color: #00af00; text-decoration-color: #00af00\">70,656</span> │\n",
              "├──────────────────────────────────────┼─────────────────────────────┼─────────────────┤\n",
              "│ dense_56 (<span style=\"color: #0087ff; text-decoration-color: #0087ff\">Dense</span>)                     │ (<span style=\"color: #00d7ff; text-decoration-color: #00d7ff\">None</span>, <span style=\"color: #00af00; text-decoration-color: #00af00\">1024</span>)                │       <span style=\"color: #00af00; text-decoration-color: #00af00\">1,049,600</span> │\n",
              "├──────────────────────────────────────┼─────────────────────────────┼─────────────────┤\n",
              "│ dense_57 (<span style=\"color: #0087ff; text-decoration-color: #0087ff\">Dense</span>)                     │ (<span style=\"color: #00d7ff; text-decoration-color: #00d7ff\">None</span>, <span style=\"color: #00af00; text-decoration-color: #00af00\">1024</span>)                │       <span style=\"color: #00af00; text-decoration-color: #00af00\">1,049,600</span> │\n",
              "├──────────────────────────────────────┼─────────────────────────────┼─────────────────┤\n",
              "│ dense_58 (<span style=\"color: #0087ff; text-decoration-color: #0087ff\">Dense</span>)                     │ (<span style=\"color: #00d7ff; text-decoration-color: #00d7ff\">None</span>, <span style=\"color: #00af00; text-decoration-color: #00af00\">1024</span>)                │       <span style=\"color: #00af00; text-decoration-color: #00af00\">1,049,600</span> │\n",
              "├──────────────────────────────────────┼─────────────────────────────┼─────────────────┤\n",
              "│ dense_59 (<span style=\"color: #0087ff; text-decoration-color: #0087ff\">Dense</span>)                     │ (<span style=\"color: #00d7ff; text-decoration-color: #00d7ff\">None</span>, <span style=\"color: #00af00; text-decoration-color: #00af00\">1</span>)                   │           <span style=\"color: #00af00; text-decoration-color: #00af00\">1,025</span> │\n",
              "└──────────────────────────────────────┴─────────────────────────────┴─────────────────┘\n",
              "</pre>\n"
            ]
          },
          "metadata": {}
        },
        {
          "output_type": "display_data",
          "data": {
            "text/plain": [
              "\u001b[1m Total params: \u001b[0m\u001b[38;5;34m3,220,481\u001b[0m (12.29 MB)\n"
            ],
            "text/html": [
              "<pre style=\"white-space:pre;overflow-x:auto;line-height:normal;font-family:Menlo,'DejaVu Sans Mono',consolas,'Courier New',monospace\"><span style=\"font-weight: bold\"> Total params: </span><span style=\"color: #00af00; text-decoration-color: #00af00\">3,220,481</span> (12.29 MB)\n",
              "</pre>\n"
            ]
          },
          "metadata": {}
        },
        {
          "output_type": "display_data",
          "data": {
            "text/plain": [
              "\u001b[1m Trainable params: \u001b[0m\u001b[38;5;34m3,220,481\u001b[0m (12.29 MB)\n"
            ],
            "text/html": [
              "<pre style=\"white-space:pre;overflow-x:auto;line-height:normal;font-family:Menlo,'DejaVu Sans Mono',consolas,'Courier New',monospace\"><span style=\"font-weight: bold\"> Trainable params: </span><span style=\"color: #00af00; text-decoration-color: #00af00\">3,220,481</span> (12.29 MB)\n",
              "</pre>\n"
            ]
          },
          "metadata": {}
        },
        {
          "output_type": "display_data",
          "data": {
            "text/plain": [
              "\u001b[1m Non-trainable params: \u001b[0m\u001b[38;5;34m0\u001b[0m (0.00 B)\n"
            ],
            "text/html": [
              "<pre style=\"white-space:pre;overflow-x:auto;line-height:normal;font-family:Menlo,'DejaVu Sans Mono',consolas,'Courier New',monospace\"><span style=\"font-weight: bold\"> Non-trainable params: </span><span style=\"color: #00af00; text-decoration-color: #00af00\">0</span> (0.00 B)\n",
              "</pre>\n"
            ]
          },
          "metadata": {}
        },
        {
          "output_type": "stream",
          "name": "stdout",
          "text": [
            "Epoch 1/60\n",
            "50/50 - 4s - 76ms/step - loss: 688019.1250 - mae: 199.0853 - val_loss: 971.6287 - val_mae: 29.3944\n",
            "Epoch 2/60\n",
            "50/50 - 3s - 52ms/step - loss: 299.0718 - mae: 12.5307 - val_loss: 7.3631 - val_mae: 2.1059\n",
            "Epoch 3/60\n",
            "50/50 - 3s - 56ms/step - loss: 152.5913 - mae: 9.0645 - val_loss: 382.3626 - val_mae: 18.1747\n",
            "Epoch 4/60\n",
            "50/50 - 2s - 39ms/step - loss: 1206.9097 - mae: 25.9696 - val_loss: 311.0306 - val_mae: 13.7998\n",
            "Epoch 5/60\n",
            "50/50 - 2s - 50ms/step - loss: 1889.3555 - mae: 29.7541 - val_loss: 1466.0012 - val_mae: 34.9138\n",
            "Epoch 6/60\n",
            "50/50 - 2s - 49ms/step - loss: 419.0814 - mae: 12.7850 - val_loss: 16.3267 - val_mae: 3.2857\n",
            "Epoch 7/60\n",
            "50/50 - 3s - 54ms/step - loss: 89.6363 - mae: 7.2039 - val_loss: 5.5168 - val_mae: 1.7364\n",
            "Epoch 8/60\n",
            "50/50 - 3s - 53ms/step - loss: 53.6985 - mae: 4.5311 - val_loss: 3.3132 - val_mae: 1.5334\n",
            "Epoch 9/60\n",
            "50/50 - 4s - 85ms/step - loss: 2.0504 - mae: 1.0326 - val_loss: 3.6952 - val_mae: 1.5327\n",
            "Epoch 10/60\n",
            "50/50 - 3s - 53ms/step - loss: 3.4837 - mae: 1.3735 - val_loss: 0.5291 - val_mae: 0.5886\n",
            "Epoch 11/60\n",
            "50/50 - 3s - 53ms/step - loss: 3.4465 - mae: 1.3007 - val_loss: 0.7217 - val_mae: 0.7010\n",
            "Epoch 12/60\n",
            "50/50 - 3s - 64ms/step - loss: 3.6385 - mae: 1.0659 - val_loss: 24.6147 - val_mae: 4.5873\n",
            "Epoch 13/60\n",
            "50/50 - 2s - 40ms/step - loss: 7.4866 - mae: 2.0254 - val_loss: 9.5698 - val_mae: 2.7687\n",
            "Epoch 14/60\n",
            "50/50 - 2s - 40ms/step - loss: 11.8638 - mae: 2.6440 - val_loss: 1.6069 - val_mae: 1.0641\n",
            "Epoch 15/60\n",
            "50/50 - 2s - 38ms/step - loss: 4.5823 - mae: 1.4692 - val_loss: 2.8489 - val_mae: 1.4750\n",
            "Epoch 16/60\n",
            "50/50 - 2s - 41ms/step - loss: 1.2381 - mae: 0.8106 - val_loss: 2.0451 - val_mae: 1.2617\n",
            "Epoch 17/60\n",
            "50/50 - 2s - 45ms/step - loss: 2.0104 - mae: 1.0864 - val_loss: 0.4603 - val_mae: 0.5039\n",
            "Epoch 18/60\n",
            "50/50 - 3s - 52ms/step - loss: 6.4093 - mae: 1.9147 - val_loss: 2.9130 - val_mae: 1.4951\n",
            "Epoch 19/60\n",
            "50/50 - 2s - 43ms/step - loss: 25.0984 - mae: 3.4298 - val_loss: 0.5636 - val_mae: 0.5845\n",
            "Epoch 20/60\n",
            "50/50 - 2s - 39ms/step - loss: 1.9885 - mae: 1.0910 - val_loss: 0.5632 - val_mae: 0.5642\n",
            "Epoch 21/60\n",
            "50/50 - 3s - 51ms/step - loss: 30.1135 - mae: 3.6092 - val_loss: 29.2617 - val_mae: 5.0203\n",
            "Epoch 22/60\n",
            "50/50 - 2s - 39ms/step - loss: 26.5432 - mae: 3.8026 - val_loss: 28.9674 - val_mae: 4.6158\n",
            "Epoch 23/60\n",
            "50/50 - 3s - 65ms/step - loss: 11.2724 - mae: 2.4841 - val_loss: 1.4358 - val_mae: 0.7989\n",
            "Epoch 24/60\n",
            "50/50 - 2s - 40ms/step - loss: 12.5204 - mae: 2.2034 - val_loss: 85.8275 - val_mae: 8.4352\n"
          ]
        },
        {
          "output_type": "display_data",
          "data": {
            "text/plain": [
              "\u001b[1mModel: \"sequential_16\"\u001b[0m\n"
            ],
            "text/html": [
              "<pre style=\"white-space:pre;overflow-x:auto;line-height:normal;font-family:Menlo,'DejaVu Sans Mono',consolas,'Courier New',monospace\"><span style=\"font-weight: bold\">Model: \"sequential_16\"</span>\n",
              "</pre>\n"
            ]
          },
          "metadata": {}
        },
        {
          "output_type": "display_data",
          "data": {
            "text/plain": [
              "┏━━━━━━━━━━━━━━━━━━━━━━━━━━━━━━━━━━━━━━┳━━━━━━━━━━━━━━━━━━━━━━━━━━━━━┳━━━━━━━━━━━━━━━━━┓\n",
              "┃\u001b[1m \u001b[0m\u001b[1mLayer (type)                        \u001b[0m\u001b[1m \u001b[0m┃\u001b[1m \u001b[0m\u001b[1mOutput Shape               \u001b[0m\u001b[1m \u001b[0m┃\u001b[1m \u001b[0m\u001b[1m        Param #\u001b[0m\u001b[1m \u001b[0m┃\n",
              "┡━━━━━━━━━━━━━━━━━━━━━━━━━━━━━━━━━━━━━━╇━━━━━━━━━━━━━━━━━━━━━━━━━━━━━╇━━━━━━━━━━━━━━━━━┩\n",
              "│ dense_60 (\u001b[38;5;33mDense\u001b[0m)                     │ (\u001b[38;5;45mNone\u001b[0m, \u001b[38;5;34m1024\u001b[0m)                │          \u001b[38;5;34m70,656\u001b[0m │\n",
              "├──────────────────────────────────────┼─────────────────────────────┼─────────────────┤\n",
              "│ dense_61 (\u001b[38;5;33mDense\u001b[0m)                     │ (\u001b[38;5;45mNone\u001b[0m, \u001b[38;5;34m1024\u001b[0m)                │       \u001b[38;5;34m1,049,600\u001b[0m │\n",
              "├──────────────────────────────────────┼─────────────────────────────┼─────────────────┤\n",
              "│ dense_62 (\u001b[38;5;33mDense\u001b[0m)                     │ (\u001b[38;5;45mNone\u001b[0m, \u001b[38;5;34m1024\u001b[0m)                │       \u001b[38;5;34m1,049,600\u001b[0m │\n",
              "├──────────────────────────────────────┼─────────────────────────────┼─────────────────┤\n",
              "│ dense_63 (\u001b[38;5;33mDense\u001b[0m)                     │ (\u001b[38;5;45mNone\u001b[0m, \u001b[38;5;34m1024\u001b[0m)                │       \u001b[38;5;34m1,049,600\u001b[0m │\n",
              "├──────────────────────────────────────┼─────────────────────────────┼─────────────────┤\n",
              "│ dense_64 (\u001b[38;5;33mDense\u001b[0m)                     │ (\u001b[38;5;45mNone\u001b[0m, \u001b[38;5;34m1\u001b[0m)                   │           \u001b[38;5;34m1,025\u001b[0m │\n",
              "└──────────────────────────────────────┴─────────────────────────────┴─────────────────┘\n"
            ],
            "text/html": [
              "<pre style=\"white-space:pre;overflow-x:auto;line-height:normal;font-family:Menlo,'DejaVu Sans Mono',consolas,'Courier New',monospace\">┏━━━━━━━━━━━━━━━━━━━━━━━━━━━━━━━━━━━━━━┳━━━━━━━━━━━━━━━━━━━━━━━━━━━━━┳━━━━━━━━━━━━━━━━━┓\n",
              "┃<span style=\"font-weight: bold\"> Layer (type)                         </span>┃<span style=\"font-weight: bold\"> Output Shape                </span>┃<span style=\"font-weight: bold\">         Param # </span>┃\n",
              "┡━━━━━━━━━━━━━━━━━━━━━━━━━━━━━━━━━━━━━━╇━━━━━━━━━━━━━━━━━━━━━━━━━━━━━╇━━━━━━━━━━━━━━━━━┩\n",
              "│ dense_60 (<span style=\"color: #0087ff; text-decoration-color: #0087ff\">Dense</span>)                     │ (<span style=\"color: #00d7ff; text-decoration-color: #00d7ff\">None</span>, <span style=\"color: #00af00; text-decoration-color: #00af00\">1024</span>)                │          <span style=\"color: #00af00; text-decoration-color: #00af00\">70,656</span> │\n",
              "├──────────────────────────────────────┼─────────────────────────────┼─────────────────┤\n",
              "│ dense_61 (<span style=\"color: #0087ff; text-decoration-color: #0087ff\">Dense</span>)                     │ (<span style=\"color: #00d7ff; text-decoration-color: #00d7ff\">None</span>, <span style=\"color: #00af00; text-decoration-color: #00af00\">1024</span>)                │       <span style=\"color: #00af00; text-decoration-color: #00af00\">1,049,600</span> │\n",
              "├──────────────────────────────────────┼─────────────────────────────┼─────────────────┤\n",
              "│ dense_62 (<span style=\"color: #0087ff; text-decoration-color: #0087ff\">Dense</span>)                     │ (<span style=\"color: #00d7ff; text-decoration-color: #00d7ff\">None</span>, <span style=\"color: #00af00; text-decoration-color: #00af00\">1024</span>)                │       <span style=\"color: #00af00; text-decoration-color: #00af00\">1,049,600</span> │\n",
              "├──────────────────────────────────────┼─────────────────────────────┼─────────────────┤\n",
              "│ dense_63 (<span style=\"color: #0087ff; text-decoration-color: #0087ff\">Dense</span>)                     │ (<span style=\"color: #00d7ff; text-decoration-color: #00d7ff\">None</span>, <span style=\"color: #00af00; text-decoration-color: #00af00\">1024</span>)                │       <span style=\"color: #00af00; text-decoration-color: #00af00\">1,049,600</span> │\n",
              "├──────────────────────────────────────┼─────────────────────────────┼─────────────────┤\n",
              "│ dense_64 (<span style=\"color: #0087ff; text-decoration-color: #0087ff\">Dense</span>)                     │ (<span style=\"color: #00d7ff; text-decoration-color: #00d7ff\">None</span>, <span style=\"color: #00af00; text-decoration-color: #00af00\">1</span>)                   │           <span style=\"color: #00af00; text-decoration-color: #00af00\">1,025</span> │\n",
              "└──────────────────────────────────────┴─────────────────────────────┴─────────────────┘\n",
              "</pre>\n"
            ]
          },
          "metadata": {}
        },
        {
          "output_type": "display_data",
          "data": {
            "text/plain": [
              "\u001b[1m Total params: \u001b[0m\u001b[38;5;34m3,220,481\u001b[0m (12.29 MB)\n"
            ],
            "text/html": [
              "<pre style=\"white-space:pre;overflow-x:auto;line-height:normal;font-family:Menlo,'DejaVu Sans Mono',consolas,'Courier New',monospace\"><span style=\"font-weight: bold\"> Total params: </span><span style=\"color: #00af00; text-decoration-color: #00af00\">3,220,481</span> (12.29 MB)\n",
              "</pre>\n"
            ]
          },
          "metadata": {}
        },
        {
          "output_type": "display_data",
          "data": {
            "text/plain": [
              "\u001b[1m Trainable params: \u001b[0m\u001b[38;5;34m3,220,481\u001b[0m (12.29 MB)\n"
            ],
            "text/html": [
              "<pre style=\"white-space:pre;overflow-x:auto;line-height:normal;font-family:Menlo,'DejaVu Sans Mono',consolas,'Courier New',monospace\"><span style=\"font-weight: bold\"> Trainable params: </span><span style=\"color: #00af00; text-decoration-color: #00af00\">3,220,481</span> (12.29 MB)\n",
              "</pre>\n"
            ]
          },
          "metadata": {}
        },
        {
          "output_type": "display_data",
          "data": {
            "text/plain": [
              "\u001b[1m Non-trainable params: \u001b[0m\u001b[38;5;34m0\u001b[0m (0.00 B)\n"
            ],
            "text/html": [
              "<pre style=\"white-space:pre;overflow-x:auto;line-height:normal;font-family:Menlo,'DejaVu Sans Mono',consolas,'Courier New',monospace\"><span style=\"font-weight: bold\"> Non-trainable params: </span><span style=\"color: #00af00; text-decoration-color: #00af00\">0</span> (0.00 B)\n",
              "</pre>\n"
            ]
          },
          "metadata": {}
        },
        {
          "output_type": "stream",
          "name": "stdout",
          "text": [
            "Epoch 1/60\n",
            "50/50 - 4s - 74ms/step - loss: 523850.5938 - mae: 220.6139 - val_loss: 1092.1416 - val_mae: 30.7507\n",
            "Epoch 2/60\n",
            "50/50 - 2s - 50ms/step - loss: 279.9511 - mae: 11.2171 - val_loss: 11.8754 - val_mae: 2.8070\n",
            "Epoch 3/60\n",
            "50/50 - 3s - 60ms/step - loss: 53.2787 - mae: 5.3343 - val_loss: 11.4945 - val_mae: 2.7193\n",
            "Epoch 4/60\n",
            "50/50 - 2s - 37ms/step - loss: 34.8029 - mae: 3.4962 - val_loss: 55.0220 - val_mae: 6.5129\n",
            "Epoch 5/60\n",
            "50/50 - 2s - 37ms/step - loss: 19.5813 - mae: 3.4511 - val_loss: 2.6524 - val_mae: 1.1839\n",
            "Epoch 6/60\n",
            "50/50 - 2s - 35ms/step - loss: 17.3383 - mae: 3.0173 - val_loss: 1.6223 - val_mae: 0.9859\n",
            "Epoch 7/60\n",
            "50/50 - 2s - 35ms/step - loss: 2.8510 - mae: 1.1987 - val_loss: 1.2477 - val_mae: 0.8269\n",
            "Epoch 8/60\n",
            "50/50 - 3s - 56ms/step - loss: 1.9500 - mae: 1.0930 - val_loss: 4.3668 - val_mae: 1.6419\n",
            "Epoch 9/60\n",
            "50/50 - 2s - 49ms/step - loss: 2.8130 - mae: 1.2427 - val_loss: 5.3977 - val_mae: 2.0596\n",
            "Epoch 10/60\n",
            "50/50 - 2s - 37ms/step - loss: 11.4506 - mae: 2.7202 - val_loss: 3.9920 - val_mae: 1.5722\n",
            "Epoch 11/60\n",
            "50/50 - 2s - 35ms/step - loss: 9.3686 - mae: 2.3818 - val_loss: 13.8026 - val_mae: 3.3308\n",
            "Epoch 12/60\n",
            "50/50 - 3s - 51ms/step - loss: 6.9666 - mae: 1.9612 - val_loss: 1.0247 - val_mae: 0.7713\n",
            "Epoch 13/60\n",
            "50/50 - 2s - 36ms/step - loss: 1.9698 - mae: 1.0766 - val_loss: 1.2982 - val_mae: 0.9234\n",
            "Epoch 14/60\n",
            "50/50 - 3s - 59ms/step - loss: 2.0671 - mae: 1.0960 - val_loss: 2.4361 - val_mae: 1.1890\n",
            "Epoch 15/60\n",
            "50/50 - 2s - 48ms/step - loss: 5.7113 - mae: 1.5958 - val_loss: 1.5201 - val_mae: 0.9018\n",
            "Epoch 16/60\n",
            "50/50 - 2s - 40ms/step - loss: 14.0077 - mae: 2.9065 - val_loss: 7.5056 - val_mae: 2.3940\n",
            "Epoch 17/60\n",
            "50/50 - 2s - 39ms/step - loss: 249.3902 - mae: 10.7565 - val_loss: 7.3953 - val_mae: 2.2605\n",
            "Epoch 18/60\n",
            "50/50 - 2s - 38ms/step - loss: 40.9248 - mae: 4.6626 - val_loss: 10.4338 - val_mae: 2.9342\n",
            "Epoch 19/60\n",
            "50/50 - 3s - 50ms/step - loss: 14.2637 - mae: 2.7396 - val_loss: 3.2412 - val_mae: 1.4946\n"
          ]
        },
        {
          "output_type": "display_data",
          "data": {
            "text/plain": [
              "\u001b[1mModel: \"sequential_17\"\u001b[0m\n"
            ],
            "text/html": [
              "<pre style=\"white-space:pre;overflow-x:auto;line-height:normal;font-family:Menlo,'DejaVu Sans Mono',consolas,'Courier New',monospace\"><span style=\"font-weight: bold\">Model: \"sequential_17\"</span>\n",
              "</pre>\n"
            ]
          },
          "metadata": {}
        },
        {
          "output_type": "display_data",
          "data": {
            "text/plain": [
              "┏━━━━━━━━━━━━━━━━━━━━━━━━━━━━━━━━━━━━━━┳━━━━━━━━━━━━━━━━━━━━━━━━━━━━━┳━━━━━━━━━━━━━━━━━┓\n",
              "┃\u001b[1m \u001b[0m\u001b[1mLayer (type)                        \u001b[0m\u001b[1m \u001b[0m┃\u001b[1m \u001b[0m\u001b[1mOutput Shape               \u001b[0m\u001b[1m \u001b[0m┃\u001b[1m \u001b[0m\u001b[1m        Param #\u001b[0m\u001b[1m \u001b[0m┃\n",
              "┡━━━━━━━━━━━━━━━━━━━━━━━━━━━━━━━━━━━━━━╇━━━━━━━━━━━━━━━━━━━━━━━━━━━━━╇━━━━━━━━━━━━━━━━━┩\n",
              "│ dense_65 (\u001b[38;5;33mDense\u001b[0m)                     │ (\u001b[38;5;45mNone\u001b[0m, \u001b[38;5;34m1024\u001b[0m)                │          \u001b[38;5;34m70,656\u001b[0m │\n",
              "├──────────────────────────────────────┼─────────────────────────────┼─────────────────┤\n",
              "│ dense_66 (\u001b[38;5;33mDense\u001b[0m)                     │ (\u001b[38;5;45mNone\u001b[0m, \u001b[38;5;34m1024\u001b[0m)                │       \u001b[38;5;34m1,049,600\u001b[0m │\n",
              "├──────────────────────────────────────┼─────────────────────────────┼─────────────────┤\n",
              "│ dense_67 (\u001b[38;5;33mDense\u001b[0m)                     │ (\u001b[38;5;45mNone\u001b[0m, \u001b[38;5;34m1024\u001b[0m)                │       \u001b[38;5;34m1,049,600\u001b[0m │\n",
              "├──────────────────────────────────────┼─────────────────────────────┼─────────────────┤\n",
              "│ dense_68 (\u001b[38;5;33mDense\u001b[0m)                     │ (\u001b[38;5;45mNone\u001b[0m, \u001b[38;5;34m1024\u001b[0m)                │       \u001b[38;5;34m1,049,600\u001b[0m │\n",
              "├──────────────────────────────────────┼─────────────────────────────┼─────────────────┤\n",
              "│ dense_69 (\u001b[38;5;33mDense\u001b[0m)                     │ (\u001b[38;5;45mNone\u001b[0m, \u001b[38;5;34m1\u001b[0m)                   │           \u001b[38;5;34m1,025\u001b[0m │\n",
              "└──────────────────────────────────────┴─────────────────────────────┴─────────────────┘\n"
            ],
            "text/html": [
              "<pre style=\"white-space:pre;overflow-x:auto;line-height:normal;font-family:Menlo,'DejaVu Sans Mono',consolas,'Courier New',monospace\">┏━━━━━━━━━━━━━━━━━━━━━━━━━━━━━━━━━━━━━━┳━━━━━━━━━━━━━━━━━━━━━━━━━━━━━┳━━━━━━━━━━━━━━━━━┓\n",
              "┃<span style=\"font-weight: bold\"> Layer (type)                         </span>┃<span style=\"font-weight: bold\"> Output Shape                </span>┃<span style=\"font-weight: bold\">         Param # </span>┃\n",
              "┡━━━━━━━━━━━━━━━━━━━━━━━━━━━━━━━━━━━━━━╇━━━━━━━━━━━━━━━━━━━━━━━━━━━━━╇━━━━━━━━━━━━━━━━━┩\n",
              "│ dense_65 (<span style=\"color: #0087ff; text-decoration-color: #0087ff\">Dense</span>)                     │ (<span style=\"color: #00d7ff; text-decoration-color: #00d7ff\">None</span>, <span style=\"color: #00af00; text-decoration-color: #00af00\">1024</span>)                │          <span style=\"color: #00af00; text-decoration-color: #00af00\">70,656</span> │\n",
              "├──────────────────────────────────────┼─────────────────────────────┼─────────────────┤\n",
              "│ dense_66 (<span style=\"color: #0087ff; text-decoration-color: #0087ff\">Dense</span>)                     │ (<span style=\"color: #00d7ff; text-decoration-color: #00d7ff\">None</span>, <span style=\"color: #00af00; text-decoration-color: #00af00\">1024</span>)                │       <span style=\"color: #00af00; text-decoration-color: #00af00\">1,049,600</span> │\n",
              "├──────────────────────────────────────┼─────────────────────────────┼─────────────────┤\n",
              "│ dense_67 (<span style=\"color: #0087ff; text-decoration-color: #0087ff\">Dense</span>)                     │ (<span style=\"color: #00d7ff; text-decoration-color: #00d7ff\">None</span>, <span style=\"color: #00af00; text-decoration-color: #00af00\">1024</span>)                │       <span style=\"color: #00af00; text-decoration-color: #00af00\">1,049,600</span> │\n",
              "├──────────────────────────────────────┼─────────────────────────────┼─────────────────┤\n",
              "│ dense_68 (<span style=\"color: #0087ff; text-decoration-color: #0087ff\">Dense</span>)                     │ (<span style=\"color: #00d7ff; text-decoration-color: #00d7ff\">None</span>, <span style=\"color: #00af00; text-decoration-color: #00af00\">1024</span>)                │       <span style=\"color: #00af00; text-decoration-color: #00af00\">1,049,600</span> │\n",
              "├──────────────────────────────────────┼─────────────────────────────┼─────────────────┤\n",
              "│ dense_69 (<span style=\"color: #0087ff; text-decoration-color: #0087ff\">Dense</span>)                     │ (<span style=\"color: #00d7ff; text-decoration-color: #00d7ff\">None</span>, <span style=\"color: #00af00; text-decoration-color: #00af00\">1</span>)                   │           <span style=\"color: #00af00; text-decoration-color: #00af00\">1,025</span> │\n",
              "└──────────────────────────────────────┴─────────────────────────────┴─────────────────┘\n",
              "</pre>\n"
            ]
          },
          "metadata": {}
        },
        {
          "output_type": "display_data",
          "data": {
            "text/plain": [
              "\u001b[1m Total params: \u001b[0m\u001b[38;5;34m3,220,481\u001b[0m (12.29 MB)\n"
            ],
            "text/html": [
              "<pre style=\"white-space:pre;overflow-x:auto;line-height:normal;font-family:Menlo,'DejaVu Sans Mono',consolas,'Courier New',monospace\"><span style=\"font-weight: bold\"> Total params: </span><span style=\"color: #00af00; text-decoration-color: #00af00\">3,220,481</span> (12.29 MB)\n",
              "</pre>\n"
            ]
          },
          "metadata": {}
        },
        {
          "output_type": "display_data",
          "data": {
            "text/plain": [
              "\u001b[1m Trainable params: \u001b[0m\u001b[38;5;34m3,220,481\u001b[0m (12.29 MB)\n"
            ],
            "text/html": [
              "<pre style=\"white-space:pre;overflow-x:auto;line-height:normal;font-family:Menlo,'DejaVu Sans Mono',consolas,'Courier New',monospace\"><span style=\"font-weight: bold\"> Trainable params: </span><span style=\"color: #00af00; text-decoration-color: #00af00\">3,220,481</span> (12.29 MB)\n",
              "</pre>\n"
            ]
          },
          "metadata": {}
        },
        {
          "output_type": "display_data",
          "data": {
            "text/plain": [
              "\u001b[1m Non-trainable params: \u001b[0m\u001b[38;5;34m0\u001b[0m (0.00 B)\n"
            ],
            "text/html": [
              "<pre style=\"white-space:pre;overflow-x:auto;line-height:normal;font-family:Menlo,'DejaVu Sans Mono',consolas,'Courier New',monospace\"><span style=\"font-weight: bold\"> Non-trainable params: </span><span style=\"color: #00af00; text-decoration-color: #00af00\">0</span> (0.00 B)\n",
              "</pre>\n"
            ]
          },
          "metadata": {}
        },
        {
          "output_type": "stream",
          "name": "stdout",
          "text": [
            "Epoch 1/60\n",
            "50/50 - 5s - 97ms/step - loss: 370760.8750 - mae: 171.7139 - val_loss: 2240.8079 - val_mae: 35.8943\n",
            "Epoch 2/60\n",
            "50/50 - 2s - 45ms/step - loss: 3606.7815 - mae: 40.6183 - val_loss: 1255.7491 - val_mae: 29.0095\n",
            "Epoch 3/60\n",
            "50/50 - 2s - 35ms/step - loss: 1099.7345 - mae: 21.2029 - val_loss: 108.7123 - val_mae: 7.8161\n",
            "Epoch 4/60\n",
            "50/50 - 3s - 53ms/step - loss: 26.9616 - mae: 3.4822 - val_loss: 2.9764 - val_mae: 1.1599\n",
            "Epoch 5/60\n",
            "50/50 - 3s - 51ms/step - loss: 3.3943 - mae: 1.2956 - val_loss: 4.1071 - val_mae: 0.8574\n",
            "Epoch 6/60\n",
            "50/50 - 4s - 88ms/step - loss: 2.9660 - mae: 1.2687 - val_loss: 11.7212 - val_mae: 2.7886\n",
            "Epoch 7/60\n",
            "50/50 - 3s - 52ms/step - loss: 2.6557 - mae: 1.2029 - val_loss: 0.9913 - val_mae: 0.5861\n",
            "Epoch 8/60\n",
            "50/50 - 3s - 51ms/step - loss: 1.1223 - mae: 0.7845 - val_loss: 1.4995 - val_mae: 0.6739\n",
            "Epoch 9/60\n",
            "50/50 - 3s - 67ms/step - loss: 0.6823 - mae: 0.6231 - val_loss: 1.5411 - val_mae: 0.7526\n",
            "Epoch 10/60\n",
            "50/50 - 2s - 37ms/step - loss: 0.9442 - mae: 0.7556 - val_loss: 1.7893 - val_mae: 0.6618\n",
            "Epoch 11/60\n",
            "50/50 - 3s - 52ms/step - loss: 8.9841 - mae: 2.1223 - val_loss: 13.2801 - val_mae: 3.2673\n",
            "Epoch 12/60\n",
            "50/50 - 3s - 52ms/step - loss: 10.3359 - mae: 2.4073 - val_loss: 16.1526 - val_mae: 3.4133\n",
            "Epoch 13/60\n",
            "50/50 - 2s - 50ms/step - loss: 2.4671 - mae: 1.0545 - val_loss: 2.6686 - val_mae: 1.2208\n",
            "Epoch 14/60\n",
            "50/50 - 2s - 49ms/step - loss: 0.7302 - mae: 0.6658 - val_loss: 0.5169 - val_mae: 0.4771\n",
            "Epoch 15/60\n",
            "50/50 - 2s - 43ms/step - loss: 60.8868 - mae: 5.4857 - val_loss: 51.5887 - val_mae: 6.3867\n",
            "Epoch 16/60\n",
            "50/50 - 2s - 39ms/step - loss: 30.1353 - mae: 4.1132 - val_loss: 25.3621 - val_mae: 4.1571\n",
            "Epoch 17/60\n",
            "50/50 - 2s - 49ms/step - loss: 6.1381 - mae: 1.7243 - val_loss: 1.0693 - val_mae: 0.7317\n",
            "Epoch 18/60\n",
            "50/50 - 2s - 38ms/step - loss: 11.2416 - mae: 2.4103 - val_loss: 29.0196 - val_mae: 4.5676\n",
            "Epoch 19/60\n",
            "50/50 - 2s - 37ms/step - loss: 20.1893 - mae: 3.5424 - val_loss: 4.4012 - val_mae: 1.0939\n",
            "Epoch 20/60\n",
            "50/50 - 3s - 66ms/step - loss: 89.2553 - mae: 6.6337 - val_loss: 14.2027 - val_mae: 3.1158\n",
            "Epoch 21/60\n",
            "50/50 - 2s - 36ms/step - loss: 8.4724 - mae: 2.0838 - val_loss: 1.0325 - val_mae: 0.6617\n"
          ]
        },
        {
          "output_type": "display_data",
          "data": {
            "text/plain": [
              "\u001b[1mModel: \"sequential_18\"\u001b[0m\n"
            ],
            "text/html": [
              "<pre style=\"white-space:pre;overflow-x:auto;line-height:normal;font-family:Menlo,'DejaVu Sans Mono',consolas,'Courier New',monospace\"><span style=\"font-weight: bold\">Model: \"sequential_18\"</span>\n",
              "</pre>\n"
            ]
          },
          "metadata": {}
        },
        {
          "output_type": "display_data",
          "data": {
            "text/plain": [
              "┏━━━━━━━━━━━━━━━━━━━━━━━━━━━━━━━━━━━━━━┳━━━━━━━━━━━━━━━━━━━━━━━━━━━━━┳━━━━━━━━━━━━━━━━━┓\n",
              "┃\u001b[1m \u001b[0m\u001b[1mLayer (type)                        \u001b[0m\u001b[1m \u001b[0m┃\u001b[1m \u001b[0m\u001b[1mOutput Shape               \u001b[0m\u001b[1m \u001b[0m┃\u001b[1m \u001b[0m\u001b[1m        Param #\u001b[0m\u001b[1m \u001b[0m┃\n",
              "┡━━━━━━━━━━━━━━━━━━━━━━━━━━━━━━━━━━━━━━╇━━━━━━━━━━━━━━━━━━━━━━━━━━━━━╇━━━━━━━━━━━━━━━━━┩\n",
              "│ dense_70 (\u001b[38;5;33mDense\u001b[0m)                     │ (\u001b[38;5;45mNone\u001b[0m, \u001b[38;5;34m1024\u001b[0m)                │          \u001b[38;5;34m70,656\u001b[0m │\n",
              "├──────────────────────────────────────┼─────────────────────────────┼─────────────────┤\n",
              "│ dense_71 (\u001b[38;5;33mDense\u001b[0m)                     │ (\u001b[38;5;45mNone\u001b[0m, \u001b[38;5;34m1024\u001b[0m)                │       \u001b[38;5;34m1,049,600\u001b[0m │\n",
              "├──────────────────────────────────────┼─────────────────────────────┼─────────────────┤\n",
              "│ dense_72 (\u001b[38;5;33mDense\u001b[0m)                     │ (\u001b[38;5;45mNone\u001b[0m, \u001b[38;5;34m1024\u001b[0m)                │       \u001b[38;5;34m1,049,600\u001b[0m │\n",
              "├──────────────────────────────────────┼─────────────────────────────┼─────────────────┤\n",
              "│ dense_73 (\u001b[38;5;33mDense\u001b[0m)                     │ (\u001b[38;5;45mNone\u001b[0m, \u001b[38;5;34m1024\u001b[0m)                │       \u001b[38;5;34m1,049,600\u001b[0m │\n",
              "├──────────────────────────────────────┼─────────────────────────────┼─────────────────┤\n",
              "│ dense_74 (\u001b[38;5;33mDense\u001b[0m)                     │ (\u001b[38;5;45mNone\u001b[0m, \u001b[38;5;34m1\u001b[0m)                   │           \u001b[38;5;34m1,025\u001b[0m │\n",
              "└──────────────────────────────────────┴─────────────────────────────┴─────────────────┘\n"
            ],
            "text/html": [
              "<pre style=\"white-space:pre;overflow-x:auto;line-height:normal;font-family:Menlo,'DejaVu Sans Mono',consolas,'Courier New',monospace\">┏━━━━━━━━━━━━━━━━━━━━━━━━━━━━━━━━━━━━━━┳━━━━━━━━━━━━━━━━━━━━━━━━━━━━━┳━━━━━━━━━━━━━━━━━┓\n",
              "┃<span style=\"font-weight: bold\"> Layer (type)                         </span>┃<span style=\"font-weight: bold\"> Output Shape                </span>┃<span style=\"font-weight: bold\">         Param # </span>┃\n",
              "┡━━━━━━━━━━━━━━━━━━━━━━━━━━━━━━━━━━━━━━╇━━━━━━━━━━━━━━━━━━━━━━━━━━━━━╇━━━━━━━━━━━━━━━━━┩\n",
              "│ dense_70 (<span style=\"color: #0087ff; text-decoration-color: #0087ff\">Dense</span>)                     │ (<span style=\"color: #00d7ff; text-decoration-color: #00d7ff\">None</span>, <span style=\"color: #00af00; text-decoration-color: #00af00\">1024</span>)                │          <span style=\"color: #00af00; text-decoration-color: #00af00\">70,656</span> │\n",
              "├──────────────────────────────────────┼─────────────────────────────┼─────────────────┤\n",
              "│ dense_71 (<span style=\"color: #0087ff; text-decoration-color: #0087ff\">Dense</span>)                     │ (<span style=\"color: #00d7ff; text-decoration-color: #00d7ff\">None</span>, <span style=\"color: #00af00; text-decoration-color: #00af00\">1024</span>)                │       <span style=\"color: #00af00; text-decoration-color: #00af00\">1,049,600</span> │\n",
              "├──────────────────────────────────────┼─────────────────────────────┼─────────────────┤\n",
              "│ dense_72 (<span style=\"color: #0087ff; text-decoration-color: #0087ff\">Dense</span>)                     │ (<span style=\"color: #00d7ff; text-decoration-color: #00d7ff\">None</span>, <span style=\"color: #00af00; text-decoration-color: #00af00\">1024</span>)                │       <span style=\"color: #00af00; text-decoration-color: #00af00\">1,049,600</span> │\n",
              "├──────────────────────────────────────┼─────────────────────────────┼─────────────────┤\n",
              "│ dense_73 (<span style=\"color: #0087ff; text-decoration-color: #0087ff\">Dense</span>)                     │ (<span style=\"color: #00d7ff; text-decoration-color: #00d7ff\">None</span>, <span style=\"color: #00af00; text-decoration-color: #00af00\">1024</span>)                │       <span style=\"color: #00af00; text-decoration-color: #00af00\">1,049,600</span> │\n",
              "├──────────────────────────────────────┼─────────────────────────────┼─────────────────┤\n",
              "│ dense_74 (<span style=\"color: #0087ff; text-decoration-color: #0087ff\">Dense</span>)                     │ (<span style=\"color: #00d7ff; text-decoration-color: #00d7ff\">None</span>, <span style=\"color: #00af00; text-decoration-color: #00af00\">1</span>)                   │           <span style=\"color: #00af00; text-decoration-color: #00af00\">1,025</span> │\n",
              "└──────────────────────────────────────┴─────────────────────────────┴─────────────────┘\n",
              "</pre>\n"
            ]
          },
          "metadata": {}
        },
        {
          "output_type": "display_data",
          "data": {
            "text/plain": [
              "\u001b[1m Total params: \u001b[0m\u001b[38;5;34m3,220,481\u001b[0m (12.29 MB)\n"
            ],
            "text/html": [
              "<pre style=\"white-space:pre;overflow-x:auto;line-height:normal;font-family:Menlo,'DejaVu Sans Mono',consolas,'Courier New',monospace\"><span style=\"font-weight: bold\"> Total params: </span><span style=\"color: #00af00; text-decoration-color: #00af00\">3,220,481</span> (12.29 MB)\n",
              "</pre>\n"
            ]
          },
          "metadata": {}
        },
        {
          "output_type": "display_data",
          "data": {
            "text/plain": [
              "\u001b[1m Trainable params: \u001b[0m\u001b[38;5;34m3,220,481\u001b[0m (12.29 MB)\n"
            ],
            "text/html": [
              "<pre style=\"white-space:pre;overflow-x:auto;line-height:normal;font-family:Menlo,'DejaVu Sans Mono',consolas,'Courier New',monospace\"><span style=\"font-weight: bold\"> Trainable params: </span><span style=\"color: #00af00; text-decoration-color: #00af00\">3,220,481</span> (12.29 MB)\n",
              "</pre>\n"
            ]
          },
          "metadata": {}
        },
        {
          "output_type": "display_data",
          "data": {
            "text/plain": [
              "\u001b[1m Non-trainable params: \u001b[0m\u001b[38;5;34m0\u001b[0m (0.00 B)\n"
            ],
            "text/html": [
              "<pre style=\"white-space:pre;overflow-x:auto;line-height:normal;font-family:Menlo,'DejaVu Sans Mono',consolas,'Courier New',monospace\"><span style=\"font-weight: bold\"> Non-trainable params: </span><span style=\"color: #00af00; text-decoration-color: #00af00\">0</span> (0.00 B)\n",
              "</pre>\n"
            ]
          },
          "metadata": {}
        },
        {
          "output_type": "stream",
          "name": "stdout",
          "text": [
            "Epoch 1/60\n",
            "50/50 - 4s - 74ms/step - loss: 853166.5625 - mae: 295.8353 - val_loss: 443.4574 - val_mae: 11.0626\n",
            "Epoch 2/60\n",
            "50/50 - 2s - 37ms/step - loss: 139.7074 - mae: 7.1060 - val_loss: 801.5272 - val_mae: 12.6455\n",
            "Epoch 3/60\n",
            "50/50 - 3s - 65ms/step - loss: 143.8611 - mae: 5.6680 - val_loss: 57.1709 - val_mae: 6.3091\n",
            "Epoch 4/60\n",
            "50/50 - 2s - 42ms/step - loss: 14.5483 - mae: 2.7655 - val_loss: 3.6130 - val_mae: 1.5658\n",
            "Epoch 5/60\n",
            "50/50 - 2s - 45ms/step - loss: 2.7219 - mae: 1.2642 - val_loss: 4.0413 - val_mae: 1.6133\n",
            "Epoch 6/60\n",
            "50/50 - 3s - 52ms/step - loss: 1.6549 - mae: 1.0083 - val_loss: 1.2825 - val_mae: 0.8579\n",
            "Epoch 7/60\n",
            "50/50 - 2s - 50ms/step - loss: 1.8604 - mae: 1.0757 - val_loss: 3.2057 - val_mae: 1.4519\n",
            "Epoch 8/60\n",
            "50/50 - 2s - 42ms/step - loss: 1.2759 - mae: 0.8515 - val_loss: 1.4224 - val_mae: 1.0055\n",
            "Epoch 9/60\n",
            "50/50 - 3s - 52ms/step - loss: 1.3317 - mae: 0.8865 - val_loss: 1.1643 - val_mae: 0.7825\n",
            "Epoch 10/60\n",
            "50/50 - 2s - 43ms/step - loss: 1.5704 - mae: 0.8958 - val_loss: 1.5128 - val_mae: 0.7595\n",
            "Epoch 11/60\n",
            "50/50 - 2s - 36ms/step - loss: 33.0096 - mae: 4.0188 - val_loss: 32.6497 - val_mae: 2.4126\n",
            "Epoch 12/60\n",
            "50/50 - 3s - 51ms/step - loss: 9.3985 - mae: 1.9442 - val_loss: 13.2641 - val_mae: 3.0789\n",
            "Epoch 13/60\n",
            "50/50 - 2s - 35ms/step - loss: 3.6224 - mae: 1.2947 - val_loss: 1.7989 - val_mae: 0.7400\n",
            "Epoch 14/60\n",
            "50/50 - 3s - 68ms/step - loss: 1.1049 - mae: 0.8293 - val_loss: 5.5783 - val_mae: 1.7431\n",
            "Epoch 15/60\n",
            "50/50 - 2s - 38ms/step - loss: 1.4628 - mae: 0.9087 - val_loss: 1.6822 - val_mae: 0.7024\n",
            "Epoch 16/60\n",
            "50/50 - 2s - 49ms/step - loss: 1.6480 - mae: 0.9802 - val_loss: 1.1361 - val_mae: 0.8783\n",
            "Epoch 17/60\n",
            "50/50 - 3s - 51ms/step - loss: 2.4835 - mae: 1.1841 - val_loss: 18.4893 - val_mae: 3.8959\n",
            "Epoch 18/60\n",
            "50/50 - 2s - 37ms/step - loss: 7.3226 - mae: 2.1308 - val_loss: 2.6010 - val_mae: 1.4675\n",
            "Epoch 19/60\n",
            "50/50 - 3s - 65ms/step - loss: 0.9576 - mae: 0.7429 - val_loss: 3.0304 - val_mae: 1.0305\n",
            "Epoch 20/60\n",
            "50/50 - 2s - 39ms/step - loss: 2.3666 - mae: 1.1279 - val_loss: 4.0695 - val_mae: 1.8606\n",
            "Epoch 21/60\n",
            "50/50 - 2s - 50ms/step - loss: 0.9143 - mae: 0.6933 - val_loss: 6.6035 - val_mae: 1.2048\n",
            "Epoch 22/60\n",
            "50/50 - 2s - 48ms/step - loss: 1.9372 - mae: 0.9005 - val_loss: 0.6440 - val_mae: 0.5302\n",
            "Epoch 23/60\n",
            "50/50 - 2s - 36ms/step - loss: 11.1146 - mae: 2.4737 - val_loss: 103.2076 - val_mae: 8.5523\n",
            "Epoch 24/60\n",
            "50/50 - 2s - 39ms/step - loss: 340.3138 - mae: 14.0291 - val_loss: 330.5009 - val_mae: 14.5323\n",
            "Epoch 25/60\n",
            "50/50 - 3s - 52ms/step - loss: 45.8745 - mae: 5.1638 - val_loss: 43.9557 - val_mae: 3.0287\n",
            "Epoch 26/60\n",
            "50/50 - 2s - 38ms/step - loss: 17.9675 - mae: 3.0885 - val_loss: 11.9731 - val_mae: 2.1054\n",
            "Epoch 27/60\n",
            "50/50 - 3s - 51ms/step - loss: 6.9298 - mae: 1.6921 - val_loss: 5.0895 - val_mae: 0.9883\n",
            "Epoch 28/60\n",
            "50/50 - 2s - 39ms/step - loss: 3.6555 - mae: 1.4501 - val_loss: 5.4872 - val_mae: 1.9276\n",
            "Epoch 29/60\n",
            "50/50 - 3s - 50ms/step - loss: 1.3110 - mae: 0.8731 - val_loss: 0.7697 - val_mae: 0.5322\n"
          ]
        },
        {
          "output_type": "display_data",
          "data": {
            "text/plain": [
              "\u001b[1mModel: \"sequential_19\"\u001b[0m\n"
            ],
            "text/html": [
              "<pre style=\"white-space:pre;overflow-x:auto;line-height:normal;font-family:Menlo,'DejaVu Sans Mono',consolas,'Courier New',monospace\"><span style=\"font-weight: bold\">Model: \"sequential_19\"</span>\n",
              "</pre>\n"
            ]
          },
          "metadata": {}
        },
        {
          "output_type": "display_data",
          "data": {
            "text/plain": [
              "┏━━━━━━━━━━━━━━━━━━━━━━━━━━━━━━━━━━━━━━┳━━━━━━━━━━━━━━━━━━━━━━━━━━━━━┳━━━━━━━━━━━━━━━━━┓\n",
              "┃\u001b[1m \u001b[0m\u001b[1mLayer (type)                        \u001b[0m\u001b[1m \u001b[0m┃\u001b[1m \u001b[0m\u001b[1mOutput Shape               \u001b[0m\u001b[1m \u001b[0m┃\u001b[1m \u001b[0m\u001b[1m        Param #\u001b[0m\u001b[1m \u001b[0m┃\n",
              "┡━━━━━━━━━━━━━━━━━━━━━━━━━━━━━━━━━━━━━━╇━━━━━━━━━━━━━━━━━━━━━━━━━━━━━╇━━━━━━━━━━━━━━━━━┩\n",
              "│ dense_75 (\u001b[38;5;33mDense\u001b[0m)                     │ (\u001b[38;5;45mNone\u001b[0m, \u001b[38;5;34m1024\u001b[0m)                │          \u001b[38;5;34m70,656\u001b[0m │\n",
              "├──────────────────────────────────────┼─────────────────────────────┼─────────────────┤\n",
              "│ dense_76 (\u001b[38;5;33mDense\u001b[0m)                     │ (\u001b[38;5;45mNone\u001b[0m, \u001b[38;5;34m1024\u001b[0m)                │       \u001b[38;5;34m1,049,600\u001b[0m │\n",
              "├──────────────────────────────────────┼─────────────────────────────┼─────────────────┤\n",
              "│ dense_77 (\u001b[38;5;33mDense\u001b[0m)                     │ (\u001b[38;5;45mNone\u001b[0m, \u001b[38;5;34m1024\u001b[0m)                │       \u001b[38;5;34m1,049,600\u001b[0m │\n",
              "├──────────────────────────────────────┼─────────────────────────────┼─────────────────┤\n",
              "│ dense_78 (\u001b[38;5;33mDense\u001b[0m)                     │ (\u001b[38;5;45mNone\u001b[0m, \u001b[38;5;34m1024\u001b[0m)                │       \u001b[38;5;34m1,049,600\u001b[0m │\n",
              "├──────────────────────────────────────┼─────────────────────────────┼─────────────────┤\n",
              "│ dense_79 (\u001b[38;5;33mDense\u001b[0m)                     │ (\u001b[38;5;45mNone\u001b[0m, \u001b[38;5;34m1\u001b[0m)                   │           \u001b[38;5;34m1,025\u001b[0m │\n",
              "└──────────────────────────────────────┴─────────────────────────────┴─────────────────┘\n"
            ],
            "text/html": [
              "<pre style=\"white-space:pre;overflow-x:auto;line-height:normal;font-family:Menlo,'DejaVu Sans Mono',consolas,'Courier New',monospace\">┏━━━━━━━━━━━━━━━━━━━━━━━━━━━━━━━━━━━━━━┳━━━━━━━━━━━━━━━━━━━━━━━━━━━━━┳━━━━━━━━━━━━━━━━━┓\n",
              "┃<span style=\"font-weight: bold\"> Layer (type)                         </span>┃<span style=\"font-weight: bold\"> Output Shape                </span>┃<span style=\"font-weight: bold\">         Param # </span>┃\n",
              "┡━━━━━━━━━━━━━━━━━━━━━━━━━━━━━━━━━━━━━━╇━━━━━━━━━━━━━━━━━━━━━━━━━━━━━╇━━━━━━━━━━━━━━━━━┩\n",
              "│ dense_75 (<span style=\"color: #0087ff; text-decoration-color: #0087ff\">Dense</span>)                     │ (<span style=\"color: #00d7ff; text-decoration-color: #00d7ff\">None</span>, <span style=\"color: #00af00; text-decoration-color: #00af00\">1024</span>)                │          <span style=\"color: #00af00; text-decoration-color: #00af00\">70,656</span> │\n",
              "├──────────────────────────────────────┼─────────────────────────────┼─────────────────┤\n",
              "│ dense_76 (<span style=\"color: #0087ff; text-decoration-color: #0087ff\">Dense</span>)                     │ (<span style=\"color: #00d7ff; text-decoration-color: #00d7ff\">None</span>, <span style=\"color: #00af00; text-decoration-color: #00af00\">1024</span>)                │       <span style=\"color: #00af00; text-decoration-color: #00af00\">1,049,600</span> │\n",
              "├──────────────────────────────────────┼─────────────────────────────┼─────────────────┤\n",
              "│ dense_77 (<span style=\"color: #0087ff; text-decoration-color: #0087ff\">Dense</span>)                     │ (<span style=\"color: #00d7ff; text-decoration-color: #00d7ff\">None</span>, <span style=\"color: #00af00; text-decoration-color: #00af00\">1024</span>)                │       <span style=\"color: #00af00; text-decoration-color: #00af00\">1,049,600</span> │\n",
              "├──────────────────────────────────────┼─────────────────────────────┼─────────────────┤\n",
              "│ dense_78 (<span style=\"color: #0087ff; text-decoration-color: #0087ff\">Dense</span>)                     │ (<span style=\"color: #00d7ff; text-decoration-color: #00d7ff\">None</span>, <span style=\"color: #00af00; text-decoration-color: #00af00\">1024</span>)                │       <span style=\"color: #00af00; text-decoration-color: #00af00\">1,049,600</span> │\n",
              "├──────────────────────────────────────┼─────────────────────────────┼─────────────────┤\n",
              "│ dense_79 (<span style=\"color: #0087ff; text-decoration-color: #0087ff\">Dense</span>)                     │ (<span style=\"color: #00d7ff; text-decoration-color: #00d7ff\">None</span>, <span style=\"color: #00af00; text-decoration-color: #00af00\">1</span>)                   │           <span style=\"color: #00af00; text-decoration-color: #00af00\">1,025</span> │\n",
              "└──────────────────────────────────────┴─────────────────────────────┴─────────────────┘\n",
              "</pre>\n"
            ]
          },
          "metadata": {}
        },
        {
          "output_type": "display_data",
          "data": {
            "text/plain": [
              "\u001b[1m Total params: \u001b[0m\u001b[38;5;34m3,220,481\u001b[0m (12.29 MB)\n"
            ],
            "text/html": [
              "<pre style=\"white-space:pre;overflow-x:auto;line-height:normal;font-family:Menlo,'DejaVu Sans Mono',consolas,'Courier New',monospace\"><span style=\"font-weight: bold\"> Total params: </span><span style=\"color: #00af00; text-decoration-color: #00af00\">3,220,481</span> (12.29 MB)\n",
              "</pre>\n"
            ]
          },
          "metadata": {}
        },
        {
          "output_type": "display_data",
          "data": {
            "text/plain": [
              "\u001b[1m Trainable params: \u001b[0m\u001b[38;5;34m3,220,481\u001b[0m (12.29 MB)\n"
            ],
            "text/html": [
              "<pre style=\"white-space:pre;overflow-x:auto;line-height:normal;font-family:Menlo,'DejaVu Sans Mono',consolas,'Courier New',monospace\"><span style=\"font-weight: bold\"> Trainable params: </span><span style=\"color: #00af00; text-decoration-color: #00af00\">3,220,481</span> (12.29 MB)\n",
              "</pre>\n"
            ]
          },
          "metadata": {}
        },
        {
          "output_type": "display_data",
          "data": {
            "text/plain": [
              "\u001b[1m Non-trainable params: \u001b[0m\u001b[38;5;34m0\u001b[0m (0.00 B)\n"
            ],
            "text/html": [
              "<pre style=\"white-space:pre;overflow-x:auto;line-height:normal;font-family:Menlo,'DejaVu Sans Mono',consolas,'Courier New',monospace\"><span style=\"font-weight: bold\"> Non-trainable params: </span><span style=\"color: #00af00; text-decoration-color: #00af00\">0</span> (0.00 B)\n",
              "</pre>\n"
            ]
          },
          "metadata": {}
        },
        {
          "output_type": "stream",
          "name": "stdout",
          "text": [
            "Epoch 1/60\n",
            "50/50 - 4s - 90ms/step - loss: 490030.6250 - mae: 185.9534 - val_loss: 245.1608 - val_mae: 13.7919\n",
            "Epoch 2/60\n",
            "50/50 - 2s - 37ms/step - loss: 1124.7390 - mae: 15.7979 - val_loss: 203.4148 - val_mae: 4.6060\n",
            "Epoch 3/60\n",
            "50/50 - 2s - 36ms/step - loss: 217.7064 - mae: 8.7093 - val_loss: 31.3970 - val_mae: 3.6657\n",
            "Epoch 4/60\n",
            "50/50 - 3s - 51ms/step - loss: 62.9788 - mae: 5.4605 - val_loss: 20.4592 - val_mae: 4.0156\n",
            "Epoch 5/60\n",
            "50/50 - 2s - 37ms/step - loss: 20.7804 - mae: 2.9682 - val_loss: 11.1674 - val_mae: 1.8146\n",
            "Epoch 6/60\n",
            "50/50 - 2s - 49ms/step - loss: 33.9103 - mae: 3.6079 - val_loss: 6.4875 - val_mae: 1.7805\n",
            "Epoch 7/60\n",
            "50/50 - 2s - 40ms/step - loss: 6.1087 - mae: 1.7777 - val_loss: 4.0848 - val_mae: 1.3167\n",
            "Epoch 8/60\n",
            "50/50 - 2s - 48ms/step - loss: 12.8776 - mae: 2.6781 - val_loss: 9.5524 - val_mae: 2.7496\n",
            "Epoch 9/60\n",
            "50/50 - 3s - 52ms/step - loss: 8.1827 - mae: 2.1041 - val_loss: 2.2713 - val_mae: 1.0601\n",
            "Epoch 10/60\n",
            "50/50 - 2s - 36ms/step - loss: 9.5846 - mae: 2.1326 - val_loss: 1.2424 - val_mae: 0.8031\n",
            "Epoch 11/60\n",
            "50/50 - 3s - 58ms/step - loss: 8.8604 - mae: 2.1161 - val_loss: 14.7072 - val_mae: 3.2671\n",
            "Epoch 12/60\n",
            "50/50 - 2s - 44ms/step - loss: 40.7299 - mae: 4.5632 - val_loss: 22.2835 - val_mae: 4.1149\n",
            "Epoch 13/60\n",
            "50/50 - 2s - 44ms/step - loss: 19.6532 - mae: 3.2040 - val_loss: 15.0010 - val_mae: 2.7186\n",
            "Epoch 14/60\n",
            "50/50 - 3s - 50ms/step - loss: 10.4829 - mae: 2.1266 - val_loss: 0.7483 - val_mae: 0.6217\n",
            "Epoch 15/60\n",
            "50/50 - 2s - 35ms/step - loss: 4.4316 - mae: 1.6261 - val_loss: 0.9191 - val_mae: 0.6308\n",
            "Epoch 16/60\n",
            "50/50 - 3s - 51ms/step - loss: 9.8880 - mae: 2.0582 - val_loss: 24.4780 - val_mae: 4.4449\n",
            "Epoch 17/60\n",
            "50/50 - 3s - 50ms/step - loss: 17.0608 - mae: 2.9708 - val_loss: 7.5699 - val_mae: 1.9595\n",
            "Epoch 18/60\n",
            "50/50 - 4s - 86ms/step - loss: 15.5617 - mae: 2.6148 - val_loss: 8.0103 - val_mae: 2.5100\n",
            "Epoch 19/60\n",
            "50/50 - 3s - 52ms/step - loss: 1.4677 - mae: 0.8222 - val_loss: 0.8839 - val_mae: 0.7658\n",
            "Epoch 20/60\n",
            "50/50 - 2s - 49ms/step - loss: 12.2820 - mae: 2.4440 - val_loss: 44.1898 - val_mae: 5.3496\n",
            "Epoch 21/60\n",
            "50/50 - 3s - 68ms/step - loss: 21.6454 - mae: 3.3012 - val_loss: 3.2516 - val_mae: 0.8686\n",
            "Mean training loss: 0.5918 -- Mean validation loss: 0.6298 -- Hyperparameters: (Width: 1024, Depth: 4)\n",
            "\n",
            "--------------------- Best Random Audio Classifier with Hyperparameters = (Best Width: 1024, Best Depth: 4) ---------------------\n",
            "\n",
            "Training Loss:  0.6298\n",
            "Test Loss: [0.41258305311203003, 0.48268648982048035]\n",
            "\u001b[1m4/4\u001b[0m \u001b[32m━━━━━━━━━━━━━━━━━━━━\u001b[0m\u001b[37m\u001b[0m \u001b[1m0s\u001b[0m 29ms/step\n",
            "Target: -0.988458368 -- Prediction: -0.7913974523544312\n",
            "Target: -0.976916735 -- Prediction: -0.5185054540634155\n",
            "Target: -0.963726298 -- Prediction: -0.4964545965194702\n",
            "Target: -0.942291838 -- Prediction: -0.024532681331038475\n",
            "Target: -0.930750206 -- Prediction: 0.25660765171051025\n",
            "Target: -0.91426216 -- Prediction: -2.2690439224243164\n",
            "Target: -0.894476505 -- Prediction: 0.05339586362242699\n",
            "Target: -0.877988458 -- Prediction: -0.5342468023300171\n",
            "Target: -0.863149217 -- Prediction: 0.6500335931777954\n",
            "Target: -0.851607585 -- Prediction: -1.3623508214950562\n",
            "Target: -0.835119538 -- Prediction: -0.02063310705125332\n",
            "Target: -0.825226711 -- Prediction: -0.18934476375579834\n",
            "Target: -0.80708986 -- Prediction: -0.5812190771102905\n",
            "Target: -0.793899423 -- Prediction: -0.31432044506073\n",
            "Target: -0.772464963 -- Prediction: -1.0999058485031128\n",
            "Target: -0.759274526 -- Prediction: -1.7357176542282104\n",
            "Target: -0.751030503 -- Prediction: -0.007928972132503986\n",
            "Target: -0.736191261 -- Prediction: 0.6126114130020142\n",
            "Target: -0.72135202 -- Prediction: -2.7448410987854004\n",
            "Target: -0.703215169 -- Prediction: 0.20254290103912354\n",
            "Target: -0.690024732 -- Prediction: 0.6004577875137329\n",
            "Target: -0.673536686 -- Prediction: -0.9597152471542358\n",
            "Target: -0.660346249 -- Prediction: -0.8811382055282593\n",
            "Target: -0.63561418 -- Prediction: -0.23460233211517334\n",
            "Target: -0.617477329 -- Prediction: -0.5460903644561768\n",
            "Target: -0.587798846 -- Prediction: -0.1477283239364624\n",
            "Target: -0.579554823 -- Prediction: 0.663983941078186\n",
            "Target: -0.563066777 -- Prediction: -1.440677523612976\n",
            "Target: -0.548227535 -- Prediction: -1.1572068929672241\n",
            "Target: -0.52844188 -- Prediction: -0.5941077470779419\n",
            "Target: -0.518549052 -- Prediction: -0.13397634029388428\n",
            "Target: -0.505358615 -- Prediction: -0.9702366590499878\n",
            "Target: -0.497114592 -- Prediction: -0.5746077299118042\n",
            "Target: -0.477328937 -- Prediction: -0.3800548315048218\n",
            "Target: -0.459192086 -- Prediction: -1.7292641401290894\n",
            "Target: -0.43940643 -- Prediction: -0.4723247289657593\n",
            "Target: -0.419620775 -- Prediction: 1.1000343561172485\n",
            "Target: -0.393239901 -- Prediction: -0.011443023569881916\n",
            "Target: -0.37510305 -- Prediction: 0.16372358798980713\n",
            "Target: -0.360263809 -- Prediction: -0.07779229432344437\n",
            "Target: -0.343775763 -- Prediction: -0.5334962606430054\n",
            "Target: -0.33223413 -- Prediction: -0.967056155204773\n",
            "Target: -0.317394889 -- Prediction: -0.786272406578064\n",
            "Target: -0.297609233 -- Prediction: 0.2667165994644165\n",
            "Target: -0.266281946 -- Prediction: -0.09586180001497269\n",
            "Target: -0.254740313 -- Prediction: 0.034837838262319565\n",
            "Target: -0.236603462 -- Prediction: 1.2143265008926392\n",
            "Target: -0.221764221 -- Prediction: -0.2745164632797241\n",
            "Target: -0.201978566 -- Prediction: -0.17669761180877686\n",
            "Target: -0.188788129 -- Prediction: -1.0161799192428589\n",
            "Target: -0.165704864 -- Prediction: -0.014788036234676838\n",
            "Target: -0.152514427 -- Prediction: -0.13977885246276855\n",
            "Target: -0.140972795 -- Prediction: 0.3270012140274048\n",
            "Target: -0.127782358 -- Prediction: -0.17781198024749756\n",
            "Target: -0.112943116 -- Prediction: 0.7555385828018188\n",
            "Target: -0.103050289 -- Prediction: 0.37588751316070557\n",
            "Target: -0.093157461 -- Prediction: -0.9634889364242554\n",
            "Target: -0.073371805 -- Prediction: -0.23371589183807373\n",
            "Target: -0.056883759 -- Prediction: 0.3308260440826416\n",
            "Target: -0.028854081 -- Prediction: 0.24401915073394775\n",
            "Target: -0.005770816 -- Prediction: 1.130384087562561\n",
            "Target: 0.01071723 -- Prediction: -0.13514602184295654\n",
            "Target: 0.023907667 -- Prediction: 0.17843401432037354\n",
            "Target: 0.040395713 -- Prediction: 0.41797029972076416\n",
            "Target: 0.055234955 -- Prediction: -0.7450889348983765\n",
            "Target: 0.066776587 -- Prediction: 0.5177398920059204\n",
            "Target: 0.084913438 -- Prediction: -0.3322814702987671\n",
            "Target: 0.111294312 -- Prediction: -0.20792090892791748\n",
            "Target: 0.124484749 -- Prediction: 0.04251420125365257\n",
            "Target: 0.144270404 -- Prediction: 0.8253351449966431\n",
            "Target: 0.167353669 -- Prediction: 0.534091591835022\n",
            "Target: 0.193734542 -- Prediction: 0.47798120975494385\n",
            "Target: 0.218466612 -- Prediction: 0.3317924737930298\n",
            "Target: 0.243198681 -- Prediction: -0.237604022026062\n",
            "Target: 0.258037923 -- Prediction: 0.145166277885437\n",
            "Target: 0.28936521 -- Prediction: 0.5434061288833618\n",
            "Target: 0.319043693 -- Prediction: 0.3101383447647095\n",
            "Target: 0.342126958 -- Prediction: 0.14611971378326416\n",
            "Target: 0.361912613 -- Prediction: 0.35142719745635986\n",
            "Target: 0.381698269 -- Prediction: 0.28022825717926025\n",
            "Target: 0.394888706 -- Prediction: 0.5553566217422485\n",
            "Target: 0.427864798 -- Prediction: 0.44901716709136963\n",
            "Target: 0.455894477 -- Prediction: 1.245449185371399\n",
            "Target: 0.470733718 -- Prediction: 0.32962095737457275\n",
            "Target: 0.483924155 -- Prediction: 0.2726818323135376\n",
            "Target: 0.505358615 -- Prediction: 0.660866379737854\n",
            "Target: 0.548227535 -- Prediction: 0.6503549814224243\n",
            "Target: 0.564715581 -- Prediction: 0.12595617771148682\n",
            "Target: 0.582852432 -- Prediction: 0.5276113748550415\n",
            "Target: 0.607584501 -- Prediction: 0.31216299533843994\n",
            "Target: 0.633965375 -- Prediction: 0.5807958841323853\n",
            "Target: 0.648804617 -- Prediction: 0.14471042156219482\n",
            "Target: 0.671887881 -- Prediction: 0.8796983957290649\n",
            "Target: 0.688375927 -- Prediction: -0.745726466178894\n",
            "Target: 0.704863974 -- Prediction: 0.3410888910293579\n",
            "Target: 0.731244847 -- Prediction: 0.4829307794570923\n",
            "Target: 0.747732894 -- Prediction: 0.3216444253921509\n",
            "Target: 0.772464963 -- Prediction: 0.5011383295059204\n",
            "Target: 0.788953009 -- Prediction: 0.47111666202545166\n",
            "Target: 0.805441055 -- Prediction: 1.0540927648544312\n"
          ]
        }
      ]
    },
    {
      "cell_type": "code",
      "source": [
        "\n",
        "# Plot training & validation loss values\n",
        "plt.figure(figsize=(10, 5))\n",
        "plt.plot(history.history['loss'])\n",
        "plt.plot(history.history['val_loss'])\n",
        "plt.title('Model loss')\n",
        "plt.ylabel('Loss')\n",
        "plt.xlabel('Epoch')\n",
        "plt.yscale(\"log\")\n",
        "plt.legend(['Train', 'Validation'], loc='upper right')\n",
        "plt.show()"
      ],
      "metadata": {
        "colab": {
          "base_uri": "https://localhost:8080/",
          "height": 487
        },
        "id": "OLhpTR8xoarG",
        "outputId": "efc45fb0-6b58-45b0-8ba3-3062223eb467"
      },
      "execution_count": null,
      "outputs": [
        {
          "output_type": "display_data",
          "data": {
            "text/plain": [
              "<Figure size 1000x500 with 1 Axes>"
            ],
            "image/png": "[encoded data removed]"
          },
          "metadata": {}
        }
      ]
    },
    {
      "cell_type": "markdown",
      "source": [],
      "metadata": {
        "id": "3rtWK-ao9Rt-"
      }
    }
  ]
}